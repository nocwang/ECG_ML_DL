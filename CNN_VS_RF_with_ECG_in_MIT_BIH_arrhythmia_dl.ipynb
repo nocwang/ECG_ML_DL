{
  "nbformat": 4,
  "nbformat_minor": 0,
  "metadata": {
    "kernelspec": {
      "display_name": "Python 3",
      "language": "python",
      "name": "python3"
    },
    "language_info": {
      "codemirror_mode": {
        "name": "ipython",
        "version": 3
      },
      "file_extension": ".py",
      "mimetype": "text/x-python",
      "name": "python",
      "nbconvert_exporter": "python",
      "pygments_lexer": "ipython3",
      "version": "3.7.5"
    },
    "colab": {
      "name": "CNN VS RF with ECG in MIT-BIH-arrhythmia-dl.ipynb",
      "provenance": [],
      "collapsed_sections": []
    }
  },
  "cells": [
    {
      "cell_type": "markdown",
      "metadata": {
        "id": "5_-qXIiN1CQs"
      },
      "source": [
        "https://github.com/csaguiar/arrhythmia-detection/blob/master/MIT-BIH-arrhythmia-dl.ipynb"
      ]
    },
    {
      "cell_type": "markdown",
      "metadata": {
        "id": "l-tdkAEqz2Qb"
      },
      "source": [
        "# Detecting arrythmia using Deep Leaning"
      ]
    },
    {
      "cell_type": "markdown",
      "metadata": {
        "id": "faPWhj7Zz2Qj"
      },
      "source": [
        "## Loading modules"
      ]
    },
    {
      "cell_type": "code",
      "metadata": {
        "colab": {
          "base_uri": "https://localhost:8080/"
        },
        "id": "B067XD660Hio",
        "outputId": "50d2654b-b3fc-4221-e624-724db49ceeac"
      },
      "source": [
        "!pip install wfdb wget"
      ],
      "execution_count": 1,
      "outputs": [
        {
          "output_type": "stream",
          "text": [
            "Requirement already satisfied: wfdb in /usr/local/lib/python3.7/dist-packages (3.3.0)\n",
            "Requirement already satisfied: wget in /usr/local/lib/python3.7/dist-packages (3.2)\n",
            "Requirement already satisfied: kiwisolver>=1.1.0 in /usr/local/lib/python3.7/dist-packages (from wfdb) (1.3.1)\n",
            "Requirement already satisfied: pytz>=2017.2 in /usr/local/lib/python3.7/dist-packages (from wfdb) (2018.9)\n",
            "Requirement already satisfied: threadpoolctl>=1.0.0 in /usr/local/lib/python3.7/dist-packages (from wfdb) (2.1.0)\n",
            "Requirement already satisfied: joblib>=0.11 in /usr/local/lib/python3.7/dist-packages (from wfdb) (1.0.1)\n",
            "Requirement already satisfied: scikit-learn>=0.18 in /usr/local/lib/python3.7/dist-packages (from wfdb) (0.22.2.post1)\n",
            "Requirement already satisfied: scipy>=0.17.0 in /usr/local/lib/python3.7/dist-packages (from wfdb) (1.4.1)\n",
            "Requirement already satisfied: numpy>=1.10.1 in /usr/local/lib/python3.7/dist-packages (from wfdb) (1.19.5)\n",
            "Requirement already satisfied: python-dateutil>=2.4.2 in /usr/local/lib/python3.7/dist-packages (from wfdb) (2.8.1)\n",
            "Requirement already satisfied: cycler>=0.10.0 in /usr/local/lib/python3.7/dist-packages (from wfdb) (0.10.0)\n",
            "Requirement already satisfied: urllib3>=1.22 in /usr/local/lib/python3.7/dist-packages (from wfdb) (1.24.3)\n",
            "Requirement already satisfied: pyparsing>=2.0.4 in /usr/local/lib/python3.7/dist-packages (from wfdb) (2.4.7)\n",
            "Requirement already satisfied: pandas>=0.17.0 in /usr/local/lib/python3.7/dist-packages (from wfdb) (1.1.5)\n",
            "Requirement already satisfied: requests>=2.8.1 in /usr/local/lib/python3.7/dist-packages (from wfdb) (2.23.0)\n",
            "Requirement already satisfied: idna>=2.2 in /usr/local/lib/python3.7/dist-packages (from wfdb) (2.10)\n",
            "Requirement already satisfied: matplotlib>=2.0.0 in /usr/local/lib/python3.7/dist-packages (from wfdb) (3.2.2)\n",
            "Requirement already satisfied: chardet>=3.0.0 in /usr/local/lib/python3.7/dist-packages (from wfdb) (3.0.4)\n",
            "Requirement already satisfied: certifi>=2016.8.2 in /usr/local/lib/python3.7/dist-packages (from wfdb) (2020.12.5)\n",
            "Requirement already satisfied: six>=1.5 in /usr/local/lib/python3.7/dist-packages (from python-dateutil>=2.4.2->wfdb) (1.15.0)\n"
          ],
          "name": "stdout"
        }
      ]
    },
    {
      "cell_type": "code",
      "metadata": {
        "id": "ctxMQITmz2Qk"
      },
      "source": [
        "import pandas as pd\n",
        "import numpy as np\n",
        "import wfdb\n",
        "from sklearn.model_selection import train_test_split\n",
        "from sklearn.preprocessing import StandardScaler\n",
        "import matplotlib.pyplot as plt\n",
        "from pathlib import Path"
      ],
      "execution_count": 2,
      "outputs": []
    },
    {
      "cell_type": "code",
      "metadata": {
        "id": "2vrFYiFYz2Qk"
      },
      "source": [
        "from keras.models import Sequential\n",
        "from keras.layers import Conv1D, LSTM, Dense, Dropout, TimeDistributed\n",
        "from keras.optimizers import Adam"
      ],
      "execution_count": 3,
      "outputs": []
    },
    {
      "cell_type": "code",
      "metadata": {
        "id": "lrK-IvRhz2Qm"
      },
      "source": [
        "import matplotlib.pyplot as plt"
      ],
      "execution_count": 4,
      "outputs": []
    },
    {
      "cell_type": "markdown",
      "metadata": {
        "id": "yO6MTKrkz2Qm"
      },
      "source": [
        "## Download Dataset"
      ]
    },
    {
      "cell_type": "code",
      "metadata": {
        "id": "ckW9ek-Hz2Qm"
      },
      "source": [
        "import wget\n",
        "import zipfile\n",
        "\n",
        "database_filename = \"mit-bih-arrhythmia-database-1.0.0.zip\"\n",
        "database_path = Path(database_filename)\n",
        "\n",
        "if not database_path.exists():\n",
        "    url = f'https://storage.googleapis.com/mitdb-1.0.0.physionet.org/{database_filename}'\n",
        "    wget.download(url)\n",
        "    with zipfile.ZipFile(database_filename, 'r') as zip_ref:\n",
        "        zip_ref.extractall(\".\")"
      ],
      "execution_count": 5,
      "outputs": []
    },
    {
      "cell_type": "markdown",
      "metadata": {
        "id": "k3T3s-P4z2Qn"
      },
      "source": [
        "## Loading data"
      ]
    },
    {
      "cell_type": "markdown",
      "metadata": {
        "id": "PbdX3p25z2Qn"
      },
      "source": [
        "Loading list of records available, from dataset available [here](https://physionet.org/content/mitdb/1.0.0/)"
      ]
    },
    {
      "cell_type": "code",
      "metadata": {
        "id": "0K5_I7xLz2Qn"
      },
      "source": [
        "records = np.loadtxt(\"mit-bih-arrhythmia-database-1.0.0/RECORDS\", dtype=int)"
      ],
      "execution_count": 6,
      "outputs": []
    },
    {
      "cell_type": "markdown",
      "metadata": {
        "id": "KYg6oH_uz2Qo"
      },
      "source": [
        "Defining invalid beats as well as abnormal beats, according to [Physiobank](https://archive.physionet.org/physiobank/annotations.shtml)"
      ]
    },
    {
      "cell_type": "code",
      "metadata": {
        "id": "KRnmU7ZKz2Qo"
      },
      "source": [
        "invalid_beat = [\n",
        "    \"[\", \"!\", \"]\", \"x\", \"(\", \")\", \"p\", \"t\", \n",
        "    \"u\", \"`\", \"'\", \"^\", \"|\", \"~\", \"+\", \"s\", \n",
        "    \"T\", \"*\", \"D\", \"=\", '\"', \"@\"\n",
        "]\n",
        "\n",
        "abnormal_beats = [\n",
        "    \"L\", \"R\", \"B\", \"A\", \"a\", \"J\", \"S\", \"V\", \n",
        "    \"r\", \"F\", \"e\", \"j\", \"n\", \"E\", \"/\", \"f\", \"Q\", \"?\"\n",
        "]"
      ],
      "execution_count": 7,
      "outputs": []
    },
    {
      "cell_type": "markdown",
      "metadata": {
        "id": "sWF7cdarz2Qo"
      },
      "source": [
        "## Processing dataset"
      ]
    },
    {
      "cell_type": "markdown",
      "metadata": {
        "id": "jIVA--Ldz2Qo"
      },
      "source": [
        "This function classify a beat according to its symbol and the list provided above."
      ]
    },
    {
      "cell_type": "code",
      "metadata": {
        "id": "eG9ATH1cz2Qp"
      },
      "source": [
        "def classify_beat(symbol):\n",
        "    if symbol in abnormal_beats:\n",
        "        return 1\n",
        "    elif symbol == \"N\" or symbol == \".\":\n",
        "        return 0    "
      ],
      "execution_count": 8,
      "outputs": []
    },
    {
      "cell_type": "markdown",
      "metadata": {
        "id": "RfbH6Nf8z2Qp"
      },
      "source": [
        "Given a signal, the beat location, and the window to be used as a sequence, this function gets the sequence. It will return an empty array in case of an invalid beat or empty sequence."
      ]
    },
    {
      "cell_type": "code",
      "metadata": {
        "id": "eeqhNfPNz2Qp"
      },
      "source": [
        "def get_sequence(signal, beat_loc, window_sec, fs):\n",
        "    window_one_side = window_sec * fs\n",
        "    beat_start = beat_loc - window_one_side\n",
        "    beat_end = beat_loc + window_one_side\n",
        "    if beat_end < signal.shape[0]:\n",
        "        sequence = signal[beat_start:beat_end, 0]\n",
        "        return sequence.reshape(1, -1, 1)\n",
        "    else:\n",
        "        return np.array([])"
      ],
      "execution_count": 9,
      "outputs": []
    },
    {
      "cell_type": "markdown",
      "metadata": {
        "id": "pAOPVif0z2Qp"
      },
      "source": [
        "The code below will build a list of labels and sequences as well as map the sequences for each patient. The percentage calculated represents the ratio of abnormal beats in each patient data."
      ]
    },
    {
      "cell_type": "code",
      "metadata": {
        "id": "RrymeHxWz2Qp"
      },
      "source": [
        "all_sequences = []\n",
        "all_labels = []\n",
        "window_sec = 3\n",
        "subject_map = []\n",
        "for subject in records:\n",
        "    record = wfdb.rdrecord(f'mit-bih-arrhythmia-database-1.0.0/{subject}')\n",
        "    annotation = wfdb.rdann(f'mit-bih-arrhythmia-database-1.0.0/{subject}', 'atr')\n",
        "    atr_symbol = annotation.symbol\n",
        "    atr_sample = annotation.sample\n",
        "    fs = record.fs\n",
        "    scaler = StandardScaler()\n",
        "    signal = scaler.fit_transform(record.p_signal)\n",
        "    subject_labels = []\n",
        "    for i, i_sample in enumerate(atr_sample):\n",
        "        label = classify_beat(atr_symbol[i])\n",
        "        sequence = get_sequence(signal, i_sample, window_sec, fs)\n",
        "        if label is not None and sequence.size > 0:\n",
        "            all_sequences.append(sequence)\n",
        "            subject_labels.append(label)\n",
        "\n",
        "    normal_percentage = sum(subject_labels) / len(subject_labels)\n",
        "    subject_map.append({\n",
        "        \"subject\": subject,\n",
        "        \"percentage\": normal_percentage,\n",
        "        \"num_seq\": len(subject_labels),\n",
        "        \"start\": len(all_labels),\n",
        "        \"end\": len(all_labels)+len(subject_labels)\n",
        "    })\n",
        "    all_labels.extend(subject_labels)"
      ],
      "execution_count": 10,
      "outputs": []
    },
    {
      "cell_type": "code",
      "metadata": {
        "colab": {
          "base_uri": "https://localhost:8080/"
        },
        "id": "KaxO0Bkn5DvP",
        "outputId": "7ab53109-9693-4acf-a4e8-960c3df05915"
      },
      "source": [
        "pd.Series(all_labels).describe()"
      ],
      "execution_count": 11,
      "outputs": [
        {
          "output_type": "execute_result",
          "data": {
            "text/plain": [
              "count    109132.000000\n",
              "mean          0.314637\n",
              "std           0.464373\n",
              "min           0.000000\n",
              "25%           0.000000\n",
              "50%           0.000000\n",
              "75%           1.000000\n",
              "max           1.000000\n",
              "dtype: float64"
            ]
          },
          "metadata": {
            "tags": []
          },
          "execution_count": 11
        }
      ]
    },
    {
      "cell_type": "code",
      "metadata": {
        "colab": {
          "base_uri": "https://localhost:8080/"
        },
        "id": "ific8qNi5lQa",
        "outputId": "0416032a-a7af-4ed9-959d-0eb2f9a14c4e"
      },
      "source": [
        "all_sequences[0:3]"
      ],
      "execution_count": 12,
      "outputs": [
        {
          "output_type": "execute_result",
          "data": {
            "text/plain": [
              "[array([[[-0.17443635],\n",
              "         [-0.14855637],\n",
              "         [-0.12267639],\n",
              "         ...,\n",
              "         [-0.27795626],\n",
              "         [-0.22619631],\n",
              "         [-0.17443635]]]), array([[[-0.43323614],\n",
              "         [-0.45911611],\n",
              "         [-0.53675605],\n",
              "         ...,\n",
              "         [-0.17443635],\n",
              "         [-0.14855637],\n",
              "         [-0.12267639]]]), array([[[-0.48499609],\n",
              "         [-0.53675605],\n",
              "         [-0.61439599],\n",
              "         ...,\n",
              "         [-0.12267639],\n",
              "         [-0.12267639],\n",
              "         [-0.17443635]]])]"
            ]
          },
          "metadata": {
            "tags": []
          },
          "execution_count": 12
        }
      ]
    },
    {
      "cell_type": "code",
      "metadata": {
        "colab": {
          "base_uri": "https://localhost:8080/"
        },
        "id": "ArJ-Ayf55abR",
        "outputId": "6a41eb03-414f-4f3d-bc7f-7e3b9c141464"
      },
      "source": [
        "for i in [0,1,2]:\r\n",
        "  print(all_sequences[i].shape)"
      ],
      "execution_count": 13,
      "outputs": [
        {
          "output_type": "stream",
          "text": [
            "(1, 2160, 1)\n",
            "(1, 2160, 1)\n",
            "(1, 2160, 1)\n"
          ],
          "name": "stdout"
        }
      ]
    },
    {
      "cell_type": "markdown",
      "metadata": {
        "id": "0L1dOwHwz2Qq"
      },
      "source": [
        "Creating bins to be used to stratify the train and validation split. "
      ]
    },
    {
      "cell_type": "code",
      "metadata": {
        "id": "HWftZsGzz2Qq"
      },
      "source": [
        "subject_map = pd.DataFrame(subject_map)"
      ],
      "execution_count": 14,
      "outputs": []
    },
    {
      "cell_type": "code",
      "metadata": {
        "colab": {
          "base_uri": "https://localhost:8080/",
          "height": 195
        },
        "id": "Qh6krm4a0t8G",
        "outputId": "7729dc8e-ac83-4fa2-e155-34071f182587"
      },
      "source": [
        "subject_map.head()"
      ],
      "execution_count": 15,
      "outputs": [
        {
          "output_type": "execute_result",
          "data": {
            "text/html": [
              "<div>\n",
              "<style scoped>\n",
              "    .dataframe tbody tr th:only-of-type {\n",
              "        vertical-align: middle;\n",
              "    }\n",
              "\n",
              "    .dataframe tbody tr th {\n",
              "        vertical-align: top;\n",
              "    }\n",
              "\n",
              "    .dataframe thead th {\n",
              "        text-align: right;\n",
              "    }\n",
              "</style>\n",
              "<table border=\"1\" class=\"dataframe\">\n",
              "  <thead>\n",
              "    <tr style=\"text-align: right;\">\n",
              "      <th></th>\n",
              "      <th>subject</th>\n",
              "      <th>percentage</th>\n",
              "      <th>num_seq</th>\n",
              "      <th>start</th>\n",
              "      <th>end</th>\n",
              "    </tr>\n",
              "  </thead>\n",
              "  <tbody>\n",
              "    <tr>\n",
              "      <th>0</th>\n",
              "      <td>100</td>\n",
              "      <td>0.015018</td>\n",
              "      <td>2264</td>\n",
              "      <td>0</td>\n",
              "      <td>2264</td>\n",
              "    </tr>\n",
              "    <tr>\n",
              "      <th>1</th>\n",
              "      <td>101</td>\n",
              "      <td>0.002691</td>\n",
              "      <td>1858</td>\n",
              "      <td>2264</td>\n",
              "      <td>4122</td>\n",
              "    </tr>\n",
              "    <tr>\n",
              "      <th>2</th>\n",
              "      <td>102</td>\n",
              "      <td>0.954566</td>\n",
              "      <td>2179</td>\n",
              "      <td>4122</td>\n",
              "      <td>6301</td>\n",
              "    </tr>\n",
              "    <tr>\n",
              "      <th>3</th>\n",
              "      <td>103</td>\n",
              "      <td>0.000962</td>\n",
              "      <td>2078</td>\n",
              "      <td>6301</td>\n",
              "      <td>8379</td>\n",
              "    </tr>\n",
              "    <tr>\n",
              "      <th>4</th>\n",
              "      <td>104</td>\n",
              "      <td>0.926610</td>\n",
              "      <td>2221</td>\n",
              "      <td>8379</td>\n",
              "      <td>10600</td>\n",
              "    </tr>\n",
              "  </tbody>\n",
              "</table>\n",
              "</div>"
            ],
            "text/plain": [
              "   subject  percentage  num_seq  start    end\n",
              "0      100    0.015018     2264      0   2264\n",
              "1      101    0.002691     1858   2264   4122\n",
              "2      102    0.954566     2179   4122   6301\n",
              "3      103    0.000962     2078   6301   8379\n",
              "4      104    0.926610     2221   8379  10600"
            ]
          },
          "metadata": {
            "tags": []
          },
          "execution_count": 15
        }
      ]
    },
    {
      "cell_type": "markdown",
      "metadata": {
        "id": "5P24mhKLz2Qq"
      },
      "source": [
        "The code presented will create class in each patient is segmented."
      ]
    },
    {
      "cell_type": "code",
      "metadata": {
        "id": "OTWcanA2z2Qq",
        "colab": {
          "base_uri": "https://localhost:8080/",
          "height": 195
        },
        "outputId": "ac0cf8ed-04b3-4ca5-cbd2-32bf3ebc1c4a"
      },
      "source": [
        "bins = [0, 0.2, 0.6, 1.0]\n",
        "subject_map[\"bin\"] = pd.cut(subject_map['percentage'], bins=bins, labels=False, include_lowest=True)\n",
        "subject_map.head()"
      ],
      "execution_count": 16,
      "outputs": [
        {
          "output_type": "execute_result",
          "data": {
            "text/html": [
              "<div>\n",
              "<style scoped>\n",
              "    .dataframe tbody tr th:only-of-type {\n",
              "        vertical-align: middle;\n",
              "    }\n",
              "\n",
              "    .dataframe tbody tr th {\n",
              "        vertical-align: top;\n",
              "    }\n",
              "\n",
              "    .dataframe thead th {\n",
              "        text-align: right;\n",
              "    }\n",
              "</style>\n",
              "<table border=\"1\" class=\"dataframe\">\n",
              "  <thead>\n",
              "    <tr style=\"text-align: right;\">\n",
              "      <th></th>\n",
              "      <th>subject</th>\n",
              "      <th>percentage</th>\n",
              "      <th>num_seq</th>\n",
              "      <th>start</th>\n",
              "      <th>end</th>\n",
              "      <th>bin</th>\n",
              "    </tr>\n",
              "  </thead>\n",
              "  <tbody>\n",
              "    <tr>\n",
              "      <th>0</th>\n",
              "      <td>100</td>\n",
              "      <td>0.015018</td>\n",
              "      <td>2264</td>\n",
              "      <td>0</td>\n",
              "      <td>2264</td>\n",
              "      <td>0</td>\n",
              "    </tr>\n",
              "    <tr>\n",
              "      <th>1</th>\n",
              "      <td>101</td>\n",
              "      <td>0.002691</td>\n",
              "      <td>1858</td>\n",
              "      <td>2264</td>\n",
              "      <td>4122</td>\n",
              "      <td>0</td>\n",
              "    </tr>\n",
              "    <tr>\n",
              "      <th>2</th>\n",
              "      <td>102</td>\n",
              "      <td>0.954566</td>\n",
              "      <td>2179</td>\n",
              "      <td>4122</td>\n",
              "      <td>6301</td>\n",
              "      <td>2</td>\n",
              "    </tr>\n",
              "    <tr>\n",
              "      <th>3</th>\n",
              "      <td>103</td>\n",
              "      <td>0.000962</td>\n",
              "      <td>2078</td>\n",
              "      <td>6301</td>\n",
              "      <td>8379</td>\n",
              "      <td>0</td>\n",
              "    </tr>\n",
              "    <tr>\n",
              "      <th>4</th>\n",
              "      <td>104</td>\n",
              "      <td>0.926610</td>\n",
              "      <td>2221</td>\n",
              "      <td>8379</td>\n",
              "      <td>10600</td>\n",
              "      <td>2</td>\n",
              "    </tr>\n",
              "  </tbody>\n",
              "</table>\n",
              "</div>"
            ],
            "text/plain": [
              "   subject  percentage  num_seq  start    end  bin\n",
              "0      100    0.015018     2264      0   2264    0\n",
              "1      101    0.002691     1858   2264   4122    0\n",
              "2      102    0.954566     2179   4122   6301    2\n",
              "3      103    0.000962     2078   6301   8379    0\n",
              "4      104    0.926610     2221   8379  10600    2"
            ]
          },
          "metadata": {
            "tags": []
          },
          "execution_count": 16
        }
      ]
    },
    {
      "cell_type": "code",
      "metadata": {
        "colab": {
          "base_uri": "https://localhost:8080/",
          "height": 284
        },
        "id": "ylofg9Mz4pcR",
        "outputId": "80d67d6f-5008-45a3-82c2-68e2df300cbe"
      },
      "source": [
        "subject_map.describe()"
      ],
      "execution_count": 17,
      "outputs": [
        {
          "output_type": "execute_result",
          "data": {
            "text/html": [
              "<div>\n",
              "<style scoped>\n",
              "    .dataframe tbody tr th:only-of-type {\n",
              "        vertical-align: middle;\n",
              "    }\n",
              "\n",
              "    .dataframe tbody tr th {\n",
              "        vertical-align: top;\n",
              "    }\n",
              "\n",
              "    .dataframe thead th {\n",
              "        text-align: right;\n",
              "    }\n",
              "</style>\n",
              "<table border=\"1\" class=\"dataframe\">\n",
              "  <thead>\n",
              "    <tr style=\"text-align: right;\">\n",
              "      <th></th>\n",
              "      <th>subject</th>\n",
              "      <th>percentage</th>\n",
              "      <th>num_seq</th>\n",
              "      <th>start</th>\n",
              "      <th>end</th>\n",
              "      <th>bin</th>\n",
              "    </tr>\n",
              "  </thead>\n",
              "  <tbody>\n",
              "    <tr>\n",
              "      <th>count</th>\n",
              "      <td>48.000000</td>\n",
              "      <td>48.000000</td>\n",
              "      <td>48.000000</td>\n",
              "      <td>48.000000</td>\n",
              "      <td>48.000000</td>\n",
              "      <td>48.000000</td>\n",
              "    </tr>\n",
              "    <tr>\n",
              "      <th>mean</th>\n",
              "      <td>166.229167</td>\n",
              "      <td>0.324887</td>\n",
              "      <td>2273.583333</td>\n",
              "      <td>51641.520833</td>\n",
              "      <td>53915.104167</td>\n",
              "      <td>0.666667</td>\n",
              "    </tr>\n",
              "    <tr>\n",
              "      <th>std</th>\n",
              "      <td>53.622494</td>\n",
              "      <td>0.395465</td>\n",
              "      <td>450.785784</td>\n",
              "      <td>31914.617065</td>\n",
              "      <td>32044.416846</td>\n",
              "      <td>0.883256</td>\n",
              "    </tr>\n",
              "    <tr>\n",
              "      <th>min</th>\n",
              "      <td>100.000000</td>\n",
              "      <td>0.000000</td>\n",
              "      <td>1512.000000</td>\n",
              "      <td>0.000000</td>\n",
              "      <td>2264.000000</td>\n",
              "      <td>0.000000</td>\n",
              "    </tr>\n",
              "    <tr>\n",
              "      <th>25%</th>\n",
              "      <td>112.750000</td>\n",
              "      <td>0.017210</td>\n",
              "      <td>1954.250000</td>\n",
              "      <td>25611.250000</td>\n",
              "      <td>27585.000000</td>\n",
              "      <td>0.000000</td>\n",
              "    </tr>\n",
              "    <tr>\n",
              "      <th>50%</th>\n",
              "      <td>200.500000</td>\n",
              "      <td>0.157546</td>\n",
              "      <td>2211.500000</td>\n",
              "      <td>48781.500000</td>\n",
              "      <td>51056.500000</td>\n",
              "      <td>0.000000</td>\n",
              "    </tr>\n",
              "    <tr>\n",
              "      <th>75%</th>\n",
              "      <td>215.500000</td>\n",
              "      <td>0.698289</td>\n",
              "      <td>2571.250000</td>\n",
              "      <td>79289.250000</td>\n",
              "      <td>82354.500000</td>\n",
              "      <td>2.000000</td>\n",
              "    </tr>\n",
              "    <tr>\n",
              "      <th>max</th>\n",
              "      <td>234.000000</td>\n",
              "      <td>1.000000</td>\n",
              "      <td>3353.000000</td>\n",
              "      <td>106387.000000</td>\n",
              "      <td>109132.000000</td>\n",
              "      <td>2.000000</td>\n",
              "    </tr>\n",
              "  </tbody>\n",
              "</table>\n",
              "</div>"
            ],
            "text/plain": [
              "          subject  percentage  ...            end        bin\n",
              "count   48.000000   48.000000  ...      48.000000  48.000000\n",
              "mean   166.229167    0.324887  ...   53915.104167   0.666667\n",
              "std     53.622494    0.395465  ...   32044.416846   0.883256\n",
              "min    100.000000    0.000000  ...    2264.000000   0.000000\n",
              "25%    112.750000    0.017210  ...   27585.000000   0.000000\n",
              "50%    200.500000    0.157546  ...   51056.500000   0.000000\n",
              "75%    215.500000    0.698289  ...   82354.500000   2.000000\n",
              "max    234.000000    1.000000  ...  109132.000000   2.000000\n",
              "\n",
              "[8 rows x 6 columns]"
            ]
          },
          "metadata": {
            "tags": []
          },
          "execution_count": 17
        }
      ]
    },
    {
      "cell_type": "markdown",
      "metadata": {
        "id": "J7qLSBGOz2Qq"
      },
      "source": [
        "Now, the dataset is split into train and validation, stratifying by the bin defined above."
      ]
    },
    {
      "cell_type": "code",
      "metadata": {
        "id": "RmFFkc2pz2Qr"
      },
      "source": [
        "train, validation = train_test_split(subject_map, test_size=0.25, stratify=subject_map[\"bin\"], random_state=42)"
      ],
      "execution_count": 18,
      "outputs": []
    },
    {
      "cell_type": "markdown",
      "metadata": {
        "id": "RKtCw0Kuz2Qr"
      },
      "source": [
        "This function build a dataset based on the map for each split."
      ]
    },
    {
      "cell_type": "code",
      "metadata": {
        "id": "8mLxchBYz2Qr"
      },
      "source": [
        "def build_dataset(df, all_sequences, all_labels):\n",
        "    sequences = []\n",
        "    labels = []\n",
        "    for i, row in df.iterrows():\n",
        "        start = int(row[\"start\"])\n",
        "        end = int(row[\"end\"])\n",
        "        sequences.extend(all_sequences[start:end])\n",
        "        labels.extend(all_labels[start:end])\n",
        "        \n",
        "    return np.vstack(sequences), np.vstack(labels)"
      ],
      "execution_count": 19,
      "outputs": []
    },
    {
      "cell_type": "code",
      "metadata": {
        "id": "1iFeGFyiz2Qr"
      },
      "source": [
        "X_train, y_train = build_dataset(train, all_sequences, all_labels)\n",
        "X_val, y_val = build_dataset(validation, all_sequences, all_labels)"
      ],
      "execution_count": 20,
      "outputs": []
    },
    {
      "cell_type": "code",
      "metadata": {
        "id": "UCvvZOd1z2Qr",
        "colab": {
          "base_uri": "https://localhost:8080/"
        },
        "outputId": "bb2f926a-96a4-45b2-e202-78e158cc21cf"
      },
      "source": [
        "X_train.shape, y_train.shape"
      ],
      "execution_count": 21,
      "outputs": [
        {
          "output_type": "execute_result",
          "data": {
            "text/plain": [
              "((82873, 2160, 1), (82873, 1))"
            ]
          },
          "metadata": {
            "tags": []
          },
          "execution_count": 21
        }
      ]
    },
    {
      "cell_type": "code",
      "metadata": {
        "colab": {
          "base_uri": "https://localhost:8080/"
        },
        "id": "xg-GFqG0821G",
        "outputId": "fb67425d-abe0-4a56-9ae1-d9ea22706e6e"
      },
      "source": [
        "X_train[:, :, 0].shape   "
      ],
      "execution_count": 22,
      "outputs": [
        {
          "output_type": "execute_result",
          "data": {
            "text/plain": [
              "(82873, 2160)"
            ]
          },
          "metadata": {
            "tags": []
          },
          "execution_count": 22
        }
      ]
    },
    {
      "cell_type": "markdown",
      "metadata": {
        "id": "FbEaGAvdz2Qs"
      },
      "source": [
        "## Training the model"
      ]
    },
    {
      "cell_type": "markdown",
      "metadata": {
        "id": "oZ49i6IqCoO5"
      },
      "source": [
        "For small datasets, ‘liblinear’ is a good choice, whereas ‘sag’ and ‘saga’ are faster for large ones.\r\n",
        "\r\n",
        "For multiclass problems, only ‘newton-cg’, ‘sag’, ‘saga’ and ‘lbfgs’ handle multinomial loss; ‘liblinear’ is limited to one-versus-rest schemes.\r\n",
        "\r\n",
        "‘newton-cg’, ‘lbfgs’, ‘sag’ and ‘saga’ handle L2 or no penalty\r\n",
        "\r\n",
        "‘liblinear’ and ‘saga’ also handle L1 penalty\r\n",
        "\r\n",
        "‘saga’ also supports ‘elasticnet’ penalty\r\n",
        "\r\n",
        "‘liblinear’ does not support setting penalty='none'"
      ]
    },
    {
      "cell_type": "code",
      "metadata": {
        "id": "s58AgF2Y769M"
      },
      "source": [
        "from sklearn.linear_model import LogisticRegression\r\n",
        "import numpy as np\r\n",
        "import pandas as pd\r\n",
        "from sklearn.metrics import average_precision_score, roc_auc_score\r\n",
        "from sklearn.metrics import roc_curve, auc, accuracy_score  # log_loss\r\n",
        "from sklearn.model_selection import KFold, train_test_split, GridSearchCV\r\n",
        "from sklearn.preprocessing import StandardScaler\r\n",
        "from sklearn.metrics import accuracy_score, precision_score, recall_score\r\n",
        "\r\n",
        "def print_stats(preds, labels):\r\n",
        "  print(\"Accuracy = {}\".format(accuracy_score(labels, preds)))\r\n",
        "  print(\"Precision = {}\".format(precision_score(labels, preds)))\r\n",
        "  print(\"Recall = {}\".format(recall_score(labels, preds)))\r\n",
        "\r\n",
        "def gs(X, y, m, param, scoring, cv, n_jobs):\r\n",
        "    GridSearch = GridSearchCV(m, param, scoring=scoring, cv=cv, n_jobs=n_jobs)\r\n",
        "    GridSearch.fit(X=X, y=y)\r\n",
        "    model = GridSearch.best_estimator_\r\n",
        "    print('best_score_:', GridSearch.best_score_, GridSearch.best_params_)\r\n",
        "    return model\r\n",
        "\r\n"
      ],
      "execution_count": 32,
      "outputs": []
    },
    {
      "cell_type": "code",
      "metadata": {
        "colab": {
          "base_uri": "https://localhost:8080/"
        },
        "id": "LrHNjPPK7w0o",
        "outputId": "9877b719-0b2c-4465-9a15-01f4cdbaa6b9"
      },
      "source": [
        "from sklearn.ensemble import RandomForestClassifier \r\n",
        "def classify_RF(y, X, seed=2020, scoring='roc_auc', cv=5, n_jobs=4):\r\n",
        "    cols = X.columns\r\n",
        "    param = {\r\n",
        "        'max_features': ['sqrt', 'log2'],  # 1.0/3 \r\n",
        "             'max_depth': range(10, 14, 2)\r\n",
        "             # 'criterion' :['gini', 'entropy']\r\n",
        "             }\r\n",
        "    m = RandomForestClassifier(\r\n",
        "        n_estimators=10, random_state=seed, min_samples_split=20, class_weight=\"balanced\")\r\n",
        "    model = gs(X, y, m, param, scoring=scoring, cv=cv, n_jobs=n_jobs)\r\n",
        "    coef = pd.DataFrame(list(zip(cols, np.round(\r\n",
        "        model.feature_importances_, 2))), columns=['Variable', 'coef_'])\r\n",
        "    coef['imp'] = coef['coef_'].abs()\r\n",
        "    return model, coef.sort_values('imp', ascending=False)\r\n",
        "\r\n",
        "m_, c_ = classify_RF(y_train.ravel(), pd.DataFrame(X_train[:, :, 0]), seed=2020, scoring='accuracy', cv=4, n_jobs=2)\r\n",
        "# , c_ \r\n",
        "ytest_pred = m_.predict(X_val[:, :, 0])\r\n",
        "print_stats(ytest_pred, y_val)    \r\n",
        "m_\r\n",
        "# best_score_: 0.9102368067602846 {'max_depth': 8, 'max_features': 'auto'}\r\n",
        "# Accuracy = 0.7921855363875243\r\n",
        "# Precision = 0.6713230200877396\r\n",
        "# Recall = 0.6902077151335312\r\n",
        "\r\n",
        "# best_score_: 0.9108159200629632 {'max_depth': 10}\r\n",
        "# Accuracy = 0.8210899120301611\r\n",
        "# Precision = 0.7383906869643085\r\n",
        "# Recall = 0.6851038575667656"
      ],
      "execution_count": 42,
      "outputs": [
        {
          "output_type": "stream",
          "text": [
            "best_score_: 0.9108159200629632 {'max_depth': 10, 'max_features': 'sqrt'}\n",
            "Accuracy = 0.8210899120301611\n",
            "Precision = 0.7383906869643085\n",
            "Recall = 0.6851038575667656\n"
          ],
          "name": "stdout"
        },
        {
          "output_type": "execute_result",
          "data": {
            "text/plain": [
              "RandomForestClassifier(bootstrap=True, ccp_alpha=0.0, class_weight='balanced',\n",
              "                       criterion='gini', max_depth=10, max_features='sqrt',\n",
              "                       max_leaf_nodes=None, max_samples=None,\n",
              "                       min_impurity_decrease=0.0, min_impurity_split=None,\n",
              "                       min_samples_leaf=1, min_samples_split=20,\n",
              "                       min_weight_fraction_leaf=0.0, n_estimators=10,\n",
              "                       n_jobs=None, oob_score=False, random_state=2020,\n",
              "                       verbose=0, warm_start=False)"
            ]
          },
          "metadata": {
            "tags": []
          },
          "execution_count": 42
        }
      ]
    },
    {
      "cell_type": "code",
      "metadata": {
        "colab": {
          "base_uri": "https://localhost:8080/"
        },
        "id": "Mp_TfTgEHFlv",
        "outputId": "27a7f121-8aeb-4825-8443-7c6008b96186"
      },
      "source": [
        "!lscpu"
      ],
      "execution_count": 40,
      "outputs": [
        {
          "output_type": "stream",
          "text": [
            "Architecture:        x86_64\n",
            "CPU op-mode(s):      32-bit, 64-bit\n",
            "Byte Order:          Little Endian\n",
            "CPU(s):              2\n",
            "On-line CPU(s) list: 0,1\n",
            "Thread(s) per core:  2\n",
            "Core(s) per socket:  1\n",
            "Socket(s):           1\n",
            "NUMA node(s):        1\n",
            "Vendor ID:           AuthenticAMD\n",
            "CPU family:          23\n",
            "Model:               49\n",
            "Model name:          AMD EPYC 7B12\n",
            "Stepping:            0\n",
            "CPU MHz:             2249.998\n",
            "BogoMIPS:            4499.99\n",
            "Hypervisor vendor:   KVM\n",
            "Virtualization type: full\n",
            "L1d cache:           32K\n",
            "L1i cache:           32K\n",
            "L2 cache:            512K\n",
            "L3 cache:            16384K\n",
            "NUMA node0 CPU(s):   0,1\n",
            "Flags:               fpu vme de pse tsc msr pae mce cx8 apic sep mtrr pge mca cmov pat pse36 clflush mmx fxsr sse sse2 ht syscall nx mmxext fxsr_opt pdpe1gb rdtscp lm constant_tsc rep_good nopl xtopology nonstop_tsc cpuid extd_apicid tsc_known_freq pni pclmulqdq ssse3 fma cx16 sse4_1 sse4_2 movbe popcnt aes xsave avx f16c rdrand hypervisor lahf_lm cmp_legacy cr8_legacy abm sse4a misalignsse 3dnowprefetch osvw topoext ssbd ibrs ibpb stibp vmmcall fsgsbase tsc_adjust bmi1 avx2 smep bmi2 rdseed adx smap clflushopt clwb sha_ni xsaveopt xsavec xgetbv1 clzero xsaveerptr arat npt nrip_save umip rdpid\n"
          ],
          "name": "stdout"
        }
      ]
    },
    {
      "cell_type": "code",
      "metadata": {
        "id": "3Bas15e5ELZi"
      },
      "source": [
        "# LogisticRegression\r\n",
        "# best_score_: 0.7592099133190755 {'C': 0.1} solver='sag', tol=0.01,\r\n",
        "# Accuracy = 0.7579115731749114\r\n",
        "# Precision = 0.6668280090351726\r\n",
        "# Recall = 0.49056379821958457"
      ],
      "execution_count": null,
      "outputs": []
    },
    {
      "cell_type": "markdown",
      "metadata": {
        "id": "u0FQaT6uz2Qs"
      },
      "source": [
        "### CNN model"
      ]
    },
    {
      "cell_type": "code",
      "metadata": {
        "id": "uGTJ7HXQz2Qs",
        "colab": {
          "base_uri": "https://localhost:8080/"
        },
        "outputId": "ead5c5a8-4d34-4abd-a2df-8f4e044c6018"
      },
      "source": [
        "from keras.models import Sequential\n",
        "from keras.layers import Conv1D, Flatten, Dense, Dropout\n",
        "from keras.optimizers import Adam\n",
        "\n",
        "sequence_size = X_train.shape[1]\n",
        "n_features = 1\n",
        "\n",
        "cnn_model = Sequential([\n",
        "    Conv1D(\n",
        "        filters=8,\n",
        "        kernel_size=4,\n",
        "        strides=1,\n",
        "        input_shape=(sequence_size, n_features),\n",
        "        padding=\"same\",\n",
        "        activation=\"relu\"\n",
        "    ),\n",
        "    Flatten(),\n",
        "    Dropout(0.5),\n",
        "    Dense(\n",
        "        1,\n",
        "        activation=\"sigmoid\",\n",
        "        name=\"output\",\n",
        "    )\n",
        "])\n",
        "\n",
        "optimizer = Adam(lr=0.001)\n",
        "# Compiling the model\n",
        "cnn_model.compile(\n",
        "    optimizer=optimizer,\n",
        "    loss=\"binary_crossentropy\",\n",
        "    metrics=[\"accuracy\"]\n",
        ")\n",
        "cnn_model.summary()"
      ],
      "execution_count": 25,
      "outputs": [
        {
          "output_type": "stream",
          "text": [
            "Model: \"sequential\"\n",
            "_________________________________________________________________\n",
            "Layer (type)                 Output Shape              Param #   \n",
            "=================================================================\n",
            "conv1d (Conv1D)              (None, 2160, 8)           40        \n",
            "_________________________________________________________________\n",
            "flatten (Flatten)            (None, 17280)             0         \n",
            "_________________________________________________________________\n",
            "dropout (Dropout)            (None, 17280)             0         \n",
            "_________________________________________________________________\n",
            "output (Dense)               (None, 1)                 17281     \n",
            "=================================================================\n",
            "Total params: 17,321\n",
            "Trainable params: 17,321\n",
            "Non-trainable params: 0\n",
            "_________________________________________________________________\n"
          ],
          "name": "stdout"
        }
      ]
    },
    {
      "cell_type": "code",
      "metadata": {
        "id": "VwuLfG8Rz2Qs",
        "colab": {
          "base_uri": "https://localhost:8080/"
        },
        "outputId": "6c8b53fd-32fb-420c-a35d-c3e4b4a43ae1"
      },
      "source": [
        "hist_cnn = cnn_model.fit(\n",
        "    X_train, \n",
        "    y_train, \n",
        "    batch_size=128,\n",
        "    epochs=5,\n",
        "    validation_data=(X_val, y_val)\n",
        ")"
      ],
      "execution_count": 29,
      "outputs": [
        {
          "output_type": "stream",
          "text": [
            "Epoch 1/5\n",
            "648/648 [==============================] - 47s 72ms/step - loss: 0.1290 - accuracy: 0.9590 - val_loss: 0.5983 - val_accuracy: 0.8356\n",
            "Epoch 2/5\n",
            "648/648 [==============================] - 47s 72ms/step - loss: 0.1274 - accuracy: 0.9599 - val_loss: 0.6151 - val_accuracy: 0.8227\n",
            "Epoch 3/5\n",
            "648/648 [==============================] - 47s 73ms/step - loss: 0.1251 - accuracy: 0.9602 - val_loss: 0.6043 - val_accuracy: 0.8318\n",
            "Epoch 4/5\n",
            "648/648 [==============================] - 47s 72ms/step - loss: 0.1218 - accuracy: 0.9623 - val_loss: 0.6366 - val_accuracy: 0.8265\n",
            "Epoch 5/5\n",
            "648/648 [==============================] - 47s 72ms/step - loss: 0.1201 - accuracy: 0.9619 - val_loss: 0.6663 - val_accuracy: 0.8236\n"
          ],
          "name": "stdout"
        }
      ]
    },
    {
      "cell_type": "code",
      "metadata": {
        "id": "lAjhjkTsz2Qt",
        "colab": {
          "base_uri": "https://localhost:8080/"
        },
        "outputId": "6f5a24e8-d320-4761-f8ff-820599b7b9ae"
      },
      "source": [
        "cnn_model.evaluate(X_val, y_val)"
      ],
      "execution_count": 30,
      "outputs": [
        {
          "output_type": "stream",
          "text": [
            "821/821 [==============================] - 6s 8ms/step - loss: 0.6663 - accuracy: 0.8236\n"
          ],
          "name": "stdout"
        },
        {
          "output_type": "execute_result",
          "data": {
            "text/plain": [
              "[0.6663442254066467, 0.8236033320426941]"
            ]
          },
          "metadata": {
            "tags": []
          },
          "execution_count": 30
        }
      ]
    },
    {
      "cell_type": "code",
      "metadata": {
        "id": "P8fTdCoWz2Qt",
        "colab": {
          "base_uri": "https://localhost:8080/",
          "height": 295
        },
        "outputId": "56eb7499-68a8-4ec0-fcd0-9d6ec413d263"
      },
      "source": [
        "# summarize history for accuracy\n",
        "plt.plot(hist_cnn.history['accuracy'])\n",
        "plt.plot(hist_cnn.history['val_accuracy'])\n",
        "plt.title('CNN model accuracy')\n",
        "plt.ylabel('accuracy')\n",
        "plt.xlabel('epoch')\n",
        "plt.legend(['train', 'test'], loc='upper left')\n",
        "plt.show()"
      ],
      "execution_count": 31,
      "outputs": [
        {
          "output_type": "display_data",
          "data": {
            "image/png": "[encoded data removed]",
            "text/plain": [
              "<Figure size 432x288 with 1 Axes>"
            ]
          },
          "metadata": {
            "tags": [],
            "needs_background": "light"
          }
        }
      ]
    },
    {
      "cell_type": "code",
      "metadata": {
        "id": "XPuWqLwrz2Qt",
        "colab": {
          "base_uri": "https://localhost:8080/",
          "height": 295
        },
        "outputId": "f0ef43dc-74a4-4e1f-b2dd-6a058761e22f"
      },
      "source": [
        "# summarize history for loss\n",
        "plt.plot(hist_cnn.history['loss'])\n",
        "plt.plot(hist_cnn.history['val_loss'])\n",
        "plt.title('CNN model loss')\n",
        "plt.ylabel('loss')\n",
        "plt.xlabel('epoch')\n",
        "plt.legend(['train', 'test'], loc='upper left')\n",
        "plt.show()"
      ],
      "execution_count": 32,
      "outputs": [
        {
          "output_type": "display_data",
          "data": {
            "image/png": "[encoded data removed]",
            "text/plain": [
              "<Figure size 432x288 with 1 Axes>"
            ]
          },
          "metadata": {
            "tags": [],
            "needs_background": "light"
          }
        }
      ]
    },
    {
      "cell_type": "markdown",
      "metadata": {
        "id": "YEEl186Cz2Qu"
      },
      "source": [
        "### CNN with LSTM model"
      ]
    },
    {
      "cell_type": "code",
      "metadata": {
        "id": "pwzHwWw4z2Qv"
      },
      "source": [
        "sequence_size = X_train.shape[1]\n",
        "n_features = 1 \n",
        "n_subsequences = 4\n",
        "subsequence_size = int(sequence_size / n_subsequences)\n",
        "\n",
        "# Reshaping to be (samples, subsequences, sequence, feature)\n",
        "X_train = X_train.reshape(-1, n_subsequences, subsequence_size, n_features)\n",
        "X_val = X_val.reshape(-1, n_subsequences, subsequence_size, n_features)"
      ],
      "execution_count": 33,
      "outputs": []
    },
    {
      "cell_type": "code",
      "metadata": {
        "id": "eXWO_wy_z2Qv",
        "colab": {
          "base_uri": "https://localhost:8080/"
        },
        "outputId": "bb79a008-f9a6-4576-9b82-30c3424927cf"
      },
      "source": [
        "cnn_lstm_model = Sequential([\n",
        "    TimeDistributed(\n",
        "        Conv1D(\n",
        "            filters=8,\n",
        "            kernel_size=4,\n",
        "            strides=1,\n",
        "            padding=\"same\",\n",
        "            activation=\"relu\"\n",
        "        ), \n",
        "        input_shape=(n_subsequences, subsequence_size, n_features)\n",
        "    ),\n",
        "    TimeDistributed(Flatten()),\n",
        "    LSTM(units=4),\n",
        "    Dense(\n",
        "        1,\n",
        "        activation=\"sigmoid\",\n",
        "        name=\"output\",\n",
        "    )\n",
        "])\n",
        "\n",
        "optimizer = Adam(lr=0.001)\n",
        "# Compiling the model\n",
        "cnn_lstm_model.compile(\n",
        "    optimizer=optimizer,\n",
        "    loss=\"binary_crossentropy\",\n",
        "    metrics=[\"accuracy\"]\n",
        ")\n",
        "cnn_lstm_model.summary()"
      ],
      "execution_count": 34,
      "outputs": [
        {
          "output_type": "stream",
          "text": [
            "Model: \"sequential_1\"\n",
            "_________________________________________________________________\n",
            "Layer (type)                 Output Shape              Param #   \n",
            "=================================================================\n",
            "time_distributed (TimeDistri (None, 4, 540, 8)         40        \n",
            "_________________________________________________________________\n",
            "time_distributed_1 (TimeDist (None, 4, 4320)           0         \n",
            "_________________________________________________________________\n",
            "lstm (LSTM)                  (None, 4)                 69200     \n",
            "_________________________________________________________________\n",
            "output (Dense)               (None, 1)                 5         \n",
            "=================================================================\n",
            "Total params: 69,245\n",
            "Trainable params: 69,245\n",
            "Non-trainable params: 0\n",
            "_________________________________________________________________\n"
          ],
          "name": "stdout"
        }
      ]
    },
    {
      "cell_type": "code",
      "metadata": {
        "id": "SI3IuBqjz2Qw",
        "colab": {
          "base_uri": "https://localhost:8080/"
        },
        "outputId": "516ec43a-6fd0-486c-edf4-f4a79b098f3d"
      },
      "source": [
        "train_params = {\n",
        "    \"batch_size\": 128,\n",
        "    \"epochs\": 5,\n",
        "    \"verbose\": 1,\n",
        "    \"validation_data\": (X_val, y_val),\n",
        "}\n",
        "\n",
        "history_cnn_lstm = cnn_lstm_model.fit(X_train, y_train, **train_params)"
      ],
      "execution_count": 35,
      "outputs": [
        {
          "output_type": "stream",
          "text": [
            "Epoch 1/5\n",
            "648/648 [==============================] - 46s 67ms/step - loss: 0.3888 - accuracy: 0.8313 - val_loss: 0.6344 - val_accuracy: 0.7487\n",
            "Epoch 2/5\n",
            "648/648 [==============================] - 43s 67ms/step - loss: 0.1443 - accuracy: 0.9531 - val_loss: 0.6349 - val_accuracy: 0.7619\n",
            "Epoch 3/5\n",
            "648/648 [==============================] - 46s 70ms/step - loss: 0.1162 - accuracy: 0.9619 - val_loss: 0.5955 - val_accuracy: 0.7852\n",
            "Epoch 4/5\n",
            "648/648 [==============================] - 45s 69ms/step - loss: 0.1013 - accuracy: 0.9670 - val_loss: 0.6491 - val_accuracy: 0.7797\n",
            "Epoch 5/5\n",
            "648/648 [==============================] - 45s 69ms/step - loss: 0.0845 - accuracy: 0.9720 - val_loss: 0.6175 - val_accuracy: 0.7812\n"
          ],
          "name": "stdout"
        }
      ]
    },
    {
      "cell_type": "code",
      "metadata": {
        "id": "4FTDM4nBz2Qw",
        "colab": {
          "base_uri": "https://localhost:8080/"
        },
        "outputId": "c41d1e5d-f2c0-403d-8322-ce896265f4cb"
      },
      "source": [
        "cnn_lstm_model.evaluate(X_val, y_val)"
      ],
      "execution_count": 36,
      "outputs": [
        {
          "output_type": "stream",
          "text": [
            "821/821 [==============================] - 8s 9ms/step - loss: 0.6175 - accuracy: 0.7812\n"
          ],
          "name": "stdout"
        },
        {
          "output_type": "execute_result",
          "data": {
            "text/plain": [
              "[0.617514431476593, 0.7811797857284546]"
            ]
          },
          "metadata": {
            "tags": []
          },
          "execution_count": 36
        }
      ]
    },
    {
      "cell_type": "code",
      "metadata": {
        "id": "xGmelro6z2Qx",
        "colab": {
          "base_uri": "https://localhost:8080/",
          "height": 295
        },
        "outputId": "add37d6c-9d8f-4555-d6cc-dbedb4f0e194"
      },
      "source": [
        "# summarize history for accuracy\n",
        "plt.plot(history_cnn_lstm.history['accuracy'])\n",
        "plt.plot(history_cnn_lstm.history['val_accuracy'])\n",
        "plt.title('CNN-LSTM model accuracy')\n",
        "plt.ylabel('accuracy')\n",
        "plt.xlabel('epoch')\n",
        "plt.legend(['train', 'test'], loc='upper left')\n",
        "plt.show()"
      ],
      "execution_count": 37,
      "outputs": [
        {
          "output_type": "display_data",
          "data": {
            "image/png": "[encoded data removed]",
            "text/plain": [
              "<Figure size 432x288 with 1 Axes>"
            ]
          },
          "metadata": {
            "tags": [],
            "needs_background": "light"
          }
        }
      ]
    },
    {
      "cell_type": "code",
      "metadata": {
        "id": "39lIA24uz2Qx",
        "colab": {
          "base_uri": "https://localhost:8080/",
          "height": 295
        },
        "outputId": "e4aa53bb-90a8-4578-862b-5113a7c6efe4"
      },
      "source": [
        "# summarize history for loss\n",
        "plt.plot(history_cnn_lstm.history['loss'])\n",
        "plt.plot(history_cnn_lstm.history['val_loss'])\n",
        "plt.title('CNN-LSTM model loss')\n",
        "plt.ylabel('loss')\n",
        "plt.xlabel('epoch')\n",
        "plt.legend(['train', 'test'], loc='upper left')\n",
        "plt.show()"
      ],
      "execution_count": 38,
      "outputs": [
        {
          "output_type": "display_data",
          "data": {
            "image/png": "[encoded data removed]",
            "text/plain": [
              "<Figure size 432x288 with 1 Axes>"
            ]
          },
          "metadata": {
            "tags": [],
            "needs_background": "light"
          }
        }
      ]
    },
    {
      "cell_type": "code",
      "metadata": {
        "id": "50q0MAj7z2Qy"
      },
      "source": [
        ""
      ],
      "execution_count": 38,
      "outputs": []
    }
  ]
}