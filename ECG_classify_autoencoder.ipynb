{
  "nbformat": 4,
  "nbformat_minor": 0,
  "metadata": {
    "accelerator": "GPU",
    "colab": {
      "name": "ECG_classify_autoencoder.ipynb",
      "provenance": [],
      "collapsed_sections": [],
      "toc_visible": true
    },
    "kernelspec": {
      "display_name": "Python 3",
      "name": "python3"
    }
  },
  "cells": [
    {
      "cell_type": "markdown",
      "metadata": {
        "id": "Ndo4ERqnwQOU"
      },
      "source": [
        "Copyright 2020 The TensorFlow Authors."
      ]
    },
    {
      "cell_type": "code",
      "metadata": {
        "id": "MTKwbguKwT4R"
      },
      "source": [
        "#@title Licensed under the Apache License, Version 2.0 (the \"License\");\n",
        "# you may not use this file except in compliance with the License.\n",
        "# You may obtain a copy of the License at\n",
        "#\n",
        "# https://www.apache.org/licenses/LICENSE-2.0\n",
        "#\n",
        "# Unless required by applicable law or agreed to in writing, software\n",
        "# distributed under the License is distributed on an \"AS IS\" BASIS,\n",
        "# WITHOUT WARRANTIES OR CONDITIONS OF ANY KIND, either express or implied.\n",
        "# See the License for the specific language governing permissions and\n",
        "# limitations under the License."
      ],
      "execution_count": null,
      "outputs": []
    },
    {
      "cell_type": "markdown",
      "metadata": {
        "id": "xfNT-mlFwxVM"
      },
      "source": [
        "# Intro to Autoencoders"
      ]
    },
    {
      "cell_type": "markdown",
      "metadata": {
        "id": "0TD5ZrvEMbhZ"
      },
      "source": [
        "<table class=\"tfo-notebook-buttons\" align=\"left\">\n",
        "  <td>\n",
        "    <a target=\"_blank\" href=\"https://www.tensorflow.org/tutorials/generative/autoencoder\">\n",
        "    <img src=\"https://www.tensorflow.org/images/tf_logo_32px.png\" />\n",
        "    View on TensorFlow.org</a>\n",
        "  </td>\n",
        "  <td>\n",
        "    <a target=\"_blank\" href=\"https://colab.research.google.com/github/tensorflow/docs/blob/master/site/en/tutorials/generative/autoencoder.ipynb\">\n",
        "    <img src=\"https://www.tensorflow.org/images/colab_logo_32px.png\" />\n",
        "    Run in Google Colab</a>\n",
        "  </td>\n",
        "  <td>\n",
        "    <a target=\"_blank\" href=\"https://github.com/tensorflow/docs/blob/master/site/en/tutorials/generative/autoencoder.ipynb\">\n",
        "    <img src=\"https://www.tensorflow.org/images/GitHub-Mark-32px.png\" />\n",
        "    View source on GitHub</a>\n",
        "  </td>\n",
        "  <td>\n",
        "    <a href=\"https://storage.googleapis.com/tensorflow_docs/docs/site/en/tutorials/generative/autoencoder.ipynb\"><img src=\"https://www.tensorflow.org/images/download_logo_32px.png\" />Download notebook</a>\n",
        "  </td>\n",
        "</table>"
      ]
    },
    {
      "cell_type": "markdown",
      "metadata": {
        "id": "ITZuApL56Mny"
      },
      "source": [
        "This tutorial introduces autoencoders with anomaly detection.\n",
        "\n",
        "An autoencoder is a special type of neural network that is trained to copy its input to its output. For example, given an image of a handwritten digit, an autoencoder first encodes the image into a lower dimensional latent representation, then decodes the latent representation back to an image. An autoencoder learns to compress the data while minimizing the reconstruction error. \n",
        "\n",
        "To learn more about autoencoders, please consider reading chapter 14 from [Deep Learning](https://www.deeplearningbook.org/) by Ian Goodfellow, Yoshua Bengio, and Aaron Courville."
      ]
    },
    {
      "cell_type": "markdown",
      "metadata": {
        "id": "e1_Y75QXJS6h"
      },
      "source": [
        "## Import TensorFlow and other libraries"
      ]
    },
    {
      "cell_type": "code",
      "metadata": {
        "id": "YfIk2es3hJEd"
      },
      "source": [
        "import matplotlib.pyplot as plt\n",
        "import numpy as np\n",
        "import pandas as pd\n",
        "import tensorflow as tf\n",
        "\n",
        "from sklearn.metrics import accuracy_score, precision_score, recall_score\n",
        "from sklearn.model_selection import train_test_split\n",
        "from tensorflow.keras import layers, losses\n",
        "from tensorflow.keras.datasets import fashion_mnist\n",
        "from tensorflow.keras.models import Model"
      ],
      "execution_count": 1,
      "outputs": []
    },
    {
      "cell_type": "markdown",
      "metadata": {
        "id": "ErGrTnWHoUYl"
      },
      "source": [
        "\n",
        "\n",
        "## Overview\n",
        "\n",
        "\n",
        "In this example, you will train an autoencoder to detect anomalies on the [ECG5000 dataset](http://www.timeseriesclassification.com/description.php?Dataset=ECG5000). This dataset contains 5,000 [Electrocardiograms](https://en.wikipedia.org/wiki/Electrocardiography), each with 140 data points. You will use a simplified version of the dataset, where each example has been labeled either `0` (corresponding to an abnormal rhythm), or `1` (corresponding to a normal rhythm). You are interested in identifying the abnormal rhythms.\n",
        "\n",
        "Note: This is a labeled dataset, so you could phrase this as a supervised learning problem. The goal of this example is to illustrate anomaly detection concepts you can apply to larger datasets, where you do not have labels available (for example, if you had many thousands of normal rhythms, and only a small number of abnormal rhythms).\n",
        "\n",
        "How will you detect anomalies using an autoencoder? Recall that an autoencoder is trained to minimize reconstruction error. You will train an autoencoder on the normal rhythms only, then use it to reconstruct all the data. Our hypothesis is that the abnormal rhythms will have higher reconstruction error. You will then classify a rhythm as an anomaly if the reconstruction error surpasses a fixed threshold."
      ]
    },
    {
      "cell_type": "markdown",
      "metadata": {
        "id": "i5estNaur_Mh"
      },
      "source": [
        "### Load ECG data"
      ]
    },
    {
      "cell_type": "markdown",
      "metadata": {
        "id": "y35nsXLPsDNX"
      },
      "source": [
        "The dataset you will use is based on one from [timeseriesclassification.com](http://www.timeseriesclassification.com/description.php?Dataset=ECG5000).\n"
      ]
    },
    {
      "cell_type": "code",
      "metadata": {
        "id": "KmKRDJWgsFYa",
        "colab": {
          "base_uri": "https://localhost:8080/",
          "height": 244
        },
        "outputId": "7939bc5f-6d74-47eb-d619-c2ee57026c64"
      },
      "source": [
        "# Download the dataset\n",
        "dataframe = pd.read_csv('http://storage.googleapis.com/download.tensorflow.org/data/ecg.csv', header=None)\n",
        "raw_data = dataframe.values\n",
        "dataframe.head()"
      ],
      "execution_count": 2,
      "outputs": [
        {
          "output_type": "execute_result",
          "data": {
            "text/html": [
              "<div>\n",
              "<style scoped>\n",
              "    .dataframe tbody tr th:only-of-type {\n",
              "        vertical-align: middle;\n",
              "    }\n",
              "\n",
              "    .dataframe tbody tr th {\n",
              "        vertical-align: top;\n",
              "    }\n",
              "\n",
              "    .dataframe thead th {\n",
              "        text-align: right;\n",
              "    }\n",
              "</style>\n",
              "<table border=\"1\" class=\"dataframe\">\n",
              "  <thead>\n",
              "    <tr style=\"text-align: right;\">\n",
              "      <th></th>\n",
              "      <th>0</th>\n",
              "      <th>1</th>\n",
              "      <th>2</th>\n",
              "      <th>3</th>\n",
              "      <th>4</th>\n",
              "      <th>5</th>\n",
              "      <th>6</th>\n",
              "      <th>7</th>\n",
              "      <th>8</th>\n",
              "      <th>9</th>\n",
              "      <th>10</th>\n",
              "      <th>11</th>\n",
              "      <th>12</th>\n",
              "      <th>13</th>\n",
              "      <th>14</th>\n",
              "      <th>15</th>\n",
              "      <th>16</th>\n",
              "      <th>17</th>\n",
              "      <th>18</th>\n",
              "      <th>19</th>\n",
              "      <th>20</th>\n",
              "      <th>21</th>\n",
              "      <th>22</th>\n",
              "      <th>23</th>\n",
              "      <th>24</th>\n",
              "      <th>25</th>\n",
              "      <th>26</th>\n",
              "      <th>27</th>\n",
              "      <th>28</th>\n",
              "      <th>29</th>\n",
              "      <th>30</th>\n",
              "      <th>31</th>\n",
              "      <th>32</th>\n",
              "      <th>33</th>\n",
              "      <th>34</th>\n",
              "      <th>35</th>\n",
              "      <th>36</th>\n",
              "      <th>37</th>\n",
              "      <th>38</th>\n",
              "      <th>39</th>\n",
              "      <th>...</th>\n",
              "      <th>101</th>\n",
              "      <th>102</th>\n",
              "      <th>103</th>\n",
              "      <th>104</th>\n",
              "      <th>105</th>\n",
              "      <th>106</th>\n",
              "      <th>107</th>\n",
              "      <th>108</th>\n",
              "      <th>109</th>\n",
              "      <th>110</th>\n",
              "      <th>111</th>\n",
              "      <th>112</th>\n",
              "      <th>113</th>\n",
              "      <th>114</th>\n",
              "      <th>115</th>\n",
              "      <th>116</th>\n",
              "      <th>117</th>\n",
              "      <th>118</th>\n",
              "      <th>119</th>\n",
              "      <th>120</th>\n",
              "      <th>121</th>\n",
              "      <th>122</th>\n",
              "      <th>123</th>\n",
              "      <th>124</th>\n",
              "      <th>125</th>\n",
              "      <th>126</th>\n",
              "      <th>127</th>\n",
              "      <th>128</th>\n",
              "      <th>129</th>\n",
              "      <th>130</th>\n",
              "      <th>131</th>\n",
              "      <th>132</th>\n",
              "      <th>133</th>\n",
              "      <th>134</th>\n",
              "      <th>135</th>\n",
              "      <th>136</th>\n",
              "      <th>137</th>\n",
              "      <th>138</th>\n",
              "      <th>139</th>\n",
              "      <th>140</th>\n",
              "    </tr>\n",
              "  </thead>\n",
              "  <tbody>\n",
              "    <tr>\n",
              "      <th>0</th>\n",
              "      <td>-0.112522</td>\n",
              "      <td>-2.827204</td>\n",
              "      <td>-3.773897</td>\n",
              "      <td>-4.349751</td>\n",
              "      <td>-4.376041</td>\n",
              "      <td>-3.474986</td>\n",
              "      <td>-2.181408</td>\n",
              "      <td>-1.818287</td>\n",
              "      <td>-1.250522</td>\n",
              "      <td>-0.477492</td>\n",
              "      <td>-0.363808</td>\n",
              "      <td>-0.491957</td>\n",
              "      <td>-0.421855</td>\n",
              "      <td>-0.309201</td>\n",
              "      <td>-0.495939</td>\n",
              "      <td>-0.342119</td>\n",
              "      <td>-0.355336</td>\n",
              "      <td>-0.367913</td>\n",
              "      <td>-0.316503</td>\n",
              "      <td>-0.412374</td>\n",
              "      <td>-0.471672</td>\n",
              "      <td>-0.413458</td>\n",
              "      <td>-0.364617</td>\n",
              "      <td>-0.449298</td>\n",
              "      <td>-0.471419</td>\n",
              "      <td>-0.424777</td>\n",
              "      <td>-0.462517</td>\n",
              "      <td>-0.552472</td>\n",
              "      <td>-0.475375</td>\n",
              "      <td>-0.694200</td>\n",
              "      <td>-0.701868</td>\n",
              "      <td>-0.593812</td>\n",
              "      <td>-0.660684</td>\n",
              "      <td>-0.713831</td>\n",
              "      <td>-0.769807</td>\n",
              "      <td>-0.672282</td>\n",
              "      <td>-0.653676</td>\n",
              "      <td>-0.639406</td>\n",
              "      <td>-0.559302</td>\n",
              "      <td>-0.591670</td>\n",
              "      <td>...</td>\n",
              "      <td>1.258179</td>\n",
              "      <td>1.433789</td>\n",
              "      <td>1.700533</td>\n",
              "      <td>1.999043</td>\n",
              "      <td>2.125341</td>\n",
              "      <td>1.993291</td>\n",
              "      <td>1.932246</td>\n",
              "      <td>1.797437</td>\n",
              "      <td>1.522284</td>\n",
              "      <td>1.251168</td>\n",
              "      <td>0.998730</td>\n",
              "      <td>0.483722</td>\n",
              "      <td>0.023132</td>\n",
              "      <td>-0.194914</td>\n",
              "      <td>-0.220917</td>\n",
              "      <td>-0.243737</td>\n",
              "      <td>-0.254695</td>\n",
              "      <td>-0.291136</td>\n",
              "      <td>-0.256490</td>\n",
              "      <td>-0.227874</td>\n",
              "      <td>-0.322423</td>\n",
              "      <td>-0.289286</td>\n",
              "      <td>-0.318170</td>\n",
              "      <td>-0.363654</td>\n",
              "      <td>-0.393456</td>\n",
              "      <td>-0.266419</td>\n",
              "      <td>-0.256823</td>\n",
              "      <td>-0.288694</td>\n",
              "      <td>-0.162338</td>\n",
              "      <td>0.160348</td>\n",
              "      <td>0.792168</td>\n",
              "      <td>0.933541</td>\n",
              "      <td>0.796958</td>\n",
              "      <td>0.578621</td>\n",
              "      <td>0.257740</td>\n",
              "      <td>0.228077</td>\n",
              "      <td>0.123431</td>\n",
              "      <td>0.925286</td>\n",
              "      <td>0.193137</td>\n",
              "      <td>1.0</td>\n",
              "    </tr>\n",
              "    <tr>\n",
              "      <th>1</th>\n",
              "      <td>-1.100878</td>\n",
              "      <td>-3.996840</td>\n",
              "      <td>-4.285843</td>\n",
              "      <td>-4.506579</td>\n",
              "      <td>-4.022377</td>\n",
              "      <td>-3.234368</td>\n",
              "      <td>-1.566126</td>\n",
              "      <td>-0.992258</td>\n",
              "      <td>-0.754680</td>\n",
              "      <td>0.042321</td>\n",
              "      <td>0.148951</td>\n",
              "      <td>0.183527</td>\n",
              "      <td>0.294876</td>\n",
              "      <td>0.190233</td>\n",
              "      <td>0.235575</td>\n",
              "      <td>0.253487</td>\n",
              "      <td>0.221742</td>\n",
              "      <td>0.050233</td>\n",
              "      <td>0.178042</td>\n",
              "      <td>0.139563</td>\n",
              "      <td>0.046794</td>\n",
              "      <td>0.043007</td>\n",
              "      <td>0.106544</td>\n",
              "      <td>0.012654</td>\n",
              "      <td>0.003995</td>\n",
              "      <td>0.045724</td>\n",
              "      <td>-0.045999</td>\n",
              "      <td>-0.072667</td>\n",
              "      <td>-0.071078</td>\n",
              "      <td>-0.153866</td>\n",
              "      <td>-0.227254</td>\n",
              "      <td>-0.249270</td>\n",
              "      <td>-0.253489</td>\n",
              "      <td>-0.332835</td>\n",
              "      <td>-0.264330</td>\n",
              "      <td>-0.345825</td>\n",
              "      <td>-0.310781</td>\n",
              "      <td>-0.334160</td>\n",
              "      <td>-0.306178</td>\n",
              "      <td>-0.174563</td>\n",
              "      <td>...</td>\n",
              "      <td>1.808428</td>\n",
              "      <td>2.164346</td>\n",
              "      <td>2.070747</td>\n",
              "      <td>1.903614</td>\n",
              "      <td>1.764455</td>\n",
              "      <td>1.507769</td>\n",
              "      <td>1.293428</td>\n",
              "      <td>0.894562</td>\n",
              "      <td>0.578016</td>\n",
              "      <td>0.244343</td>\n",
              "      <td>-0.286443</td>\n",
              "      <td>-0.515881</td>\n",
              "      <td>-0.732707</td>\n",
              "      <td>-0.832465</td>\n",
              "      <td>-0.803318</td>\n",
              "      <td>-0.836252</td>\n",
              "      <td>-0.777865</td>\n",
              "      <td>-0.774753</td>\n",
              "      <td>-0.733404</td>\n",
              "      <td>-0.721386</td>\n",
              "      <td>-0.832095</td>\n",
              "      <td>-0.711982</td>\n",
              "      <td>-0.751867</td>\n",
              "      <td>-0.757720</td>\n",
              "      <td>-0.853120</td>\n",
              "      <td>-0.766988</td>\n",
              "      <td>-0.688161</td>\n",
              "      <td>-0.519923</td>\n",
              "      <td>0.039406</td>\n",
              "      <td>0.560327</td>\n",
              "      <td>0.538356</td>\n",
              "      <td>0.656881</td>\n",
              "      <td>0.787490</td>\n",
              "      <td>0.724046</td>\n",
              "      <td>0.555784</td>\n",
              "      <td>0.476333</td>\n",
              "      <td>0.773820</td>\n",
              "      <td>1.119621</td>\n",
              "      <td>-1.436250</td>\n",
              "      <td>1.0</td>\n",
              "    </tr>\n",
              "    <tr>\n",
              "      <th>2</th>\n",
              "      <td>-0.567088</td>\n",
              "      <td>-2.593450</td>\n",
              "      <td>-3.874230</td>\n",
              "      <td>-4.584095</td>\n",
              "      <td>-4.187449</td>\n",
              "      <td>-3.151462</td>\n",
              "      <td>-1.742940</td>\n",
              "      <td>-1.490658</td>\n",
              "      <td>-1.183580</td>\n",
              "      <td>-0.394229</td>\n",
              "      <td>-0.282897</td>\n",
              "      <td>-0.356926</td>\n",
              "      <td>-0.287297</td>\n",
              "      <td>-0.399489</td>\n",
              "      <td>-0.473244</td>\n",
              "      <td>-0.379048</td>\n",
              "      <td>-0.399039</td>\n",
              "      <td>-0.178594</td>\n",
              "      <td>-0.339522</td>\n",
              "      <td>-0.498447</td>\n",
              "      <td>-0.337251</td>\n",
              "      <td>-0.425480</td>\n",
              "      <td>-0.423952</td>\n",
              "      <td>-0.463170</td>\n",
              "      <td>-0.493253</td>\n",
              "      <td>-0.549749</td>\n",
              "      <td>-0.529831</td>\n",
              "      <td>-0.530935</td>\n",
              "      <td>-0.502365</td>\n",
              "      <td>-0.417368</td>\n",
              "      <td>-0.526346</td>\n",
              "      <td>-0.471005</td>\n",
              "      <td>-0.676784</td>\n",
              "      <td>-0.898612</td>\n",
              "      <td>-0.610571</td>\n",
              "      <td>-0.530164</td>\n",
              "      <td>-0.765674</td>\n",
              "      <td>-0.581937</td>\n",
              "      <td>-0.537848</td>\n",
              "      <td>-0.556386</td>\n",
              "      <td>...</td>\n",
              "      <td>1.810988</td>\n",
              "      <td>2.185398</td>\n",
              "      <td>2.262985</td>\n",
              "      <td>2.052920</td>\n",
              "      <td>1.890488</td>\n",
              "      <td>1.793033</td>\n",
              "      <td>1.564784</td>\n",
              "      <td>1.234619</td>\n",
              "      <td>0.900302</td>\n",
              "      <td>0.551957</td>\n",
              "      <td>0.258222</td>\n",
              "      <td>-0.128587</td>\n",
              "      <td>-0.092585</td>\n",
              "      <td>-0.168606</td>\n",
              "      <td>-0.495989</td>\n",
              "      <td>-0.395034</td>\n",
              "      <td>-0.328238</td>\n",
              "      <td>-0.448138</td>\n",
              "      <td>-0.268230</td>\n",
              "      <td>-0.456415</td>\n",
              "      <td>-0.357867</td>\n",
              "      <td>-0.317508</td>\n",
              "      <td>-0.434112</td>\n",
              "      <td>-0.549203</td>\n",
              "      <td>-0.324615</td>\n",
              "      <td>-0.268082</td>\n",
              "      <td>-0.220384</td>\n",
              "      <td>-0.117429</td>\n",
              "      <td>0.614059</td>\n",
              "      <td>1.284825</td>\n",
              "      <td>0.886073</td>\n",
              "      <td>0.531452</td>\n",
              "      <td>0.311377</td>\n",
              "      <td>-0.021919</td>\n",
              "      <td>-0.713683</td>\n",
              "      <td>-0.532197</td>\n",
              "      <td>0.321097</td>\n",
              "      <td>0.904227</td>\n",
              "      <td>-0.421797</td>\n",
              "      <td>1.0</td>\n",
              "    </tr>\n",
              "    <tr>\n",
              "      <th>3</th>\n",
              "      <td>0.490473</td>\n",
              "      <td>-1.914407</td>\n",
              "      <td>-3.616364</td>\n",
              "      <td>-4.318823</td>\n",
              "      <td>-4.268016</td>\n",
              "      <td>-3.881110</td>\n",
              "      <td>-2.993280</td>\n",
              "      <td>-1.671131</td>\n",
              "      <td>-1.333884</td>\n",
              "      <td>-0.965629</td>\n",
              "      <td>-0.183319</td>\n",
              "      <td>-0.101657</td>\n",
              "      <td>-0.273874</td>\n",
              "      <td>-0.127818</td>\n",
              "      <td>-0.195983</td>\n",
              "      <td>-0.213523</td>\n",
              "      <td>-0.176473</td>\n",
              "      <td>-0.156932</td>\n",
              "      <td>-0.149172</td>\n",
              "      <td>-0.181510</td>\n",
              "      <td>-0.180074</td>\n",
              "      <td>-0.246151</td>\n",
              "      <td>-0.274260</td>\n",
              "      <td>-0.140960</td>\n",
              "      <td>-0.277449</td>\n",
              "      <td>-0.382549</td>\n",
              "      <td>-0.311937</td>\n",
              "      <td>-0.360093</td>\n",
              "      <td>-0.405968</td>\n",
              "      <td>-0.571433</td>\n",
              "      <td>-0.524106</td>\n",
              "      <td>-0.537886</td>\n",
              "      <td>-0.606778</td>\n",
              "      <td>-0.661446</td>\n",
              "      <td>-0.683375</td>\n",
              "      <td>-0.746683</td>\n",
              "      <td>-0.635662</td>\n",
              "      <td>-0.625231</td>\n",
              "      <td>-0.540094</td>\n",
              "      <td>-0.674995</td>\n",
              "      <td>...</td>\n",
              "      <td>1.772155</td>\n",
              "      <td>2.000769</td>\n",
              "      <td>1.925003</td>\n",
              "      <td>1.898426</td>\n",
              "      <td>1.720953</td>\n",
              "      <td>1.501711</td>\n",
              "      <td>1.422492</td>\n",
              "      <td>1.023225</td>\n",
              "      <td>0.776341</td>\n",
              "      <td>0.504426</td>\n",
              "      <td>0.056382</td>\n",
              "      <td>-0.233161</td>\n",
              "      <td>-0.406388</td>\n",
              "      <td>-0.327528</td>\n",
              "      <td>-0.460868</td>\n",
              "      <td>-0.402536</td>\n",
              "      <td>-0.345752</td>\n",
              "      <td>-0.354206</td>\n",
              "      <td>-0.439959</td>\n",
              "      <td>-0.425326</td>\n",
              "      <td>-0.439789</td>\n",
              "      <td>-0.451835</td>\n",
              "      <td>-0.395926</td>\n",
              "      <td>-0.448762</td>\n",
              "      <td>-0.391789</td>\n",
              "      <td>-0.376307</td>\n",
              "      <td>-0.461069</td>\n",
              "      <td>-0.253524</td>\n",
              "      <td>0.213006</td>\n",
              "      <td>0.491173</td>\n",
              "      <td>0.350816</td>\n",
              "      <td>0.499111</td>\n",
              "      <td>0.600345</td>\n",
              "      <td>0.842069</td>\n",
              "      <td>0.952074</td>\n",
              "      <td>0.990133</td>\n",
              "      <td>1.086798</td>\n",
              "      <td>1.403011</td>\n",
              "      <td>-0.383564</td>\n",
              "      <td>1.0</td>\n",
              "    </tr>\n",
              "    <tr>\n",
              "      <th>4</th>\n",
              "      <td>0.800232</td>\n",
              "      <td>-0.874252</td>\n",
              "      <td>-2.384761</td>\n",
              "      <td>-3.973292</td>\n",
              "      <td>-4.338224</td>\n",
              "      <td>-3.802422</td>\n",
              "      <td>-2.534510</td>\n",
              "      <td>-1.783423</td>\n",
              "      <td>-1.594450</td>\n",
              "      <td>-0.753199</td>\n",
              "      <td>-0.298107</td>\n",
              "      <td>-0.428928</td>\n",
              "      <td>-0.491351</td>\n",
              "      <td>-0.361304</td>\n",
              "      <td>-0.339296</td>\n",
              "      <td>-0.324952</td>\n",
              "      <td>-0.290113</td>\n",
              "      <td>-0.363051</td>\n",
              "      <td>-0.525684</td>\n",
              "      <td>-0.597423</td>\n",
              "      <td>-0.575523</td>\n",
              "      <td>-0.567503</td>\n",
              "      <td>-0.504555</td>\n",
              "      <td>-0.618406</td>\n",
              "      <td>-0.682814</td>\n",
              "      <td>-0.743849</td>\n",
              "      <td>-0.815588</td>\n",
              "      <td>-0.826902</td>\n",
              "      <td>-0.782374</td>\n",
              "      <td>-0.929462</td>\n",
              "      <td>-0.999672</td>\n",
              "      <td>-1.060969</td>\n",
              "      <td>-1.007877</td>\n",
              "      <td>-1.028735</td>\n",
              "      <td>-1.122629</td>\n",
              "      <td>-1.028650</td>\n",
              "      <td>-1.046515</td>\n",
              "      <td>-1.063372</td>\n",
              "      <td>-1.122423</td>\n",
              "      <td>-0.983242</td>\n",
              "      <td>...</td>\n",
              "      <td>1.155363</td>\n",
              "      <td>1.336254</td>\n",
              "      <td>1.627534</td>\n",
              "      <td>1.717594</td>\n",
              "      <td>1.696487</td>\n",
              "      <td>1.741686</td>\n",
              "      <td>1.674078</td>\n",
              "      <td>1.546928</td>\n",
              "      <td>1.331738</td>\n",
              "      <td>1.110168</td>\n",
              "      <td>0.922210</td>\n",
              "      <td>0.521777</td>\n",
              "      <td>0.154852</td>\n",
              "      <td>-0.123861</td>\n",
              "      <td>-0.202998</td>\n",
              "      <td>-0.247956</td>\n",
              "      <td>-0.219122</td>\n",
              "      <td>-0.214695</td>\n",
              "      <td>-0.319215</td>\n",
              "      <td>-0.198597</td>\n",
              "      <td>-0.151618</td>\n",
              "      <td>-0.129593</td>\n",
              "      <td>-0.074939</td>\n",
              "      <td>-0.196807</td>\n",
              "      <td>-0.174795</td>\n",
              "      <td>-0.208833</td>\n",
              "      <td>-0.210754</td>\n",
              "      <td>-0.100485</td>\n",
              "      <td>0.197446</td>\n",
              "      <td>0.966606</td>\n",
              "      <td>1.148884</td>\n",
              "      <td>0.958434</td>\n",
              "      <td>1.059025</td>\n",
              "      <td>1.371682</td>\n",
              "      <td>1.277392</td>\n",
              "      <td>0.960304</td>\n",
              "      <td>0.971020</td>\n",
              "      <td>1.614392</td>\n",
              "      <td>1.421456</td>\n",
              "      <td>1.0</td>\n",
              "    </tr>\n",
              "  </tbody>\n",
              "</table>\n",
              "<p>5 rows × 141 columns</p>\n",
              "</div>"
            ],
            "text/plain": [
              "        0         1         2         3    ...       137       138       139  140\n",
              "0 -0.112522 -2.827204 -3.773897 -4.349751  ...  0.123431  0.925286  0.193137  1.0\n",
              "1 -1.100878 -3.996840 -4.285843 -4.506579  ...  0.773820  1.119621 -1.436250  1.0\n",
              "2 -0.567088 -2.593450 -3.874230 -4.584095  ...  0.321097  0.904227 -0.421797  1.0\n",
              "3  0.490473 -1.914407 -3.616364 -4.318823  ...  1.086798  1.403011 -0.383564  1.0\n",
              "4  0.800232 -0.874252 -2.384761 -3.973292  ...  0.971020  1.614392  1.421456  1.0\n",
              "\n",
              "[5 rows x 141 columns]"
            ]
          },
          "metadata": {
            "tags": []
          },
          "execution_count": 2
        }
      ]
    },
    {
      "cell_type": "code",
      "metadata": {
        "colab": {
          "base_uri": "https://localhost:8080/",
          "height": 333
        },
        "id": "OzdtEfWu3Vqt",
        "outputId": "a507365b-7106-495c-a7c8-886b44490ebd"
      },
      "source": [
        "dataframe.describe()"
      ],
      "execution_count": 19,
      "outputs": [
        {
          "output_type": "execute_result",
          "data": {
            "text/html": [
              "<div>\n",
              "<style scoped>\n",
              "    .dataframe tbody tr th:only-of-type {\n",
              "        vertical-align: middle;\n",
              "    }\n",
              "\n",
              "    .dataframe tbody tr th {\n",
              "        vertical-align: top;\n",
              "    }\n",
              "\n",
              "    .dataframe thead th {\n",
              "        text-align: right;\n",
              "    }\n",
              "</style>\n",
              "<table border=\"1\" class=\"dataframe\">\n",
              "  <thead>\n",
              "    <tr style=\"text-align: right;\">\n",
              "      <th></th>\n",
              "      <th>0</th>\n",
              "      <th>1</th>\n",
              "      <th>2</th>\n",
              "      <th>3</th>\n",
              "      <th>4</th>\n",
              "      <th>5</th>\n",
              "      <th>6</th>\n",
              "      <th>7</th>\n",
              "      <th>8</th>\n",
              "      <th>9</th>\n",
              "      <th>10</th>\n",
              "      <th>11</th>\n",
              "      <th>12</th>\n",
              "      <th>13</th>\n",
              "      <th>14</th>\n",
              "      <th>15</th>\n",
              "      <th>16</th>\n",
              "      <th>17</th>\n",
              "      <th>18</th>\n",
              "      <th>19</th>\n",
              "      <th>20</th>\n",
              "      <th>21</th>\n",
              "      <th>22</th>\n",
              "      <th>23</th>\n",
              "      <th>24</th>\n",
              "      <th>25</th>\n",
              "      <th>26</th>\n",
              "      <th>27</th>\n",
              "      <th>28</th>\n",
              "      <th>29</th>\n",
              "      <th>30</th>\n",
              "      <th>31</th>\n",
              "      <th>32</th>\n",
              "      <th>33</th>\n",
              "      <th>34</th>\n",
              "      <th>35</th>\n",
              "      <th>36</th>\n",
              "      <th>37</th>\n",
              "      <th>38</th>\n",
              "      <th>39</th>\n",
              "      <th>...</th>\n",
              "      <th>101</th>\n",
              "      <th>102</th>\n",
              "      <th>103</th>\n",
              "      <th>104</th>\n",
              "      <th>105</th>\n",
              "      <th>106</th>\n",
              "      <th>107</th>\n",
              "      <th>108</th>\n",
              "      <th>109</th>\n",
              "      <th>110</th>\n",
              "      <th>111</th>\n",
              "      <th>112</th>\n",
              "      <th>113</th>\n",
              "      <th>114</th>\n",
              "      <th>115</th>\n",
              "      <th>116</th>\n",
              "      <th>117</th>\n",
              "      <th>118</th>\n",
              "      <th>119</th>\n",
              "      <th>120</th>\n",
              "      <th>121</th>\n",
              "      <th>122</th>\n",
              "      <th>123</th>\n",
              "      <th>124</th>\n",
              "      <th>125</th>\n",
              "      <th>126</th>\n",
              "      <th>127</th>\n",
              "      <th>128</th>\n",
              "      <th>129</th>\n",
              "      <th>130</th>\n",
              "      <th>131</th>\n",
              "      <th>132</th>\n",
              "      <th>133</th>\n",
              "      <th>134</th>\n",
              "      <th>135</th>\n",
              "      <th>136</th>\n",
              "      <th>137</th>\n",
              "      <th>138</th>\n",
              "      <th>139</th>\n",
              "      <th>140</th>\n",
              "    </tr>\n",
              "  </thead>\n",
              "  <tbody>\n",
              "    <tr>\n",
              "      <th>count</th>\n",
              "      <td>4998.000000</td>\n",
              "      <td>4998.000000</td>\n",
              "      <td>4998.000000</td>\n",
              "      <td>4998.000000</td>\n",
              "      <td>4998.000000</td>\n",
              "      <td>4998.000000</td>\n",
              "      <td>4998.000000</td>\n",
              "      <td>4998.000000</td>\n",
              "      <td>4998.000000</td>\n",
              "      <td>4998.000000</td>\n",
              "      <td>4998.000000</td>\n",
              "      <td>4998.000000</td>\n",
              "      <td>4998.000000</td>\n",
              "      <td>4998.000000</td>\n",
              "      <td>4998.000000</td>\n",
              "      <td>4998.000000</td>\n",
              "      <td>4998.000000</td>\n",
              "      <td>4998.000000</td>\n",
              "      <td>4998.000000</td>\n",
              "      <td>4998.000000</td>\n",
              "      <td>4998.000000</td>\n",
              "      <td>4998.000000</td>\n",
              "      <td>4998.000000</td>\n",
              "      <td>4998.000000</td>\n",
              "      <td>4998.000000</td>\n",
              "      <td>4998.000000</td>\n",
              "      <td>4998.000000</td>\n",
              "      <td>4998.000000</td>\n",
              "      <td>4998.000000</td>\n",
              "      <td>4998.000000</td>\n",
              "      <td>4998.000000</td>\n",
              "      <td>4998.000000</td>\n",
              "      <td>4998.000000</td>\n",
              "      <td>4998.000000</td>\n",
              "      <td>4998.000000</td>\n",
              "      <td>4998.000000</td>\n",
              "      <td>4998.000000</td>\n",
              "      <td>4998.000000</td>\n",
              "      <td>4998.000000</td>\n",
              "      <td>4998.000000</td>\n",
              "      <td>...</td>\n",
              "      <td>4998.000000</td>\n",
              "      <td>4998.000000</td>\n",
              "      <td>4998.000000</td>\n",
              "      <td>4998.000000</td>\n",
              "      <td>4998.000000</td>\n",
              "      <td>4998.000000</td>\n",
              "      <td>4998.000000</td>\n",
              "      <td>4998.000000</td>\n",
              "      <td>4998.000000</td>\n",
              "      <td>4998.000000</td>\n",
              "      <td>4998.000000</td>\n",
              "      <td>4998.000000</td>\n",
              "      <td>4998.000000</td>\n",
              "      <td>4998.000000</td>\n",
              "      <td>4998.000000</td>\n",
              "      <td>4998.000000</td>\n",
              "      <td>4998.000000</td>\n",
              "      <td>4998.000000</td>\n",
              "      <td>4998.000000</td>\n",
              "      <td>4998.000000</td>\n",
              "      <td>4998.000000</td>\n",
              "      <td>4998.000000</td>\n",
              "      <td>4998.000000</td>\n",
              "      <td>4998.000000</td>\n",
              "      <td>4998.000000</td>\n",
              "      <td>4998.000000</td>\n",
              "      <td>4998.000000</td>\n",
              "      <td>4998.000000</td>\n",
              "      <td>4998.000000</td>\n",
              "      <td>4998.000000</td>\n",
              "      <td>4998.000000</td>\n",
              "      <td>4998.000000</td>\n",
              "      <td>4998.000000</td>\n",
              "      <td>4998.000000</td>\n",
              "      <td>4998.000000</td>\n",
              "      <td>4998.000000</td>\n",
              "      <td>4998.000000</td>\n",
              "      <td>4998.000000</td>\n",
              "      <td>4998.000000</td>\n",
              "      <td>4998.000000</td>\n",
              "    </tr>\n",
              "    <tr>\n",
              "      <th>mean</th>\n",
              "      <td>-0.262502</td>\n",
              "      <td>-1.649828</td>\n",
              "      <td>-2.492623</td>\n",
              "      <td>-3.119754</td>\n",
              "      <td>-3.167656</td>\n",
              "      <td>-2.866306</td>\n",
              "      <td>-2.272845</td>\n",
              "      <td>-1.797754</td>\n",
              "      <td>-1.409784</td>\n",
              "      <td>-0.935806</td>\n",
              "      <td>-0.586130</td>\n",
              "      <td>-0.434278</td>\n",
              "      <td>-0.337449</td>\n",
              "      <td>-0.258099</td>\n",
              "      <td>-0.184456</td>\n",
              "      <td>-0.120129</td>\n",
              "      <td>-0.070506</td>\n",
              "      <td>-0.041937</td>\n",
              "      <td>-0.037130</td>\n",
              "      <td>-0.041337</td>\n",
              "      <td>-0.049010</td>\n",
              "      <td>-0.060307</td>\n",
              "      <td>-0.070843</td>\n",
              "      <td>-0.085600</td>\n",
              "      <td>-0.101286</td>\n",
              "      <td>-0.116194</td>\n",
              "      <td>-0.134578</td>\n",
              "      <td>-0.155946</td>\n",
              "      <td>-0.177672</td>\n",
              "      <td>-0.200843</td>\n",
              "      <td>-0.224423</td>\n",
              "      <td>-0.246854</td>\n",
              "      <td>-0.271651</td>\n",
              "      <td>-0.290474</td>\n",
              "      <td>-0.304663</td>\n",
              "      <td>-0.315294</td>\n",
              "      <td>-0.317019</td>\n",
              "      <td>-0.313238</td>\n",
              "      <td>-0.303382</td>\n",
              "      <td>-0.287468</td>\n",
              "      <td>...</td>\n",
              "      <td>1.051536</td>\n",
              "      <td>1.138315</td>\n",
              "      <td>1.187783</td>\n",
              "      <td>1.202143</td>\n",
              "      <td>1.191057</td>\n",
              "      <td>1.154773</td>\n",
              "      <td>1.086526</td>\n",
              "      <td>0.987001</td>\n",
              "      <td>0.864503</td>\n",
              "      <td>0.720300</td>\n",
              "      <td>0.569957</td>\n",
              "      <td>0.428874</td>\n",
              "      <td>0.319608</td>\n",
              "      <td>0.242431</td>\n",
              "      <td>0.180869</td>\n",
              "      <td>0.134522</td>\n",
              "      <td>0.109577</td>\n",
              "      <td>0.093447</td>\n",
              "      <td>0.080869</td>\n",
              "      <td>0.065658</td>\n",
              "      <td>0.047197</td>\n",
              "      <td>0.025245</td>\n",
              "      <td>0.004376</td>\n",
              "      <td>-0.009969</td>\n",
              "      <td>-0.019308</td>\n",
              "      <td>-0.026427</td>\n",
              "      <td>-0.029722</td>\n",
              "      <td>0.000602</td>\n",
              "      <td>0.086755</td>\n",
              "      <td>0.146633</td>\n",
              "      <td>0.071312</td>\n",
              "      <td>-0.062622</td>\n",
              "      <td>-0.276086</td>\n",
              "      <td>-0.507750</td>\n",
              "      <td>-0.761323</td>\n",
              "      <td>-0.835173</td>\n",
              "      <td>-0.642739</td>\n",
              "      <td>-0.487667</td>\n",
              "      <td>-0.706574</td>\n",
              "      <td>0.584034</td>\n",
              "    </tr>\n",
              "    <tr>\n",
              "      <th>std</th>\n",
              "      <td>1.152450</td>\n",
              "      <td>1.445542</td>\n",
              "      <td>1.386457</td>\n",
              "      <td>1.302921</td>\n",
              "      <td>1.104535</td>\n",
              "      <td>0.906312</td>\n",
              "      <td>0.731594</td>\n",
              "      <td>0.622794</td>\n",
              "      <td>0.636863</td>\n",
              "      <td>0.657788</td>\n",
              "      <td>0.591967</td>\n",
              "      <td>0.493568</td>\n",
              "      <td>0.426136</td>\n",
              "      <td>0.393470</td>\n",
              "      <td>0.382495</td>\n",
              "      <td>0.386314</td>\n",
              "      <td>0.400829</td>\n",
              "      <td>0.415265</td>\n",
              "      <td>0.423789</td>\n",
              "      <td>0.429737</td>\n",
              "      <td>0.434978</td>\n",
              "      <td>0.441769</td>\n",
              "      <td>0.447734</td>\n",
              "      <td>0.454604</td>\n",
              "      <td>0.461603</td>\n",
              "      <td>0.472735</td>\n",
              "      <td>0.483584</td>\n",
              "      <td>0.492048</td>\n",
              "      <td>0.503456</td>\n",
              "      <td>0.516152</td>\n",
              "      <td>0.530018</td>\n",
              "      <td>0.543060</td>\n",
              "      <td>0.552284</td>\n",
              "      <td>0.560660</td>\n",
              "      <td>0.564907</td>\n",
              "      <td>0.566459</td>\n",
              "      <td>0.560786</td>\n",
              "      <td>0.548962</td>\n",
              "      <td>0.536246</td>\n",
              "      <td>0.517517</td>\n",
              "      <td>...</td>\n",
              "      <td>0.574648</td>\n",
              "      <td>0.614846</td>\n",
              "      <td>0.623061</td>\n",
              "      <td>0.608324</td>\n",
              "      <td>0.582758</td>\n",
              "      <td>0.553968</td>\n",
              "      <td>0.531302</td>\n",
              "      <td>0.507281</td>\n",
              "      <td>0.485679</td>\n",
              "      <td>0.483575</td>\n",
              "      <td>0.511429</td>\n",
              "      <td>0.546471</td>\n",
              "      <td>0.565638</td>\n",
              "      <td>0.572041</td>\n",
              "      <td>0.573811</td>\n",
              "      <td>0.584503</td>\n",
              "      <td>0.589670</td>\n",
              "      <td>0.591625</td>\n",
              "      <td>0.597142</td>\n",
              "      <td>0.603989</td>\n",
              "      <td>0.610285</td>\n",
              "      <td>0.619744</td>\n",
              "      <td>0.633055</td>\n",
              "      <td>0.649124</td>\n",
              "      <td>0.667342</td>\n",
              "      <td>0.680240</td>\n",
              "      <td>0.693360</td>\n",
              "      <td>0.751323</td>\n",
              "      <td>0.919556</td>\n",
              "      <td>1.170839</td>\n",
              "      <td>1.404425</td>\n",
              "      <td>1.646105</td>\n",
              "      <td>1.894515</td>\n",
              "      <td>2.059366</td>\n",
              "      <td>2.086130</td>\n",
              "      <td>2.056296</td>\n",
              "      <td>1.859409</td>\n",
              "      <td>1.831088</td>\n",
              "      <td>1.414414</td>\n",
              "      <td>0.492937</td>\n",
              "    </tr>\n",
              "    <tr>\n",
              "      <th>min</th>\n",
              "      <td>-6.729499</td>\n",
              "      <td>-7.090374</td>\n",
              "      <td>-5.132459</td>\n",
              "      <td>-5.363241</td>\n",
              "      <td>-5.375715</td>\n",
              "      <td>-5.330194</td>\n",
              "      <td>-4.782240</td>\n",
              "      <td>-4.311288</td>\n",
              "      <td>-4.071361</td>\n",
              "      <td>-4.142476</td>\n",
              "      <td>-4.040526</td>\n",
              "      <td>-3.724538</td>\n",
              "      <td>-3.264576</td>\n",
              "      <td>-3.222345</td>\n",
              "      <td>-3.263484</td>\n",
              "      <td>-3.219212</td>\n",
              "      <td>-3.202187</td>\n",
              "      <td>-3.147504</td>\n",
              "      <td>-3.459917</td>\n",
              "      <td>-4.102102</td>\n",
              "      <td>-4.311241</td>\n",
              "      <td>-4.099888</td>\n",
              "      <td>-3.614973</td>\n",
              "      <td>-3.822298</td>\n",
              "      <td>-3.795567</td>\n",
              "      <td>-3.690817</td>\n",
              "      <td>-3.542485</td>\n",
              "      <td>-3.631665</td>\n",
              "      <td>-3.587112</td>\n",
              "      <td>-3.452215</td>\n",
              "      <td>-4.074752</td>\n",
              "      <td>-4.137454</td>\n",
              "      <td>-4.059662</td>\n",
              "      <td>-3.626646</td>\n",
              "      <td>-2.829471</td>\n",
              "      <td>-3.585866</td>\n",
              "      <td>-4.003401</td>\n",
              "      <td>-3.900724</td>\n",
              "      <td>-3.325329</td>\n",
              "      <td>-3.911093</td>\n",
              "      <td>...</td>\n",
              "      <td>-2.634950</td>\n",
              "      <td>-2.634768</td>\n",
              "      <td>-2.591663</td>\n",
              "      <td>-2.446476</td>\n",
              "      <td>-2.234175</td>\n",
              "      <td>-2.431403</td>\n",
              "      <td>-2.681604</td>\n",
              "      <td>-2.864706</td>\n",
              "      <td>-3.415656</td>\n",
              "      <td>-3.497624</td>\n",
              "      <td>-3.091282</td>\n",
              "      <td>-2.608510</td>\n",
              "      <td>-2.383204</td>\n",
              "      <td>-2.678883</td>\n",
              "      <td>-3.305661</td>\n",
              "      <td>-3.179590</td>\n",
              "      <td>-3.311559</td>\n",
              "      <td>-3.501555</td>\n",
              "      <td>-4.007212</td>\n",
              "      <td>-4.199563</td>\n",
              "      <td>-3.335678</td>\n",
              "      <td>-3.127603</td>\n",
              "      <td>-3.042532</td>\n",
              "      <td>-3.116177</td>\n",
              "      <td>-3.972320</td>\n",
              "      <td>-4.754057</td>\n",
              "      <td>-4.290016</td>\n",
              "      <td>-3.802469</td>\n",
              "      <td>-4.014642</td>\n",
              "      <td>-3.971715</td>\n",
              "      <td>-4.167040</td>\n",
              "      <td>-4.557576</td>\n",
              "      <td>-4.530488</td>\n",
              "      <td>-4.563270</td>\n",
              "      <td>-5.150100</td>\n",
              "      <td>-4.880460</td>\n",
              "      <td>-5.496107</td>\n",
              "      <td>-5.880890</td>\n",
              "      <td>-6.092227</td>\n",
              "      <td>0.000000</td>\n",
              "    </tr>\n",
              "    <tr>\n",
              "      <th>25%</th>\n",
              "      <td>-1.004220</td>\n",
              "      <td>-2.701936</td>\n",
              "      <td>-3.668585</td>\n",
              "      <td>-4.227337</td>\n",
              "      <td>-4.007630</td>\n",
              "      <td>-3.480666</td>\n",
              "      <td>-2.779832</td>\n",
              "      <td>-2.165808</td>\n",
              "      <td>-1.773870</td>\n",
              "      <td>-1.362003</td>\n",
              "      <td>-0.935581</td>\n",
              "      <td>-0.704545</td>\n",
              "      <td>-0.557786</td>\n",
              "      <td>-0.457045</td>\n",
              "      <td>-0.392050</td>\n",
              "      <td>-0.346571</td>\n",
              "      <td>-0.330078</td>\n",
              "      <td>-0.332150</td>\n",
              "      <td>-0.342887</td>\n",
              "      <td>-0.359614</td>\n",
              "      <td>-0.373584</td>\n",
              "      <td>-0.392696</td>\n",
              "      <td>-0.415363</td>\n",
              "      <td>-0.441361</td>\n",
              "      <td>-0.470725</td>\n",
              "      <td>-0.501688</td>\n",
              "      <td>-0.538308</td>\n",
              "      <td>-0.570269</td>\n",
              "      <td>-0.616870</td>\n",
              "      <td>-0.650657</td>\n",
              "      <td>-0.695510</td>\n",
              "      <td>-0.735157</td>\n",
              "      <td>-0.771070</td>\n",
              "      <td>-0.800239</td>\n",
              "      <td>-0.812346</td>\n",
              "      <td>-0.827283</td>\n",
              "      <td>-0.815851</td>\n",
              "      <td>-0.796261</td>\n",
              "      <td>-0.762420</td>\n",
              "      <td>-0.714294</td>\n",
              "      <td>...</td>\n",
              "      <td>0.637826</td>\n",
              "      <td>0.665319</td>\n",
              "      <td>0.688332</td>\n",
              "      <td>0.700151</td>\n",
              "      <td>0.713708</td>\n",
              "      <td>0.725241</td>\n",
              "      <td>0.719552</td>\n",
              "      <td>0.688365</td>\n",
              "      <td>0.628729</td>\n",
              "      <td>0.494990</td>\n",
              "      <td>0.255137</td>\n",
              "      <td>0.016509</td>\n",
              "      <td>-0.128966</td>\n",
              "      <td>-0.190544</td>\n",
              "      <td>-0.222519</td>\n",
              "      <td>-0.254896</td>\n",
              "      <td>-0.270112</td>\n",
              "      <td>-0.280208</td>\n",
              "      <td>-0.282162</td>\n",
              "      <td>-0.276904</td>\n",
              "      <td>-0.275988</td>\n",
              "      <td>-0.283589</td>\n",
              "      <td>-0.294496</td>\n",
              "      <td>-0.297273</td>\n",
              "      <td>-0.306706</td>\n",
              "      <td>-0.315939</td>\n",
              "      <td>-0.319823</td>\n",
              "      <td>-0.335449</td>\n",
              "      <td>-0.403674</td>\n",
              "      <td>-0.654403</td>\n",
              "      <td>-1.087720</td>\n",
              "      <td>-1.588237</td>\n",
              "      <td>-2.146835</td>\n",
              "      <td>-2.730750</td>\n",
              "      <td>-3.031224</td>\n",
              "      <td>-2.868603</td>\n",
              "      <td>-2.154560</td>\n",
              "      <td>-1.658289</td>\n",
              "      <td>-1.596809</td>\n",
              "      <td>0.000000</td>\n",
              "    </tr>\n",
              "    <tr>\n",
              "      <th>50%</th>\n",
              "      <td>-0.297541</td>\n",
              "      <td>-1.661892</td>\n",
              "      <td>-2.586129</td>\n",
              "      <td>-3.388210</td>\n",
              "      <td>-3.469899</td>\n",
              "      <td>-2.947061</td>\n",
              "      <td>-2.285427</td>\n",
              "      <td>-1.750084</td>\n",
              "      <td>-1.422457</td>\n",
              "      <td>-0.910384</td>\n",
              "      <td>-0.503252</td>\n",
              "      <td>-0.411444</td>\n",
              "      <td>-0.352290</td>\n",
              "      <td>-0.294927</td>\n",
              "      <td>-0.238326</td>\n",
              "      <td>-0.186218</td>\n",
              "      <td>-0.145063</td>\n",
              "      <td>-0.125969</td>\n",
              "      <td>-0.131354</td>\n",
              "      <td>-0.138634</td>\n",
              "      <td>-0.147557</td>\n",
              "      <td>-0.160465</td>\n",
              "      <td>-0.176075</td>\n",
              "      <td>-0.193273</td>\n",
              "      <td>-0.211239</td>\n",
              "      <td>-0.228620</td>\n",
              "      <td>-0.243433</td>\n",
              "      <td>-0.269804</td>\n",
              "      <td>-0.276165</td>\n",
              "      <td>-0.299510</td>\n",
              "      <td>-0.308855</td>\n",
              "      <td>-0.315379</td>\n",
              "      <td>-0.329388</td>\n",
              "      <td>-0.343777</td>\n",
              "      <td>-0.356713</td>\n",
              "      <td>-0.363959</td>\n",
              "      <td>-0.361235</td>\n",
              "      <td>-0.360073</td>\n",
              "      <td>-0.343391</td>\n",
              "      <td>-0.339368</td>\n",
              "      <td>...</td>\n",
              "      <td>0.922374</td>\n",
              "      <td>1.031316</td>\n",
              "      <td>1.150912</td>\n",
              "      <td>1.245925</td>\n",
              "      <td>1.278923</td>\n",
              "      <td>1.189461</td>\n",
              "      <td>1.047351</td>\n",
              "      <td>0.925302</td>\n",
              "      <td>0.820277</td>\n",
              "      <td>0.718438</td>\n",
              "      <td>0.626942</td>\n",
              "      <td>0.507614</td>\n",
              "      <td>0.367077</td>\n",
              "      <td>0.254163</td>\n",
              "      <td>0.110854</td>\n",
              "      <td>0.020120</td>\n",
              "      <td>-0.009357</td>\n",
              "      <td>-0.018137</td>\n",
              "      <td>-0.025629</td>\n",
              "      <td>-0.036462</td>\n",
              "      <td>-0.054501</td>\n",
              "      <td>-0.070819</td>\n",
              "      <td>-0.087635</td>\n",
              "      <td>-0.098353</td>\n",
              "      <td>-0.103667</td>\n",
              "      <td>-0.104560</td>\n",
              "      <td>-0.074941</td>\n",
              "      <td>0.015636</td>\n",
              "      <td>0.188872</td>\n",
              "      <td>0.473642</td>\n",
              "      <td>0.658318</td>\n",
              "      <td>0.717808</td>\n",
              "      <td>0.604747</td>\n",
              "      <td>0.334857</td>\n",
              "      <td>-0.030767</td>\n",
              "      <td>-0.195151</td>\n",
              "      <td>-0.194423</td>\n",
              "      <td>-0.160262</td>\n",
              "      <td>-0.568443</td>\n",
              "      <td>1.000000</td>\n",
              "    </tr>\n",
              "    <tr>\n",
              "      <th>75%</th>\n",
              "      <td>0.499909</td>\n",
              "      <td>-0.677998</td>\n",
              "      <td>-1.514187</td>\n",
              "      <td>-2.235690</td>\n",
              "      <td>-2.531153</td>\n",
              "      <td>-2.398797</td>\n",
              "      <td>-1.823480</td>\n",
              "      <td>-1.484107</td>\n",
              "      <td>-1.063592</td>\n",
              "      <td>-0.476477</td>\n",
              "      <td>-0.245819</td>\n",
              "      <td>-0.203848</td>\n",
              "      <td>-0.173120</td>\n",
              "      <td>-0.114919</td>\n",
              "      <td>-0.022894</td>\n",
              "      <td>0.079038</td>\n",
              "      <td>0.182443</td>\n",
              "      <td>0.254267</td>\n",
              "      <td>0.294417</td>\n",
              "      <td>0.307555</td>\n",
              "      <td>0.312618</td>\n",
              "      <td>0.309664</td>\n",
              "      <td>0.310086</td>\n",
              "      <td>0.310823</td>\n",
              "      <td>0.307178</td>\n",
              "      <td>0.309737</td>\n",
              "      <td>0.308784</td>\n",
              "      <td>0.303688</td>\n",
              "      <td>0.294949</td>\n",
              "      <td>0.291378</td>\n",
              "      <td>0.285887</td>\n",
              "      <td>0.277312</td>\n",
              "      <td>0.268007</td>\n",
              "      <td>0.267631</td>\n",
              "      <td>0.256714</td>\n",
              "      <td>0.238607</td>\n",
              "      <td>0.233646</td>\n",
              "      <td>0.222738</td>\n",
              "      <td>0.215702</td>\n",
              "      <td>0.204561</td>\n",
              "      <td>...</td>\n",
              "      <td>1.521797</td>\n",
              "      <td>1.701123</td>\n",
              "      <td>1.766165</td>\n",
              "      <td>1.752475</td>\n",
              "      <td>1.686368</td>\n",
              "      <td>1.586768</td>\n",
              "      <td>1.424859</td>\n",
              "      <td>1.241014</td>\n",
              "      <td>1.051941</td>\n",
              "      <td>0.929639</td>\n",
              "      <td>0.861648</td>\n",
              "      <td>0.806979</td>\n",
              "      <td>0.773664</td>\n",
              "      <td>0.713234</td>\n",
              "      <td>0.627088</td>\n",
              "      <td>0.572303</td>\n",
              "      <td>0.550393</td>\n",
              "      <td>0.520385</td>\n",
              "      <td>0.486853</td>\n",
              "      <td>0.438100</td>\n",
              "      <td>0.385007</td>\n",
              "      <td>0.317094</td>\n",
              "      <td>0.250984</td>\n",
              "      <td>0.200913</td>\n",
              "      <td>0.180142</td>\n",
              "      <td>0.176978</td>\n",
              "      <td>0.215109</td>\n",
              "      <td>0.345592</td>\n",
              "      <td>0.715228</td>\n",
              "      <td>1.061866</td>\n",
              "      <td>1.169392</td>\n",
              "      <td>1.238651</td>\n",
              "      <td>1.264379</td>\n",
              "      <td>1.234408</td>\n",
              "      <td>1.033957</td>\n",
              "      <td>0.945027</td>\n",
              "      <td>0.951621</td>\n",
              "      <td>1.002628</td>\n",
              "      <td>0.271635</td>\n",
              "      <td>1.000000</td>\n",
              "    </tr>\n",
              "    <tr>\n",
              "      <th>max</th>\n",
              "      <td>4.966414</td>\n",
              "      <td>3.479689</td>\n",
              "      <td>2.660597</td>\n",
              "      <td>1.899798</td>\n",
              "      <td>2.147015</td>\n",
              "      <td>1.614375</td>\n",
              "      <td>1.868728</td>\n",
              "      <td>1.804251</td>\n",
              "      <td>1.683730</td>\n",
              "      <td>1.898627</td>\n",
              "      <td>2.033007</td>\n",
              "      <td>2.159861</td>\n",
              "      <td>2.390867</td>\n",
              "      <td>2.433236</td>\n",
              "      <td>2.160356</td>\n",
              "      <td>2.125758</td>\n",
              "      <td>2.566762</td>\n",
              "      <td>2.099727</td>\n",
              "      <td>2.117594</td>\n",
              "      <td>2.076279</td>\n",
              "      <td>2.053132</td>\n",
              "      <td>2.091794</td>\n",
              "      <td>2.003258</td>\n",
              "      <td>1.950623</td>\n",
              "      <td>1.958402</td>\n",
              "      <td>1.966838</td>\n",
              "      <td>1.941571</td>\n",
              "      <td>1.964678</td>\n",
              "      <td>1.866897</td>\n",
              "      <td>1.870258</td>\n",
              "      <td>1.862162</td>\n",
              "      <td>2.063265</td>\n",
              "      <td>1.941110</td>\n",
              "      <td>1.931091</td>\n",
              "      <td>1.890201</td>\n",
              "      <td>1.834472</td>\n",
              "      <td>1.721037</td>\n",
              "      <td>1.619301</td>\n",
              "      <td>1.583824</td>\n",
              "      <td>1.613533</td>\n",
              "      <td>...</td>\n",
              "      <td>2.836767</td>\n",
              "      <td>2.820616</td>\n",
              "      <td>2.940154</td>\n",
              "      <td>2.685726</td>\n",
              "      <td>2.959324</td>\n",
              "      <td>2.895572</td>\n",
              "      <td>2.604823</td>\n",
              "      <td>2.478775</td>\n",
              "      <td>2.513328</td>\n",
              "      <td>2.599892</td>\n",
              "      <td>2.937152</td>\n",
              "      <td>2.950522</td>\n",
              "      <td>2.830852</td>\n",
              "      <td>2.861781</td>\n",
              "      <td>2.828775</td>\n",
              "      <td>2.702857</td>\n",
              "      <td>2.538437</td>\n",
              "      <td>2.680203</td>\n",
              "      <td>2.764017</td>\n",
              "      <td>2.839710</td>\n",
              "      <td>2.714548</td>\n",
              "      <td>2.869542</td>\n",
              "      <td>3.052377</td>\n",
              "      <td>3.141808</td>\n",
              "      <td>3.215135</td>\n",
              "      <td>3.198790</td>\n",
              "      <td>3.086137</td>\n",
              "      <td>3.157157</td>\n",
              "      <td>3.037078</td>\n",
              "      <td>2.960969</td>\n",
              "      <td>3.007606</td>\n",
              "      <td>2.854680</td>\n",
              "      <td>2.912394</td>\n",
              "      <td>2.937685</td>\n",
              "      <td>3.351437</td>\n",
              "      <td>3.432518</td>\n",
              "      <td>3.579448</td>\n",
              "      <td>4.425976</td>\n",
              "      <td>7.402103</td>\n",
              "      <td>1.000000</td>\n",
              "    </tr>\n",
              "  </tbody>\n",
              "</table>\n",
              "<p>8 rows × 141 columns</p>\n",
              "</div>"
            ],
            "text/plain": [
              "               0            1    ...          139          140\n",
              "count  4998.000000  4998.000000  ...  4998.000000  4998.000000\n",
              "mean     -0.262502    -1.649828  ...    -0.706574     0.584034\n",
              "std       1.152450     1.445542  ...     1.414414     0.492937\n",
              "min      -6.729499    -7.090374  ...    -6.092227     0.000000\n",
              "25%      -1.004220    -2.701936  ...    -1.596809     0.000000\n",
              "50%      -0.297541    -1.661892  ...    -0.568443     1.000000\n",
              "75%       0.499909    -0.677998  ...     0.271635     1.000000\n",
              "max       4.966414     3.479689  ...     7.402103     1.000000\n",
              "\n",
              "[8 rows x 141 columns]"
            ]
          },
          "metadata": {
            "tags": []
          },
          "execution_count": 19
        }
      ]
    },
    {
      "cell_type": "code",
      "metadata": {
        "id": "UmuCPVYKsKKx"
      },
      "source": [
        "# The last element contains the labels\n",
        "labels = raw_data[:, -1]\n",
        "\n",
        "# The other data points are the electrocadriogram data\n",
        "data = raw_data[:, 0:-1]\n",
        "\n",
        "train_data, test_data, train_labels, test_labels = train_test_split(\n",
        "    data, labels, test_size=0.2, random_state=21\n",
        ")"
      ],
      "execution_count": 3,
      "outputs": []
    },
    {
      "cell_type": "markdown",
      "metadata": {
        "id": "byK2vP7hsMbz"
      },
      "source": [
        "Normalize the data to `[0,1]`.\n"
      ]
    },
    {
      "cell_type": "code",
      "metadata": {
        "id": "tgMZVWRKsPx6"
      },
      "source": [
        "min_val = tf.reduce_min(train_data)\n",
        "max_val = tf.reduce_max(train_data)\n",
        "\n",
        "train_data = (train_data - min_val) / (max_val - min_val)\n",
        "test_data = (test_data - min_val) / (max_val - min_val)\n",
        "\n",
        "train_data = tf.cast(train_data, tf.float32)\n",
        "test_data = tf.cast(test_data, tf.float32)"
      ],
      "execution_count": 4,
      "outputs": []
    },
    {
      "cell_type": "markdown",
      "metadata": {
        "id": "BdSYr2IPsTiz"
      },
      "source": [
        "You will train the autoencoder using only the normal rhythms, which are labeled in this dataset as `1`. Separate the normal rhythms from the abnormal rhythms."
      ]
    },
    {
      "cell_type": "code",
      "metadata": {
        "id": "VvK4NRe8sVhE"
      },
      "source": [
        "train_labels = train_labels.astype(bool)\n",
        "test_labels = test_labels.astype(bool)\n",
        "\n",
        "normal_train_data = train_data[train_labels]\n",
        "normal_test_data = test_data[test_labels]\n",
        "\n",
        "anomalous_train_data = train_data[~train_labels]\n",
        "anomalous_test_data = test_data[~test_labels]"
      ],
      "execution_count": 5,
      "outputs": []
    },
    {
      "cell_type": "markdown",
      "metadata": {
        "id": "wVcTBDo-CqFS"
      },
      "source": [
        "Plot a normal ECG. "
      ]
    },
    {
      "cell_type": "code",
      "metadata": {
        "id": "ZTlMIrpmseYe",
        "colab": {
          "base_uri": "https://localhost:8080/",
          "height": 281
        },
        "outputId": "7e1ed0af-fcf8-4f48-bc91-2460d98b09bf"
      },
      "source": [
        "plt.grid()\n",
        "plt.plot(np.arange(140), normal_train_data[0])\n",
        "plt.title(\"A Normal ECG\")\n",
        "plt.show()"
      ],
      "execution_count": 6,
      "outputs": [
        {
          "output_type": "display_data",
          "data": {
            "image/png": "[encoded data removed]",
            "text/plain": [
              "<Figure size 432x288 with 1 Axes>"
            ]
          },
          "metadata": {
            "tags": [],
            "needs_background": "light"
          }
        }
      ]
    },
    {
      "cell_type": "markdown",
      "metadata": {
        "id": "QpI9by2ZA0NN"
      },
      "source": [
        "Plot an anomalous ECG."
      ]
    },
    {
      "cell_type": "code",
      "metadata": {
        "id": "zrpXREF2siBr",
        "colab": {
          "base_uri": "https://localhost:8080/",
          "height": 281
        },
        "outputId": "5f462fa0-c738-490b-dfaf-bf54f6d69eba"
      },
      "source": [
        "plt.grid()\n",
        "plt.plot(np.arange(140), anomalous_train_data[0])\n",
        "plt.title(\"An Anomalous ECG\")\n",
        "plt.show()"
      ],
      "execution_count": 7,
      "outputs": [
        {
          "output_type": "display_data",
          "data": {
            "image/png": "[encoded data removed]",
            "text/plain": [
              "<Figure size 432x288 with 1 Axes>"
            ]
          },
          "metadata": {
            "tags": [],
            "needs_background": "light"
          }
        }
      ]
    },
    {
      "cell_type": "markdown",
      "metadata": {
        "id": "0DS6QKZJslZz"
      },
      "source": [
        "### Build the model"
      ]
    },
    {
      "cell_type": "code",
      "metadata": {
        "id": "bf6owZQDsp9y"
      },
      "source": [
        "class AnomalyDetector(Model):\n",
        "  def __init__(self):\n",
        "    super(AnomalyDetector, self).__init__()\n",
        "    self.encoder = tf.keras.Sequential([\n",
        "      layers.Dense(32, activation=\"relu\"),\n",
        "      layers.Dense(16, activation=\"relu\"),\n",
        "      layers.Dense(8, activation=\"relu\")])\n",
        "    \n",
        "    self.decoder = tf.keras.Sequential([\n",
        "      layers.Dense(16, activation=\"relu\"),\n",
        "      layers.Dense(32, activation=\"relu\"),\n",
        "      layers.Dense(140, activation=\"sigmoid\")])\n",
        "    \n",
        "  def call(self, x):\n",
        "    encoded = self.encoder(x)\n",
        "    decoded = self.decoder(encoded)\n",
        "    return decoded\n",
        "\n",
        "autoencoder = AnomalyDetector()"
      ],
      "execution_count": 59,
      "outputs": []
    },
    {
      "cell_type": "code",
      "metadata": {
        "id": "gwRpBBbg463S"
      },
      "source": [
        "autoencoder.compile(optimizer='adam', loss='mae')"
      ],
      "execution_count": 60,
      "outputs": []
    },
    {
      "cell_type": "markdown",
      "metadata": {
        "id": "zuTy60STBEy4"
      },
      "source": [
        "Notice that the autoencoder is trained using only the normal ECGs, but is evaluated using the full test set."
      ]
    },
    {
      "cell_type": "code",
      "metadata": {
        "id": "V6NFSs-jsty2",
        "colab": {
          "base_uri": "https://localhost:8080/"
        },
        "outputId": "b3dff0c7-4eab-4420-dfc1-827473f5093c"
      },
      "source": [
        "history = autoencoder.fit(normal_train_data, normal_train_data, \n",
        "          epochs=20, \n",
        "          batch_size=512,\n",
        "          validation_data=(test_data, test_data),\n",
        "          shuffle=True)"
      ],
      "execution_count": 61,
      "outputs": [
        {
          "output_type": "stream",
          "text": [
            "Epoch 1/20\n",
            "3/3 [==============================] - 1s 69ms/step - loss: 0.0583 - val_loss: 0.0533\n",
            "Epoch 2/20\n",
            "3/3 [==============================] - 0s 17ms/step - loss: 0.0568 - val_loss: 0.0522\n",
            "Epoch 3/20\n",
            "3/3 [==============================] - 0s 16ms/step - loss: 0.0551 - val_loss: 0.0510\n",
            "Epoch 4/20\n",
            "3/3 [==============================] - 0s 17ms/step - loss: 0.0531 - val_loss: 0.0496\n",
            "Epoch 5/20\n",
            "3/3 [==============================] - 0s 15ms/step - loss: 0.0508 - val_loss: 0.0484\n",
            "Epoch 6/20\n",
            "3/3 [==============================] - 0s 17ms/step - loss: 0.0483 - val_loss: 0.0474\n",
            "Epoch 7/20\n",
            "3/3 [==============================] - 0s 16ms/step - loss: 0.0459 - val_loss: 0.0459\n",
            "Epoch 8/20\n",
            "3/3 [==============================] - 0s 14ms/step - loss: 0.0436 - val_loss: 0.0446\n",
            "Epoch 9/20\n",
            "3/3 [==============================] - 0s 15ms/step - loss: 0.0414 - val_loss: 0.0436\n",
            "Epoch 10/20\n",
            "3/3 [==============================] - 0s 14ms/step - loss: 0.0394 - val_loss: 0.0428\n",
            "Epoch 11/20\n",
            "3/3 [==============================] - 0s 15ms/step - loss: 0.0375 - val_loss: 0.0419\n",
            "Epoch 12/20\n",
            "3/3 [==============================] - 0s 14ms/step - loss: 0.0357 - val_loss: 0.0411\n",
            "Epoch 13/20\n",
            "3/3 [==============================] - 0s 18ms/step - loss: 0.0340 - val_loss: 0.0403\n",
            "Epoch 14/20\n",
            "3/3 [==============================] - 0s 16ms/step - loss: 0.0324 - val_loss: 0.0397\n",
            "Epoch 15/20\n",
            "3/3 [==============================] - 0s 16ms/step - loss: 0.0309 - val_loss: 0.0390\n",
            "Epoch 16/20\n",
            "3/3 [==============================] - 0s 17ms/step - loss: 0.0298 - val_loss: 0.0384\n",
            "Epoch 17/20\n",
            "3/3 [==============================] - 0s 17ms/step - loss: 0.0287 - val_loss: 0.0378\n",
            "Epoch 18/20\n",
            "3/3 [==============================] - 0s 16ms/step - loss: 0.0278 - val_loss: 0.0373\n",
            "Epoch 19/20\n",
            "3/3 [==============================] - 0s 16ms/step - loss: 0.0269 - val_loss: 0.0368\n",
            "Epoch 20/20\n",
            "3/3 [==============================] - 0s 19ms/step - loss: 0.0262 - val_loss: 0.0362\n"
          ],
          "name": "stdout"
        }
      ]
    },
    {
      "cell_type": "code",
      "metadata": {
        "id": "OEexphFwwTQS",
        "colab": {
          "base_uri": "https://localhost:8080/",
          "height": 282
        },
        "outputId": "28d91711-4a3f-4961-fdf5-8263b3ab446b"
      },
      "source": [
        "plt.plot(history.history[\"loss\"], label=\"Training Loss\")\n",
        "plt.plot(history.history[\"val_loss\"], label=\"Validation Loss\")\n",
        "plt.legend()"
      ],
      "execution_count": 62,
      "outputs": [
        {
          "output_type": "execute_result",
          "data": {
            "text/plain": [
              "<matplotlib.legend.Legend at 0x7ffabb888990>"
            ]
          },
          "metadata": {
            "tags": []
          },
          "execution_count": 62
        },
        {
          "output_type": "display_data",
          "data": {
            "image/png": "[encoded data removed]",
            "text/plain": [
              "<Figure size 432x288 with 1 Axes>"
            ]
          },
          "metadata": {
            "tags": [],
            "needs_background": "light"
          }
        }
      ]
    },
    {
      "cell_type": "markdown",
      "metadata": {
        "id": "ceI5lKv1BT-A"
      },
      "source": [
        "You will soon classify an ECG as anomalous if the reconstruction error is greater than one standard deviation from the normal training examples. First, let's plot a normal ECG from the training set, the reconstruction after it's encoded and decoded by the autoencoder, and the reconstruction error."
      ]
    },
    {
      "cell_type": "code",
      "metadata": {
        "id": "hmsk4DuktxJ2",
        "colab": {
          "base_uri": "https://localhost:8080/",
          "height": 265
        },
        "outputId": "90489bd4-07c4-43e3-b581-e120957e3af8"
      },
      "source": [
        "encoded_imgs = autoencoder.encoder(normal_test_data).numpy()\n",
        "decoded_imgs = autoencoder.decoder(encoded_imgs).numpy()\n",
        "\n",
        "plt.plot(normal_test_data[0],'b')\n",
        "plt.plot(decoded_imgs[0],'r')\n",
        "plt.fill_between(np.arange(140), decoded_imgs[0], normal_test_data[0], color='lightcoral' )\n",
        "plt.legend(labels=[\"Input\", \"Reconstruction\", \"Error\"])\n",
        "plt.show()"
      ],
      "execution_count": 63,
      "outputs": [
        {
          "output_type": "display_data",
          "data": {
            "image/png": "[encoded data removed]",
            "text/plain": [
              "<Figure size 432x288 with 1 Axes>"
            ]
          },
          "metadata": {
            "tags": [],
            "needs_background": "light"
          }
        }
      ]
    },
    {
      "cell_type": "markdown",
      "metadata": {
        "id": "ocA_q9ufB_aF"
      },
      "source": [
        "Create a similar plot, this time for an anomalous test example."
      ]
    },
    {
      "cell_type": "code",
      "metadata": {
        "id": "vNFTuPhLwTBn",
        "colab": {
          "base_uri": "https://localhost:8080/",
          "height": 266
        },
        "outputId": "3cc4cf91-66c4-4cba-96a9-b382a7c9ae7f"
      },
      "source": [
        "encoded_imgs = autoencoder.encoder(anomalous_test_data).numpy()\n",
        "decoded_imgs = autoencoder.decoder(encoded_imgs).numpy()\n",
        "\n",
        "plt.plot(anomalous_test_data[0],'b')\n",
        "plt.plot(decoded_imgs[0],'r')\n",
        "plt.fill_between(np.arange(140), decoded_imgs[0], anomalous_test_data[0], color='lightcoral' )\n",
        "plt.legend(labels=[\"Input\", \"Reconstruction\", \"Error\"])\n",
        "plt.show()"
      ],
      "execution_count": 64,
      "outputs": [
        {
          "output_type": "display_data",
          "data": {
            "image/png": "[encoded data removed]",
            "text/plain": [
              "<Figure size 432x288 with 1 Axes>"
            ]
          },
          "metadata": {
            "tags": [],
            "needs_background": "light"
          }
        }
      ]
    },
    {
      "cell_type": "markdown",
      "metadata": {
        "id": "ocimg3MBswdS"
      },
      "source": [
        "### Detect anomalies"
      ]
    },
    {
      "cell_type": "markdown",
      "metadata": {
        "id": "Xnh8wmkDsypN"
      },
      "source": [
        "Detect anomalies by calculating whether the reconstruction loss is greater than a fixed threshold. In this tutorial, you will calculate the mean average error for normal examples from the training set, then classify future examples as anomalous if the reconstruction error is higher than one standard deviation from the training set.\n"
      ]
    },
    {
      "cell_type": "markdown",
      "metadata": {
        "id": "TeuT8uTA5Y_w"
      },
      "source": [
        "Plot the reconstruction error on normal ECGs from the training set"
      ]
    },
    {
      "cell_type": "code",
      "metadata": {
        "id": "gwLuxrb-s0ss",
        "colab": {
          "base_uri": "https://localhost:8080/",
          "height": 279
        },
        "outputId": "1acc11f2-0b6c-483f-e29f-80c4a6322100"
      },
      "source": [
        "reconstructions = autoencoder.predict(normal_train_data)\n",
        "train_loss = tf.keras.losses.mae(reconstructions, normal_train_data)\n",
        "\n",
        "plt.hist(train_loss, bins=50)\n",
        "plt.xlabel(\"Train loss\")\n",
        "plt.ylabel(\"No of examples\")\n",
        "plt.show()"
      ],
      "execution_count": 65,
      "outputs": [
        {
          "output_type": "display_data",
          "data": {
            "image/png": "[encoded data removed]",
            "text/plain": [
              "<Figure size 432x288 with 1 Axes>"
            ]
          },
          "metadata": {
            "tags": [],
            "needs_background": "light"
          }
        }
      ]
    },
    {
      "cell_type": "markdown",
      "metadata": {
        "id": "mh-3ChEF5hog"
      },
      "source": [
        "Choose a threshold value that is one standard deviations above the mean."
      ]
    },
    {
      "cell_type": "code",
      "metadata": {
        "id": "82hkl0Chs3P_",
        "colab": {
          "base_uri": "https://localhost:8080/"
        },
        "outputId": "2a653c2d-21d3-49ba-fb1a-011befb0a8e7"
      },
      "source": [
        "threshold = np.mean(train_loss) + np.std(train_loss)\n",
        "print(\"Threshold: \", threshold)"
      ],
      "execution_count": 66,
      "outputs": [
        {
          "output_type": "stream",
          "text": [
            "Threshold:  0.0366093\n"
          ],
          "name": "stdout"
        }
      ]
    },
    {
      "cell_type": "markdown",
      "metadata": {
        "id": "uEGlA1Be50Nj"
      },
      "source": [
        "Note: There are other strategies you could use to select a threshold value above which test examples should be classified as anomalous, the correct approach will depend on your dataset. You can learn more with the links at the end of this tutorial. "
      ]
    },
    {
      "cell_type": "markdown",
      "metadata": {
        "id": "zpLSDAeb51D_"
      },
      "source": [
        "If you examine the reconstruction error for the anomalous examples in the test set, you'll notice most have greater reconstruction error than the threshold. By varing the threshold, you can adjust the [precision](https://developers.google.com/machine-learning/glossary#precision) and [recall](https://developers.google.com/machine-learning/glossary#recall) of your classifier. "
      ]
    },
    {
      "cell_type": "code",
      "metadata": {
        "id": "sKVwjQK955Wy",
        "colab": {
          "base_uri": "https://localhost:8080/",
          "height": 279
        },
        "outputId": "ebc9f718-c606-429b-bd6d-5bfad022f1e7"
      },
      "source": [
        "reconstructions = autoencoder.predict(anomalous_test_data)\n",
        "test_loss = tf.keras.losses.mae(reconstructions, anomalous_test_data)\n",
        "\n",
        "plt.hist(test_loss, bins=50)\n",
        "plt.xlabel(\"Test loss\")\n",
        "plt.ylabel(\"No of examples\")\n",
        "plt.show()"
      ],
      "execution_count": 67,
      "outputs": [
        {
          "output_type": "display_data",
          "data": {
            "image/png": "[encoded data removed]",
            "text/plain": [
              "<Figure size 432x288 with 1 Axes>"
            ]
          },
          "metadata": {
            "tags": [],
            "needs_background": "light"
          }
        }
      ]
    },
    {
      "cell_type": "markdown",
      "metadata": {
        "id": "PFVk_XGE6AX2"
      },
      "source": [
        "Classify an ECG as an anomaly if the reconstruction error is greater than the threshold."
      ]
    },
    {
      "cell_type": "code",
      "metadata": {
        "id": "mkgJZfhh6CHr"
      },
      "source": [
        "def predict(model, data, threshold):\n",
        "  reconstructions = model(data)\n",
        "  loss = tf.keras.losses.mae(reconstructions, data)\n",
        "  return tf.math.less(loss, threshold)\n",
        "\n",
        "def print_stats(predictions, labels):\n",
        "  print(\"Accuracy = {}\".format(accuracy_score(labels, preds)))\n",
        "  print(\"Precision = {}\".format(precision_score(labels, preds)))\n",
        "  print(\"Recall = {}\".format(recall_score(labels, preds)))"
      ],
      "execution_count": 68,
      "outputs": []
    },
    {
      "cell_type": "code",
      "metadata": {
        "id": "sOcfXfXq6FBd",
        "colab": {
          "base_uri": "https://localhost:8080/"
        },
        "outputId": "9c0d49a1-c232-4ead-d171-cfd8bb985d44"
      },
      "source": [
        "preds = predict(autoencoder, test_data, threshold)\n",
        "print_stats(preds, test_labels)\n",
        "\n",
        "## epochs=20, batch_size=512\n",
        "# Accuracy = 0.945\n",
        "# Precision = 0.9922027290448343\n",
        "# Recall = 0.9089285714285714\n",
        "\n",
        "#           # epochs=20, \n",
        "#           # batch_size=512*2,\n",
        "# Accuracy = 0.944\n",
        "# Precision = 0.9941176470588236\n",
        "# Recall = 0.9053571428571429\n",
        "\n",
        "\n",
        "# # epochs=30, \n",
        "# # batch_size=512,\n",
        "# Accuracy = 0.939\n",
        "# Precision = 0.994059405940594\n",
        "# Recall = 0.8964285714285715"
      ],
      "execution_count": 69,
      "outputs": [
        {
          "output_type": "stream",
          "text": [
            "Accuracy = 0.944\n",
            "Precision = 0.9941176470588236\n",
            "Recall = 0.9053571428571429\n"
          ],
          "name": "stdout"
        }
      ]
    },
    {
      "cell_type": "code",
      "metadata": {
        "colab": {
          "base_uri": "https://localhost:8080/"
        },
        "id": "JJu8-ra47K-F",
        "outputId": "a922433d-db27-4b83-c4e9-7d0cb2e94ebe"
      },
      "source": [
        "2/(1/(0.9941176470588236)+1/(0.9053571428571429))"
      ],
      "execution_count": 97,
      "outputs": [
        {
          "output_type": "execute_result",
          "data": {
            "text/plain": [
              "0.9476635514018691"
            ]
          },
          "metadata": {
            "tags": []
          },
          "execution_count": 97
        }
      ]
    },
    {
      "cell_type": "markdown",
      "metadata": {
        "id": "tRzDjeHy7Lum"
      },
      "source": [
        "Batch size impacts learning significantly. What happens when you put a batch through your network is that you average the gradients. The concept is that if your batch size is big enough, this will provide a stable enough estimate of what the gradient of the full dataset would be. By taking samples from your dataset, you estimate the gradient while reducing computational cost significantly. The lower you go, the less accurate your esttimate will be, however in some cases these noisy gradients can actually help escape local minima. When it is too low, your network weights can just jump around if your data is noisy and it might be unable to learn or it converges very slowly, thus negatively impacting total computation time.\r\n",
        "\r\n",
        "Another advantage of batching is for GPU computation, GPUs are very good at parallelizing the calculations that happen in neural networks if part of the computation is the same (for example, repeated matrix multiplication over the same weight matrix of your network). This means that a batch size of 16 will take less than twice the amount of a batch size of 8.\r\n",
        "\r\n",
        "In the case that you do need bigger batch sizes but it will not fit on your GPU, you can feed a small batch, save the gradient estimates and feed one or more batches, and then do a weight update. This way you get a more stable gradient because you increased your virtual batch size."
      ]
    },
    {
      "cell_type": "markdown",
      "metadata": {
        "id": "HrJRef8Ln945"
      },
      "source": [
        "## Next steps\n",
        "\n",
        "To learn more about anomaly detection with autoencoders, check out this excellent [interactive example](https://anomagram.fastforwardlabs.com/#/) built with TensorFlow.js by Victor Dibia. For a real-world use case, you can learn how [Airbus Detects Anomalies in ISS Telemetry Data](https://blog.tensorflow.org/2020/04/how-airbus-detects-anomalies-iss-telemetry-data-tfx.html) using TensorFlow. To learn more about the basics, consider reading this [blog post](https://blog.keras.io/building-autoencoders-in-keras.html) by François Chollet. For more details, check out chapter 14 from [Deep Learning](https://www.deeplearningbook.org/) by Ian Goodfellow, Yoshua Bengio, and Aaron Courville.\n"
      ]
    },
    {
      "cell_type": "code",
      "metadata": {
        "colab": {
          "base_uri": "https://localhost:8080/"
        },
        "id": "EXviXhr27pYl",
        "outputId": "63ab4a6c-2a2d-4f3e-82b6-0588cba93f92"
      },
      "source": [
        "dataframe.shape"
      ],
      "execution_count": 71,
      "outputs": [
        {
          "output_type": "execute_result",
          "data": {
            "text/plain": [
              "(4998, 141)"
            ]
          },
          "metadata": {
            "tags": []
          },
          "execution_count": 71
        }
      ]
    },
    {
      "cell_type": "code",
      "metadata": {
        "id": "cccwIRT5-8o8"
      },
      "source": [
        ""
      ],
      "execution_count": null,
      "outputs": []
    },
    {
      "cell_type": "markdown",
      "metadata": {
        "id": "wxUUFu5eABXW"
      },
      "source": [
        "# **Compare** LogisticRegression\r\n",
        "\r\n",
        "similar Accuracy"
      ]
    },
    {
      "cell_type": "code",
      "metadata": {
        "id": "mj7Ol3a88QSQ"
      },
      "source": [
        "from sklearn.linear_model import LogisticRegression\r\n",
        "import numpy as np\r\n",
        "import pandas as pd\r\n",
        "from sklearn.metrics import average_precision_score, roc_auc_score\r\n",
        "from sklearn.metrics import roc_curve, auc, accuracy_score  # log_loss\r\n",
        "from sklearn.model_selection import KFold, train_test_split, GridSearchCV\r\n",
        "from sklearn.preprocessing import StandardScaler"
      ],
      "execution_count": 75,
      "outputs": []
    },
    {
      "cell_type": "code",
      "metadata": {
        "colab": {
          "base_uri": "https://localhost:8080/"
        },
        "id": "r_nV57IC7pnX",
        "outputId": "42cc9407-f0bd-4688-c528-fdb1fe046084"
      },
      "source": [
        "def gs(X, y, m, param, scoring, cv, n_jobs):\r\n",
        "    GridSearch = GridSearchCV(m, param, scoring=scoring, cv=cv, n_jobs=n_jobs)\r\n",
        "    GridSearch.fit(X=X, y=y)\r\n",
        "    model = GridSearch.best_estimator_\r\n",
        "    print('best_score_:', GridSearch.best_score_, GridSearch.best_params_)\r\n",
        "    return model\r\n",
        "\r\n",
        "def classify_LR(y, X, seed=2020, scoring='f1', cv=5, n_jobs=4):\r\n",
        "    cols = X.columns\r\n",
        "    param = {'C': [10**-1, 10**0, 10]}\r\n",
        "    m = LogisticRegression(class_weight='balanced',\r\n",
        "                           solver='liblinear', tol=0.001, random_state=seed)\r\n",
        "    model = gs(X, y, m, param, scoring=scoring, cv=cv, n_jobs=n_jobs)\r\n",
        "    coef = pd.DataFrame(list(zip(cols, np.round(\r\n",
        "        model.coef_[0], 2))), columns=['Variable', 'coef_'])\r\n",
        "    coef['imp'] = coef['coef_'].abs()\r\n",
        "    return model, coef.sort_values('imp', ascending=False)\r\n",
        "\r\n",
        "\r\n",
        "# The last element contains the labels\r\n",
        "y = raw_data[:, -1]\r\n",
        "# The other data points are the electrocadriogram data\r\n",
        "X = raw_data[:, 0:-1]\r\n",
        "Xtrain, Xtest, ytrain, ytest = train_test_split(\r\n",
        "    X, y, test_size=0.2, random_state=21\r\n",
        ")\r\n",
        "\r\n",
        "\r\n",
        "min_max_scaler = StandardScaler()  # MinMaxScaler()\r\n",
        "Xtrain_ = min_max_scaler.fit_transform(Xtrain)\r\n",
        "Xtest = min_max_scaler.transform(Xtest)\r\n",
        "Xtrain = pd.DataFrame(Xtrain_)\r\n",
        "m, imp = classify_LR(ytrain, Xtrain)\r\n",
        "ytest_pred = m.predict(Xtest)\r\n",
        "\r\n",
        "# 5 folds cv\r\n",
        "# roc_auc best_score_: 0.9971233243611535 {'C': 0.1}\r\n",
        "# f1 best_score_: 0.9899175097774314 {'C': 1}  \r\n",
        "\r\n",
        "\r\n",
        "# test score\r\n",
        "print_stats(ytest_pred, ytest)\r\n",
        "# # 5 folds train cv f1 best_score_: 0.9902540924105724 {'C': 0.1}\r\n",
        "# Accuracy = 0.944\r\n",
        "# Precision = 0.9941176470588236\r\n",
        "# Recall = 0.9053571428571429"
      ],
      "execution_count": 103,
      "outputs": [
        {
          "output_type": "stream",
          "text": [
            "best_score_: 0.9902540924105724 {'C': 0.1}\n",
            "Accuracy = 0.944\n",
            "Precision = 0.9941176470588236\n",
            "Recall = 0.9053571428571429\n"
          ],
          "name": "stdout"
        }
      ]
    },
    {
      "cell_type": "code",
      "metadata": {
        "colab": {
          "base_uri": "https://localhost:8080/"
        },
        "id": "nkyQDC1Z_kFt",
        "outputId": "42e6c2c8-2ae3-4327-d284-e4116e3cb26d"
      },
      "source": [
        ""
      ],
      "execution_count": 98,
      "outputs": [
        {
          "output_type": "execute_result",
          "data": {
            "text/plain": [
              "array([1., 1., 1., ..., 0., 0., 0.])"
            ]
          },
          "metadata": {
            "tags": []
          },
          "execution_count": 98
        }
      ]
    },
    {
      "cell_type": "code",
      "metadata": {
        "colab": {
          "base_uri": "https://localhost:8080/",
          "height": 305
        },
        "id": "w9WvINFs9b3p",
        "outputId": "51b91a80-c52f-48af-85a6-a15a728c8adb"
      },
      "source": [
        "imp.sort_index().plot(kind='bar', x='Variable', y='coef_')"
      ],
      "execution_count": 101,
      "outputs": [
        {
          "output_type": "execute_result",
          "data": {
            "text/plain": [
              "<matplotlib.axes._subplots.AxesSubplot at 0x7ffabb8b9a10>"
            ]
          },
          "metadata": {
            "tags": []
          },
          "execution_count": 101
        },
        {
          "output_type": "display_data",
          "data": {
            "image/png": "[encoded data removed]",
            "text/plain": [
              "<Figure size 432x288 with 1 Axes>"
            ]
          },
          "metadata": {
            "tags": [],
            "needs_background": "light"
          }
        }
      ]
    },
    {
      "cell_type": "code",
      "metadata": {
        "colab": {
          "base_uri": "https://localhost:8080/",
          "height": 305
        },
        "id": "uzE-Z6OI8LF8",
        "outputId": "6ad00355-6a57-4939-a750-9e2bf713c5cc"
      },
      "source": [
        "imp.plot(kind='bar', x='Variable', y='coef_')"
      ],
      "execution_count": 100,
      "outputs": [
        {
          "output_type": "execute_result",
          "data": {
            "text/plain": [
              "<matplotlib.axes._subplots.AxesSubplot at 0x7ffab8ede7d0>"
            ]
          },
          "metadata": {
            "tags": []
          },
          "execution_count": 100
        },
        {
          "output_type": "display_data",
          "data": {
            "image/png": "[encoded data removed]",
            "text/plain": [
              "<Figure size 432x288 with 1 Axes>"
            ]
          },
          "metadata": {
            "tags": [],
            "needs_background": "light"
          }
        }
      ]
    },
    {
      "cell_type": "code",
      "metadata": {
        "id": "NFiBiyoZ9By3"
      },
      "source": [
        ""
      ],
      "execution_count": null,
      "outputs": []
    }
  ]
}