{
  "nbformat": 4,
  "nbformat_minor": 0,
  "metadata": {
    "accelerator": "GPU",
    "colab": {
      "name": "ECG_classify(autoencoder_AnomalyDetection_TimeSeries)vs(LR).ipynb",
      "provenance": [],
      "collapsed_sections": [],
      "toc_visible": true
    },
    "kernelspec": {
      "display_name": "Python 3",
      "name": "python3"
    }
  },
  "cells": [
    {
      "cell_type": "markdown",
      "metadata": {
        "id": "Ndo4ERqnwQOU"
      },
      "source": [
        "Changed from 2020 The TensorFlow Authors."
      ]
    },
    {
      "cell_type": "code",
      "metadata": {
        "id": "MTKwbguKwT4R"
      },
      "source": [
        "#  Licensed under the Apache License, Version 2.0 (the \"License\");\n",
        "# you may not use this file except in compliance with the License.\n",
        "# You may obtain a copy of the License at\n",
        "#\n",
        "# https://www.apache.org/licenses/LICENSE-2.0\n",
        "#\n",
        "# Unless required by applicable law or agreed to in writing, software\n",
        "# distributed under the License is distributed on an \"AS IS\" BASIS,\n",
        "# WITHOUT WARRANTIES OR CONDITIONS OF ANY KIND, either express or implied.\n",
        "# See the License for the specific language governing permissions and\n",
        "# limitations under the License."
      ],
      "execution_count": null,
      "outputs": []
    },
    {
      "cell_type": "code",
      "metadata": {
        "colab": {
          "base_uri": "https://localhost:8080/"
        },
        "id": "Nbh0JNQqH_Et",
        "outputId": "2c105108-37bf-4921-d3a9-6ef0cf245b19"
      },
      "source": [
        "!nvidia-smi"
      ],
      "execution_count": 104,
      "outputs": [
        {
          "output_type": "stream",
          "text": [
            "Fri Feb 26 20:55:32 2021       \n",
            "+-----------------------------------------------------------------------------+\n",
            "| NVIDIA-SMI 460.39       Driver Version: 460.32.03    CUDA Version: 11.2     |\n",
            "|-------------------------------+----------------------+----------------------+\n",
            "| GPU  Name        Persistence-M| Bus-Id        Disp.A | Volatile Uncorr. ECC |\n",
            "| Fan  Temp  Perf  Pwr:Usage/Cap|         Memory-Usage | GPU-Util  Compute M. |\n",
            "|                               |                      |               MIG M. |\n",
            "|===============================+======================+======================|\n",
            "|   0  Tesla T4            Off  | 00000000:00:04.0 Off |                    0 |\n",
            "| N/A   48C    P0    28W /  70W |    300MiB / 15109MiB |      0%      Default |\n",
            "|                               |                      |                  N/A |\n",
            "+-------------------------------+----------------------+----------------------+\n",
            "                                                                               \n",
            "+-----------------------------------------------------------------------------+\n",
            "| Processes:                                                                  |\n",
            "|  GPU   GI   CI        PID   Type   Process name                  GPU Memory |\n",
            "|        ID   ID                                                   Usage      |\n",
            "|=============================================================================|\n",
            "+-----------------------------------------------------------------------------+\n"
          ],
          "name": "stdout"
        }
      ]
    },
    {
      "cell_type": "markdown",
      "metadata": {
        "id": "xfNT-mlFwxVM"
      },
      "source": [
        "# Intro to Autoencoders"
      ]
    },
    {
      "cell_type": "markdown",
      "metadata": {
        "id": "0TD5ZrvEMbhZ"
      },
      "source": [
        "<table class=\"tfo-notebook-buttons\" align=\"left\">\n",
        "  <td>\n",
        "    <a target=\"_blank\" href=\"https://www.tensorflow.org/tutorials/generative/autoencoder\">\n",
        "    <img src=\"https://www.tensorflow.org/images/tf_logo_32px.png\" />\n",
        "    View on TensorFlow.org</a>\n",
        "  </td>\n",
        "  <td>\n",
        "    <a target=\"_blank\" href=\"https://colab.research.google.com/github/tensorflow/docs/blob/master/site/en/tutorials/generative/autoencoder.ipynb\">\n",
        "    <img src=\"https://www.tensorflow.org/images/colab_logo_32px.png\" />\n",
        "    Run in Google Colab</a>\n",
        "  </td>\n",
        "  <td>\n",
        "    <a target=\"_blank\" href=\"https://github.com/tensorflow/docs/blob/master/site/en/tutorials/generative/autoencoder.ipynb\">\n",
        "    <img src=\"https://www.tensorflow.org/images/GitHub-Mark-32px.png\" />\n",
        "    View source on GitHub</a>\n",
        "  </td>\n",
        "  <td>\n",
        "    <a href=\"https://storage.googleapis.com/tensorflow_docs/docs/site/en/tutorials/generative/autoencoder.ipynb\"><img src=\"https://www.tensorflow.org/images/download_logo_32px.png\" />Download notebook</a>\n",
        "  </td>\n",
        "</table>"
      ]
    },
    {
      "cell_type": "markdown",
      "metadata": {
        "id": "ITZuApL56Mny"
      },
      "source": [
        "This tutorial introduces autoencoders with anomaly detection.\n",
        "\n",
        "An autoencoder is a special type of neural network that is trained to copy its input to its output. For example, given an image of a handwritten digit, an autoencoder first encodes the image into a lower dimensional latent representation, then decodes the latent representation back to an image. An autoencoder learns to compress the data while minimizing the reconstruction error. \n",
        "\n",
        "To learn more about autoencoders, please consider reading chapter 14 from [Deep Learning](https://www.deeplearningbook.org/) by Ian Goodfellow, Yoshua Bengio, and Aaron Courville."
      ]
    },
    {
      "cell_type": "markdown",
      "metadata": {
        "id": "e1_Y75QXJS6h"
      },
      "source": [
        "## Import TensorFlow and other libraries"
      ]
    },
    {
      "cell_type": "code",
      "metadata": {
        "id": "YfIk2es3hJEd"
      },
      "source": [
        "import matplotlib.pyplot as plt\n",
        "import numpy as np\n",
        "import pandas as pd\n",
        "import tensorflow as tf\n",
        "\n",
        "from sklearn.metrics import accuracy_score, precision_score, recall_score\n",
        "from sklearn.model_selection import train_test_split\n",
        "from tensorflow.keras import layers, losses\n",
        "from tensorflow.keras.datasets import fashion_mnist\n",
        "from tensorflow.keras.models import Model"
      ],
      "execution_count": 1,
      "outputs": []
    },
    {
      "cell_type": "markdown",
      "metadata": {
        "id": "ErGrTnWHoUYl"
      },
      "source": [
        "\n",
        "\n",
        "## Overview\n",
        "\n",
        "\n",
        "In this example, you will train an autoencoder to detect anomalies on the [ECG5000 dataset](http://www.timeseriesclassification.com/description.php?Dataset=ECG5000). This dataset contains 5,000 [Electrocardiograms](https://en.wikipedia.org/wiki/Electrocardiography), each with 140 data points. You will use a simplified version of the dataset, where each example has been labeled either `0` (corresponding to an abnormal rhythm), or `1` (corresponding to a normal rhythm). You are interested in identifying the abnormal rhythms.\n",
        "\n",
        "Note: This is a labeled dataset, so you could phrase this as a supervised learning problem. The goal of this example is to illustrate anomaly detection concepts you can apply to larger datasets, where you do not have labels available (for example, if you had many thousands of normal rhythms, and only a small number of abnormal rhythms).\n",
        "\n",
        "How will you detect anomalies using an autoencoder? Recall that an autoencoder is trained to minimize reconstruction error. You will train an autoencoder on the normal rhythms only, then use it to reconstruct all the data. Our hypothesis is that the abnormal rhythms will have higher reconstruction error. You will then classify a rhythm as an anomaly if the reconstruction error surpasses a fixed threshold."
      ]
    },
    {
      "cell_type": "markdown",
      "metadata": {
        "id": "8yeTVuU1KVEb"
      },
      "source": [
        "The data was pre-processed in two steps: (1) extract each heartbeat, (2) make each heartbeat equal length using interpolation. This dataset was originally used in paper \"A general framework for never-ending learning from time series streams\", DAMI 29(6). After that, 5,000 heartbeats were randomly selected. The patient has severe congestive heart failure and the class values were obtained by automated annotation\r\n",
        "\r\n",
        "http://www.timeseriesclassification.com/Downloads/ECG5000.zip"
      ]
    },
    {
      "cell_type": "markdown",
      "metadata": {
        "id": "f06Cg7q-KXn5"
      },
      "source": [
        "Number of Classes from 5 to 1 in csv"
      ]
    },
    {
      "cell_type": "markdown",
      "metadata": {
        "id": "vyzRmQyoIux0"
      },
      "source": [
        "![autoencoder.PNG](data:image/png;base64,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)"
      ]
    },
    {
      "cell_type": "markdown",
      "metadata": {
        "id": "i5estNaur_Mh"
      },
      "source": [
        "### Load ECG data"
      ]
    },
    {
      "cell_type": "markdown",
      "metadata": {
        "id": "y35nsXLPsDNX"
      },
      "source": [
        "The dataset you will use is based on one from [timeseriesclassification.com](http://www.timeseriesclassification.com/description.php?Dataset=ECG5000).\n"
      ]
    },
    {
      "cell_type": "code",
      "metadata": {
        "id": "KmKRDJWgsFYa",
        "colab": {
          "base_uri": "https://localhost:8080/",
          "height": 244
        },
        "outputId": "7939bc5f-6d74-47eb-d619-c2ee57026c64"
      },
      "source": [
        "# Download the dataset\n",
        "dataframe = pd.read_csv('http://storage.googleapis.com/download.tensorflow.org/data/ecg.csv', header=None)\n",
        "raw_data = dataframe.values\n",
        "dataframe.head()"
      ],
      "execution_count": 2,
      "outputs": [
        {
          "output_type": "execute_result",
          "data": {
            "text/html": [
              "<div>\n",
              "<style scoped>\n",
              "    .dataframe tbody tr th:only-of-type {\n",
              "        vertical-align: middle;\n",
              "    }\n",
              "\n",
              "    .dataframe tbody tr th {\n",
              "        vertical-align: top;\n",
              "    }\n",
              "\n",
              "    .dataframe thead th {\n",
              "        text-align: right;\n",
              "    }\n",
              "</style>\n",
              "<table border=\"1\" class=\"dataframe\">\n",
              "  <thead>\n",
              "    <tr style=\"text-align: right;\">\n",
              "      <th></th>\n",
              "      <th>0</th>\n",
              "      <th>1</th>\n",
              "      <th>2</th>\n",
              "      <th>3</th>\n",
              "      <th>4</th>\n",
              "      <th>5</th>\n",
              "      <th>6</th>\n",
              "      <th>7</th>\n",
              "      <th>8</th>\n",
              "      <th>9</th>\n",
              "      <th>10</th>\n",
              "      <th>11</th>\n",
              "      <th>12</th>\n",
              "      <th>13</th>\n",
              "      <th>14</th>\n",
              "      <th>15</th>\n",
              "      <th>16</th>\n",
              "      <th>17</th>\n",
              "      <th>18</th>\n",
              "      <th>19</th>\n",
              "      <th>20</th>\n",
              "      <th>21</th>\n",
              "      <th>22</th>\n",
              "      <th>23</th>\n",
              "      <th>24</th>\n",
              "      <th>25</th>\n",
              "      <th>26</th>\n",
              "      <th>27</th>\n",
              "      <th>28</th>\n",
              "      <th>29</th>\n",
              "      <th>30</th>\n",
              "      <th>31</th>\n",
              "      <th>32</th>\n",
              "      <th>33</th>\n",
              "      <th>34</th>\n",
              "      <th>35</th>\n",
              "      <th>36</th>\n",
              "      <th>37</th>\n",
              "      <th>38</th>\n",
              "      <th>39</th>\n",
              "      <th>...</th>\n",
              "      <th>101</th>\n",
              "      <th>102</th>\n",
              "      <th>103</th>\n",
              "      <th>104</th>\n",
              "      <th>105</th>\n",
              "      <th>106</th>\n",
              "      <th>107</th>\n",
              "      <th>108</th>\n",
              "      <th>109</th>\n",
              "      <th>110</th>\n",
              "      <th>111</th>\n",
              "      <th>112</th>\n",
              "      <th>113</th>\n",
              "      <th>114</th>\n",
              "      <th>115</th>\n",
              "      <th>116</th>\n",
              "      <th>117</th>\n",
              "      <th>118</th>\n",
              "      <th>119</th>\n",
              "      <th>120</th>\n",
              "      <th>121</th>\n",
              "      <th>122</th>\n",
              "      <th>123</th>\n",
              "      <th>124</th>\n",
              "      <th>125</th>\n",
              "      <th>126</th>\n",
              "      <th>127</th>\n",
              "      <th>128</th>\n",
              "      <th>129</th>\n",
              "      <th>130</th>\n",
              "      <th>131</th>\n",
              "      <th>132</th>\n",
              "      <th>133</th>\n",
              "      <th>134</th>\n",
              "      <th>135</th>\n",
              "      <th>136</th>\n",
              "      <th>137</th>\n",
              "      <th>138</th>\n",
              "      <th>139</th>\n",
              "      <th>140</th>\n",
              "    </tr>\n",
              "  </thead>\n",
              "  <tbody>\n",
              "    <tr>\n",
              "      <th>0</th>\n",
              "      <td>-0.112522</td>\n",
              "      <td>-2.827204</td>\n",
              "      <td>-3.773897</td>\n",
              "      <td>-4.349751</td>\n",
              "      <td>-4.376041</td>\n",
              "      <td>-3.474986</td>\n",
              "      <td>-2.181408</td>\n",
              "      <td>-1.818287</td>\n",
              "      <td>-1.250522</td>\n",
              "      <td>-0.477492</td>\n",
              "      <td>-0.363808</td>\n",
              "      <td>-0.491957</td>\n",
              "      <td>-0.421855</td>\n",
              "      <td>-0.309201</td>\n",
              "      <td>-0.495939</td>\n",
              "      <td>-0.342119</td>\n",
              "      <td>-0.355336</td>\n",
              "      <td>-0.367913</td>\n",
              "      <td>-0.316503</td>\n",
              "      <td>-0.412374</td>\n",
              "      <td>-0.471672</td>\n",
              "      <td>-0.413458</td>\n",
              "      <td>-0.364617</td>\n",
              "      <td>-0.449298</td>\n",
              "      <td>-0.471419</td>\n",
              "      <td>-0.424777</td>\n",
              "      <td>-0.462517</td>\n",
              "      <td>-0.552472</td>\n",
              "      <td>-0.475375</td>\n",
              "      <td>-0.694200</td>\n",
              "      <td>-0.701868</td>\n",
              "      <td>-0.593812</td>\n",
              "      <td>-0.660684</td>\n",
              "      <td>-0.713831</td>\n",
              "      <td>-0.769807</td>\n",
              "      <td>-0.672282</td>\n",
              "      <td>-0.653676</td>\n",
              "      <td>-0.639406</td>\n",
              "      <td>-0.559302</td>\n",
              "      <td>-0.591670</td>\n",
              "      <td>...</td>\n",
              "      <td>1.258179</td>\n",
              "      <td>1.433789</td>\n",
              "      <td>1.700533</td>\n",
              "      <td>1.999043</td>\n",
              "      <td>2.125341</td>\n",
              "      <td>1.993291</td>\n",
              "      <td>1.932246</td>\n",
              "      <td>1.797437</td>\n",
              "      <td>1.522284</td>\n",
              "      <td>1.251168</td>\n",
              "      <td>0.998730</td>\n",
              "      <td>0.483722</td>\n",
              "      <td>0.023132</td>\n",
              "      <td>-0.194914</td>\n",
              "      <td>-0.220917</td>\n",
              "      <td>-0.243737</td>\n",
              "      <td>-0.254695</td>\n",
              "      <td>-0.291136</td>\n",
              "      <td>-0.256490</td>\n",
              "      <td>-0.227874</td>\n",
              "      <td>-0.322423</td>\n",
              "      <td>-0.289286</td>\n",
              "      <td>-0.318170</td>\n",
              "      <td>-0.363654</td>\n",
              "      <td>-0.393456</td>\n",
              "      <td>-0.266419</td>\n",
              "      <td>-0.256823</td>\n",
              "      <td>-0.288694</td>\n",
              "      <td>-0.162338</td>\n",
              "      <td>0.160348</td>\n",
              "      <td>0.792168</td>\n",
              "      <td>0.933541</td>\n",
              "      <td>0.796958</td>\n",
              "      <td>0.578621</td>\n",
              "      <td>0.257740</td>\n",
              "      <td>0.228077</td>\n",
              "      <td>0.123431</td>\n",
              "      <td>0.925286</td>\n",
              "      <td>0.193137</td>\n",
              "      <td>1.0</td>\n",
              "    </tr>\n",
              "    <tr>\n",
              "      <th>1</th>\n",
              "      <td>-1.100878</td>\n",
              "      <td>-3.996840</td>\n",
              "      <td>-4.285843</td>\n",
              "      <td>-4.506579</td>\n",
              "      <td>-4.022377</td>\n",
              "      <td>-3.234368</td>\n",
              "      <td>-1.566126</td>\n",
              "      <td>-0.992258</td>\n",
              "      <td>-0.754680</td>\n",
              "      <td>0.042321</td>\n",
              "      <td>0.148951</td>\n",
              "      <td>0.183527</td>\n",
              "      <td>0.294876</td>\n",
              "      <td>0.190233</td>\n",
              "      <td>0.235575</td>\n",
              "      <td>0.253487</td>\n",
              "      <td>0.221742</td>\n",
              "      <td>0.050233</td>\n",
              "      <td>0.178042</td>\n",
              "      <td>0.139563</td>\n",
              "      <td>0.046794</td>\n",
              "      <td>0.043007</td>\n",
              "      <td>0.106544</td>\n",
              "      <td>0.012654</td>\n",
              "      <td>0.003995</td>\n",
              "      <td>0.045724</td>\n",
              "      <td>-0.045999</td>\n",
              "      <td>-0.072667</td>\n",
              "      <td>-0.071078</td>\n",
              "      <td>-0.153866</td>\n",
              "      <td>-0.227254</td>\n",
              "      <td>-0.249270</td>\n",
              "      <td>-0.253489</td>\n",
              "      <td>-0.332835</td>\n",
              "      <td>-0.264330</td>\n",
              "      <td>-0.345825</td>\n",
              "      <td>-0.310781</td>\n",
              "      <td>-0.334160</td>\n",
              "      <td>-0.306178</td>\n",
              "      <td>-0.174563</td>\n",
              "      <td>...</td>\n",
              "      <td>1.808428</td>\n",
              "      <td>2.164346</td>\n",
              "      <td>2.070747</td>\n",
              "      <td>1.903614</td>\n",
              "      <td>1.764455</td>\n",
              "      <td>1.507769</td>\n",
              "      <td>1.293428</td>\n",
              "      <td>0.894562</td>\n",
              "      <td>0.578016</td>\n",
              "      <td>0.244343</td>\n",
              "      <td>-0.286443</td>\n",
              "      <td>-0.515881</td>\n",
              "      <td>-0.732707</td>\n",
              "      <td>-0.832465</td>\n",
              "      <td>-0.803318</td>\n",
              "      <td>-0.836252</td>\n",
              "      <td>-0.777865</td>\n",
              "      <td>-0.774753</td>\n",
              "      <td>-0.733404</td>\n",
              "      <td>-0.721386</td>\n",
              "      <td>-0.832095</td>\n",
              "      <td>-0.711982</td>\n",
              "      <td>-0.751867</td>\n",
              "      <td>-0.757720</td>\n",
              "      <td>-0.853120</td>\n",
              "      <td>-0.766988</td>\n",
              "      <td>-0.688161</td>\n",
              "      <td>-0.519923</td>\n",
              "      <td>0.039406</td>\n",
              "      <td>0.560327</td>\n",
              "      <td>0.538356</td>\n",
              "      <td>0.656881</td>\n",
              "      <td>0.787490</td>\n",
              "      <td>0.724046</td>\n",
              "      <td>0.555784</td>\n",
              "      <td>0.476333</td>\n",
              "      <td>0.773820</td>\n",
              "      <td>1.119621</td>\n",
              "      <td>-1.436250</td>\n",
              "      <td>1.0</td>\n",
              "    </tr>\n",
              "    <tr>\n",
              "      <th>2</th>\n",
              "      <td>-0.567088</td>\n",
              "      <td>-2.593450</td>\n",
              "      <td>-3.874230</td>\n",
              "      <td>-4.584095</td>\n",
              "      <td>-4.187449</td>\n",
              "      <td>-3.151462</td>\n",
              "      <td>-1.742940</td>\n",
              "      <td>-1.490658</td>\n",
              "      <td>-1.183580</td>\n",
              "      <td>-0.394229</td>\n",
              "      <td>-0.282897</td>\n",
              "      <td>-0.356926</td>\n",
              "      <td>-0.287297</td>\n",
              "      <td>-0.399489</td>\n",
              "      <td>-0.473244</td>\n",
              "      <td>-0.379048</td>\n",
              "      <td>-0.399039</td>\n",
              "      <td>-0.178594</td>\n",
              "      <td>-0.339522</td>\n",
              "      <td>-0.498447</td>\n",
              "      <td>-0.337251</td>\n",
              "      <td>-0.425480</td>\n",
              "      <td>-0.423952</td>\n",
              "      <td>-0.463170</td>\n",
              "      <td>-0.493253</td>\n",
              "      <td>-0.549749</td>\n",
              "      <td>-0.529831</td>\n",
              "      <td>-0.530935</td>\n",
              "      <td>-0.502365</td>\n",
              "      <td>-0.417368</td>\n",
              "      <td>-0.526346</td>\n",
              "      <td>-0.471005</td>\n",
              "      <td>-0.676784</td>\n",
              "      <td>-0.898612</td>\n",
              "      <td>-0.610571</td>\n",
              "      <td>-0.530164</td>\n",
              "      <td>-0.765674</td>\n",
              "      <td>-0.581937</td>\n",
              "      <td>-0.537848</td>\n",
              "      <td>-0.556386</td>\n",
              "      <td>...</td>\n",
              "      <td>1.810988</td>\n",
              "      <td>2.185398</td>\n",
              "      <td>2.262985</td>\n",
              "      <td>2.052920</td>\n",
              "      <td>1.890488</td>\n",
              "      <td>1.793033</td>\n",
              "      <td>1.564784</td>\n",
              "      <td>1.234619</td>\n",
              "      <td>0.900302</td>\n",
              "      <td>0.551957</td>\n",
              "      <td>0.258222</td>\n",
              "      <td>-0.128587</td>\n",
              "      <td>-0.092585</td>\n",
              "      <td>-0.168606</td>\n",
              "      <td>-0.495989</td>\n",
              "      <td>-0.395034</td>\n",
              "      <td>-0.328238</td>\n",
              "      <td>-0.448138</td>\n",
              "      <td>-0.268230</td>\n",
              "      <td>-0.456415</td>\n",
              "      <td>-0.357867</td>\n",
              "      <td>-0.317508</td>\n",
              "      <td>-0.434112</td>\n",
              "      <td>-0.549203</td>\n",
              "      <td>-0.324615</td>\n",
              "      <td>-0.268082</td>\n",
              "      <td>-0.220384</td>\n",
              "      <td>-0.117429</td>\n",
              "      <td>0.614059</td>\n",
              "      <td>1.284825</td>\n",
              "      <td>0.886073</td>\n",
              "      <td>0.531452</td>\n",
              "      <td>0.311377</td>\n",
              "      <td>-0.021919</td>\n",
              "      <td>-0.713683</td>\n",
              "      <td>-0.532197</td>\n",
              "      <td>0.321097</td>\n",
              "      <td>0.904227</td>\n",
              "      <td>-0.421797</td>\n",
              "      <td>1.0</td>\n",
              "    </tr>\n",
              "    <tr>\n",
              "      <th>3</th>\n",
              "      <td>0.490473</td>\n",
              "      <td>-1.914407</td>\n",
              "      <td>-3.616364</td>\n",
              "      <td>-4.318823</td>\n",
              "      <td>-4.268016</td>\n",
              "      <td>-3.881110</td>\n",
              "      <td>-2.993280</td>\n",
              "      <td>-1.671131</td>\n",
              "      <td>-1.333884</td>\n",
              "      <td>-0.965629</td>\n",
              "      <td>-0.183319</td>\n",
              "      <td>-0.101657</td>\n",
              "      <td>-0.273874</td>\n",
              "      <td>-0.127818</td>\n",
              "      <td>-0.195983</td>\n",
              "      <td>-0.213523</td>\n",
              "      <td>-0.176473</td>\n",
              "      <td>-0.156932</td>\n",
              "      <td>-0.149172</td>\n",
              "      <td>-0.181510</td>\n",
              "      <td>-0.180074</td>\n",
              "      <td>-0.246151</td>\n",
              "      <td>-0.274260</td>\n",
              "      <td>-0.140960</td>\n",
              "      <td>-0.277449</td>\n",
              "      <td>-0.382549</td>\n",
              "      <td>-0.311937</td>\n",
              "      <td>-0.360093</td>\n",
              "      <td>-0.405968</td>\n",
              "      <td>-0.571433</td>\n",
              "      <td>-0.524106</td>\n",
              "      <td>-0.537886</td>\n",
              "      <td>-0.606778</td>\n",
              "      <td>-0.661446</td>\n",
              "      <td>-0.683375</td>\n",
              "      <td>-0.746683</td>\n",
              "      <td>-0.635662</td>\n",
              "      <td>-0.625231</td>\n",
              "      <td>-0.540094</td>\n",
              "      <td>-0.674995</td>\n",
              "      <td>...</td>\n",
              "      <td>1.772155</td>\n",
              "      <td>2.000769</td>\n",
              "      <td>1.925003</td>\n",
              "      <td>1.898426</td>\n",
              "      <td>1.720953</td>\n",
              "      <td>1.501711</td>\n",
              "      <td>1.422492</td>\n",
              "      <td>1.023225</td>\n",
              "      <td>0.776341</td>\n",
              "      <td>0.504426</td>\n",
              "      <td>0.056382</td>\n",
              "      <td>-0.233161</td>\n",
              "      <td>-0.406388</td>\n",
              "      <td>-0.327528</td>\n",
              "      <td>-0.460868</td>\n",
              "      <td>-0.402536</td>\n",
              "      <td>-0.345752</td>\n",
              "      <td>-0.354206</td>\n",
              "      <td>-0.439959</td>\n",
              "      <td>-0.425326</td>\n",
              "      <td>-0.439789</td>\n",
              "      <td>-0.451835</td>\n",
              "      <td>-0.395926</td>\n",
              "      <td>-0.448762</td>\n",
              "      <td>-0.391789</td>\n",
              "      <td>-0.376307</td>\n",
              "      <td>-0.461069</td>\n",
              "      <td>-0.253524</td>\n",
              "      <td>0.213006</td>\n",
              "      <td>0.491173</td>\n",
              "      <td>0.350816</td>\n",
              "      <td>0.499111</td>\n",
              "      <td>0.600345</td>\n",
              "      <td>0.842069</td>\n",
              "      <td>0.952074</td>\n",
              "      <td>0.990133</td>\n",
              "      <td>1.086798</td>\n",
              "      <td>1.403011</td>\n",
              "      <td>-0.383564</td>\n",
              "      <td>1.0</td>\n",
              "    </tr>\n",
              "    <tr>\n",
              "      <th>4</th>\n",
              "      <td>0.800232</td>\n",
              "      <td>-0.874252</td>\n",
              "      <td>-2.384761</td>\n",
              "      <td>-3.973292</td>\n",
              "      <td>-4.338224</td>\n",
              "      <td>-3.802422</td>\n",
              "      <td>-2.534510</td>\n",
              "      <td>-1.783423</td>\n",
              "      <td>-1.594450</td>\n",
              "      <td>-0.753199</td>\n",
              "      <td>-0.298107</td>\n",
              "      <td>-0.428928</td>\n",
              "      <td>-0.491351</td>\n",
              "      <td>-0.361304</td>\n",
              "      <td>-0.339296</td>\n",
              "      <td>-0.324952</td>\n",
              "      <td>-0.290113</td>\n",
              "      <td>-0.363051</td>\n",
              "      <td>-0.525684</td>\n",
              "      <td>-0.597423</td>\n",
              "      <td>-0.575523</td>\n",
              "      <td>-0.567503</td>\n",
              "      <td>-0.504555</td>\n",
              "      <td>-0.618406</td>\n",
              "      <td>-0.682814</td>\n",
              "      <td>-0.743849</td>\n",
              "      <td>-0.815588</td>\n",
              "      <td>-0.826902</td>\n",
              "      <td>-0.782374</td>\n",
              "      <td>-0.929462</td>\n",
              "      <td>-0.999672</td>\n",
              "      <td>-1.060969</td>\n",
              "      <td>-1.007877</td>\n",
              "      <td>-1.028735</td>\n",
              "      <td>-1.122629</td>\n",
              "      <td>-1.028650</td>\n",
              "      <td>-1.046515</td>\n",
              "      <td>-1.063372</td>\n",
              "      <td>-1.122423</td>\n",
              "      <td>-0.983242</td>\n",
              "      <td>...</td>\n",
              "      <td>1.155363</td>\n",
              "      <td>1.336254</td>\n",
              "      <td>1.627534</td>\n",
              "      <td>1.717594</td>\n",
              "      <td>1.696487</td>\n",
              "      <td>1.741686</td>\n",
              "      <td>1.674078</td>\n",
              "      <td>1.546928</td>\n",
              "      <td>1.331738</td>\n",
              "      <td>1.110168</td>\n",
              "      <td>0.922210</td>\n",
              "      <td>0.521777</td>\n",
              "      <td>0.154852</td>\n",
              "      <td>-0.123861</td>\n",
              "      <td>-0.202998</td>\n",
              "      <td>-0.247956</td>\n",
              "      <td>-0.219122</td>\n",
              "      <td>-0.214695</td>\n",
              "      <td>-0.319215</td>\n",
              "      <td>-0.198597</td>\n",
              "      <td>-0.151618</td>\n",
              "      <td>-0.129593</td>\n",
              "      <td>-0.074939</td>\n",
              "      <td>-0.196807</td>\n",
              "      <td>-0.174795</td>\n",
              "      <td>-0.208833</td>\n",
              "      <td>-0.210754</td>\n",
              "      <td>-0.100485</td>\n",
              "      <td>0.197446</td>\n",
              "      <td>0.966606</td>\n",
              "      <td>1.148884</td>\n",
              "      <td>0.958434</td>\n",
              "      <td>1.059025</td>\n",
              "      <td>1.371682</td>\n",
              "      <td>1.277392</td>\n",
              "      <td>0.960304</td>\n",
              "      <td>0.971020</td>\n",
              "      <td>1.614392</td>\n",
              "      <td>1.421456</td>\n",
              "      <td>1.0</td>\n",
              "    </tr>\n",
              "  </tbody>\n",
              "</table>\n",
              "<p>5 rows × 141 columns</p>\n",
              "</div>"
            ],
            "text/plain": [
              "        0         1         2         3    ...       137       138       139  140\n",
              "0 -0.112522 -2.827204 -3.773897 -4.349751  ...  0.123431  0.925286  0.193137  1.0\n",
              "1 -1.100878 -3.996840 -4.285843 -4.506579  ...  0.773820  1.119621 -1.436250  1.0\n",
              "2 -0.567088 -2.593450 -3.874230 -4.584095  ...  0.321097  0.904227 -0.421797  1.0\n",
              "3  0.490473 -1.914407 -3.616364 -4.318823  ...  1.086798  1.403011 -0.383564  1.0\n",
              "4  0.800232 -0.874252 -2.384761 -3.973292  ...  0.971020  1.614392  1.421456  1.0\n",
              "\n",
              "[5 rows x 141 columns]"
            ]
          },
          "metadata": {
            "tags": []
          },
          "execution_count": 2
        }
      ]
    },
    {
      "cell_type": "code",
      "metadata": {
        "colab": {
          "base_uri": "https://localhost:8080/",
          "height": 333
        },
        "id": "OzdtEfWu3Vqt",
        "outputId": "a507365b-7106-495c-a7c8-886b44490ebd"
      },
      "source": [
        "dataframe.describe()"
      ],
      "execution_count": 19,
      "outputs": [
        {
          "output_type": "execute_result",
          "data": {
            "text/html": [
              "<div>\n",
              "<style scoped>\n",
              "    .dataframe tbody tr th:only-of-type {\n",
              "        vertical-align: middle;\n",
              "    }\n",
              "\n",
              "    .dataframe tbody tr th {\n",
              "        vertical-align: top;\n",
              "    }\n",
              "\n",
              "    .dataframe thead th {\n",
              "        text-align: right;\n",
              "    }\n",
              "</style>\n",
              "<table border=\"1\" class=\"dataframe\">\n",
              "  <thead>\n",
              "    <tr style=\"text-align: right;\">\n",
              "      <th></th>\n",
              "      <th>0</th>\n",
              "      <th>1</th>\n",
              "      <th>2</th>\n",
              "      <th>3</th>\n",
              "      <th>4</th>\n",
              "      <th>5</th>\n",
              "      <th>6</th>\n",
              "      <th>7</th>\n",
              "      <th>8</th>\n",
              "      <th>9</th>\n",
              "      <th>10</th>\n",
              "      <th>11</th>\n",
              "      <th>12</th>\n",
              "      <th>13</th>\n",
              "      <th>14</th>\n",
              "      <th>15</th>\n",
              "      <th>16</th>\n",
              "      <th>17</th>\n",
              "      <th>18</th>\n",
              "      <th>19</th>\n",
              "      <th>20</th>\n",
              "      <th>21</th>\n",
              "      <th>22</th>\n",
              "      <th>23</th>\n",
              "      <th>24</th>\n",
              "      <th>25</th>\n",
              "      <th>26</th>\n",
              "      <th>27</th>\n",
              "      <th>28</th>\n",
              "      <th>29</th>\n",
              "      <th>30</th>\n",
              "      <th>31</th>\n",
              "      <th>32</th>\n",
              "      <th>33</th>\n",
              "      <th>34</th>\n",
              "      <th>35</th>\n",
              "      <th>36</th>\n",
              "      <th>37</th>\n",
              "      <th>38</th>\n",
              "      <th>39</th>\n",
              "      <th>...</th>\n",
              "      <th>101</th>\n",
              "      <th>102</th>\n",
              "      <th>103</th>\n",
              "      <th>104</th>\n",
              "      <th>105</th>\n",
              "      <th>106</th>\n",
              "      <th>107</th>\n",
              "      <th>108</th>\n",
              "      <th>109</th>\n",
              "      <th>110</th>\n",
              "      <th>111</th>\n",
              "      <th>112</th>\n",
              "      <th>113</th>\n",
              "      <th>114</th>\n",
              "      <th>115</th>\n",
              "      <th>116</th>\n",
              "      <th>117</th>\n",
              "      <th>118</th>\n",
              "      <th>119</th>\n",
              "      <th>120</th>\n",
              "      <th>121</th>\n",
              "      <th>122</th>\n",
              "      <th>123</th>\n",
              "      <th>124</th>\n",
              "      <th>125</th>\n",
              "      <th>126</th>\n",
              "      <th>127</th>\n",
              "      <th>128</th>\n",
              "      <th>129</th>\n",
              "      <th>130</th>\n",
              "      <th>131</th>\n",
              "      <th>132</th>\n",
              "      <th>133</th>\n",
              "      <th>134</th>\n",
              "      <th>135</th>\n",
              "      <th>136</th>\n",
              "      <th>137</th>\n",
              "      <th>138</th>\n",
              "      <th>139</th>\n",
              "      <th>140</th>\n",
              "    </tr>\n",
              "  </thead>\n",
              "  <tbody>\n",
              "    <tr>\n",
              "      <th>count</th>\n",
              "      <td>4998.000000</td>\n",
              "      <td>4998.000000</td>\n",
              "      <td>4998.000000</td>\n",
              "      <td>4998.000000</td>\n",
              "      <td>4998.000000</td>\n",
              "      <td>4998.000000</td>\n",
              "      <td>4998.000000</td>\n",
              "      <td>4998.000000</td>\n",
              "      <td>4998.000000</td>\n",
              "      <td>4998.000000</td>\n",
              "      <td>4998.000000</td>\n",
              "      <td>4998.000000</td>\n",
              "      <td>4998.000000</td>\n",
              "      <td>4998.000000</td>\n",
              "      <td>4998.000000</td>\n",
              "      <td>4998.000000</td>\n",
              "      <td>4998.000000</td>\n",
              "      <td>4998.000000</td>\n",
              "      <td>4998.000000</td>\n",
              "      <td>4998.000000</td>\n",
              "      <td>4998.000000</td>\n",
              "      <td>4998.000000</td>\n",
              "      <td>4998.000000</td>\n",
              "      <td>4998.000000</td>\n",
              "      <td>4998.000000</td>\n",
              "      <td>4998.000000</td>\n",
              "      <td>4998.000000</td>\n",
              "      <td>4998.000000</td>\n",
              "      <td>4998.000000</td>\n",
              "      <td>4998.000000</td>\n",
              "      <td>4998.000000</td>\n",
              "      <td>4998.000000</td>\n",
              "      <td>4998.000000</td>\n",
              "      <td>4998.000000</td>\n",
              "      <td>4998.000000</td>\n",
              "      <td>4998.000000</td>\n",
              "      <td>4998.000000</td>\n",
              "      <td>4998.000000</td>\n",
              "      <td>4998.000000</td>\n",
              "      <td>4998.000000</td>\n",
              "      <td>...</td>\n",
              "      <td>4998.000000</td>\n",
              "      <td>4998.000000</td>\n",
              "      <td>4998.000000</td>\n",
              "      <td>4998.000000</td>\n",
              "      <td>4998.000000</td>\n",
              "      <td>4998.000000</td>\n",
              "      <td>4998.000000</td>\n",
              "      <td>4998.000000</td>\n",
              "      <td>4998.000000</td>\n",
              "      <td>4998.000000</td>\n",
              "      <td>4998.000000</td>\n",
              "      <td>4998.000000</td>\n",
              "      <td>4998.000000</td>\n",
              "      <td>4998.000000</td>\n",
              "      <td>4998.000000</td>\n",
              "      <td>4998.000000</td>\n",
              "      <td>4998.000000</td>\n",
              "      <td>4998.000000</td>\n",
              "      <td>4998.000000</td>\n",
              "      <td>4998.000000</td>\n",
              "      <td>4998.000000</td>\n",
              "      <td>4998.000000</td>\n",
              "      <td>4998.000000</td>\n",
              "      <td>4998.000000</td>\n",
              "      <td>4998.000000</td>\n",
              "      <td>4998.000000</td>\n",
              "      <td>4998.000000</td>\n",
              "      <td>4998.000000</td>\n",
              "      <td>4998.000000</td>\n",
              "      <td>4998.000000</td>\n",
              "      <td>4998.000000</td>\n",
              "      <td>4998.000000</td>\n",
              "      <td>4998.000000</td>\n",
              "      <td>4998.000000</td>\n",
              "      <td>4998.000000</td>\n",
              "      <td>4998.000000</td>\n",
              "      <td>4998.000000</td>\n",
              "      <td>4998.000000</td>\n",
              "      <td>4998.000000</td>\n",
              "      <td>4998.000000</td>\n",
              "    </tr>\n",
              "    <tr>\n",
              "      <th>mean</th>\n",
              "      <td>-0.262502</td>\n",
              "      <td>-1.649828</td>\n",
              "      <td>-2.492623</td>\n",
              "      <td>-3.119754</td>\n",
              "      <td>-3.167656</td>\n",
              "      <td>-2.866306</td>\n",
              "      <td>-2.272845</td>\n",
              "      <td>-1.797754</td>\n",
              "      <td>-1.409784</td>\n",
              "      <td>-0.935806</td>\n",
              "      <td>-0.586130</td>\n",
              "      <td>-0.434278</td>\n",
              "      <td>-0.337449</td>\n",
              "      <td>-0.258099</td>\n",
              "      <td>-0.184456</td>\n",
              "      <td>-0.120129</td>\n",
              "      <td>-0.070506</td>\n",
              "      <td>-0.041937</td>\n",
              "      <td>-0.037130</td>\n",
              "      <td>-0.041337</td>\n",
              "      <td>-0.049010</td>\n",
              "      <td>-0.060307</td>\n",
              "      <td>-0.070843</td>\n",
              "      <td>-0.085600</td>\n",
              "      <td>-0.101286</td>\n",
              "      <td>-0.116194</td>\n",
              "      <td>-0.134578</td>\n",
              "      <td>-0.155946</td>\n",
              "      <td>-0.177672</td>\n",
              "      <td>-0.200843</td>\n",
              "      <td>-0.224423</td>\n",
              "      <td>-0.246854</td>\n",
              "      <td>-0.271651</td>\n",
              "      <td>-0.290474</td>\n",
              "      <td>-0.304663</td>\n",
              "      <td>-0.315294</td>\n",
              "      <td>-0.317019</td>\n",
              "      <td>-0.313238</td>\n",
              "      <td>-0.303382</td>\n",
              "      <td>-0.287468</td>\n",
              "      <td>...</td>\n",
              "      <td>1.051536</td>\n",
              "      <td>1.138315</td>\n",
              "      <td>1.187783</td>\n",
              "      <td>1.202143</td>\n",
              "      <td>1.191057</td>\n",
              "      <td>1.154773</td>\n",
              "      <td>1.086526</td>\n",
              "      <td>0.987001</td>\n",
              "      <td>0.864503</td>\n",
              "      <td>0.720300</td>\n",
              "      <td>0.569957</td>\n",
              "      <td>0.428874</td>\n",
              "      <td>0.319608</td>\n",
              "      <td>0.242431</td>\n",
              "      <td>0.180869</td>\n",
              "      <td>0.134522</td>\n",
              "      <td>0.109577</td>\n",
              "      <td>0.093447</td>\n",
              "      <td>0.080869</td>\n",
              "      <td>0.065658</td>\n",
              "      <td>0.047197</td>\n",
              "      <td>0.025245</td>\n",
              "      <td>0.004376</td>\n",
              "      <td>-0.009969</td>\n",
              "      <td>-0.019308</td>\n",
              "      <td>-0.026427</td>\n",
              "      <td>-0.029722</td>\n",
              "      <td>0.000602</td>\n",
              "      <td>0.086755</td>\n",
              "      <td>0.146633</td>\n",
              "      <td>0.071312</td>\n",
              "      <td>-0.062622</td>\n",
              "      <td>-0.276086</td>\n",
              "      <td>-0.507750</td>\n",
              "      <td>-0.761323</td>\n",
              "      <td>-0.835173</td>\n",
              "      <td>-0.642739</td>\n",
              "      <td>-0.487667</td>\n",
              "      <td>-0.706574</td>\n",
              "      <td>0.584034</td>\n",
              "    </tr>\n",
              "    <tr>\n",
              "      <th>std</th>\n",
              "      <td>1.152450</td>\n",
              "      <td>1.445542</td>\n",
              "      <td>1.386457</td>\n",
              "      <td>1.302921</td>\n",
              "      <td>1.104535</td>\n",
              "      <td>0.906312</td>\n",
              "      <td>0.731594</td>\n",
              "      <td>0.622794</td>\n",
              "      <td>0.636863</td>\n",
              "      <td>0.657788</td>\n",
              "      <td>0.591967</td>\n",
              "      <td>0.493568</td>\n",
              "      <td>0.426136</td>\n",
              "      <td>0.393470</td>\n",
              "      <td>0.382495</td>\n",
              "      <td>0.386314</td>\n",
              "      <td>0.400829</td>\n",
              "      <td>0.415265</td>\n",
              "      <td>0.423789</td>\n",
              "      <td>0.429737</td>\n",
              "      <td>0.434978</td>\n",
              "      <td>0.441769</td>\n",
              "      <td>0.447734</td>\n",
              "      <td>0.454604</td>\n",
              "      <td>0.461603</td>\n",
              "      <td>0.472735</td>\n",
              "      <td>0.483584</td>\n",
              "      <td>0.492048</td>\n",
              "      <td>0.503456</td>\n",
              "      <td>0.516152</td>\n",
              "      <td>0.530018</td>\n",
              "      <td>0.543060</td>\n",
              "      <td>0.552284</td>\n",
              "      <td>0.560660</td>\n",
              "      <td>0.564907</td>\n",
              "      <td>0.566459</td>\n",
              "      <td>0.560786</td>\n",
              "      <td>0.548962</td>\n",
              "      <td>0.536246</td>\n",
              "      <td>0.517517</td>\n",
              "      <td>...</td>\n",
              "      <td>0.574648</td>\n",
              "      <td>0.614846</td>\n",
              "      <td>0.623061</td>\n",
              "      <td>0.608324</td>\n",
              "      <td>0.582758</td>\n",
              "      <td>0.553968</td>\n",
              "      <td>0.531302</td>\n",
              "      <td>0.507281</td>\n",
              "      <td>0.485679</td>\n",
              "      <td>0.483575</td>\n",
              "      <td>0.511429</td>\n",
              "      <td>0.546471</td>\n",
              "      <td>0.565638</td>\n",
              "      <td>0.572041</td>\n",
              "      <td>0.573811</td>\n",
              "      <td>0.584503</td>\n",
              "      <td>0.589670</td>\n",
              "      <td>0.591625</td>\n",
              "      <td>0.597142</td>\n",
              "      <td>0.603989</td>\n",
              "      <td>0.610285</td>\n",
              "      <td>0.619744</td>\n",
              "      <td>0.633055</td>\n",
              "      <td>0.649124</td>\n",
              "      <td>0.667342</td>\n",
              "      <td>0.680240</td>\n",
              "      <td>0.693360</td>\n",
              "      <td>0.751323</td>\n",
              "      <td>0.919556</td>\n",
              "      <td>1.170839</td>\n",
              "      <td>1.404425</td>\n",
              "      <td>1.646105</td>\n",
              "      <td>1.894515</td>\n",
              "      <td>2.059366</td>\n",
              "      <td>2.086130</td>\n",
              "      <td>2.056296</td>\n",
              "      <td>1.859409</td>\n",
              "      <td>1.831088</td>\n",
              "      <td>1.414414</td>\n",
              "      <td>0.492937</td>\n",
              "    </tr>\n",
              "    <tr>\n",
              "      <th>min</th>\n",
              "      <td>-6.729499</td>\n",
              "      <td>-7.090374</td>\n",
              "      <td>-5.132459</td>\n",
              "      <td>-5.363241</td>\n",
              "      <td>-5.375715</td>\n",
              "      <td>-5.330194</td>\n",
              "      <td>-4.782240</td>\n",
              "      <td>-4.311288</td>\n",
              "      <td>-4.071361</td>\n",
              "      <td>-4.142476</td>\n",
              "      <td>-4.040526</td>\n",
              "      <td>-3.724538</td>\n",
              "      <td>-3.264576</td>\n",
              "      <td>-3.222345</td>\n",
              "      <td>-3.263484</td>\n",
              "      <td>-3.219212</td>\n",
              "      <td>-3.202187</td>\n",
              "      <td>-3.147504</td>\n",
              "      <td>-3.459917</td>\n",
              "      <td>-4.102102</td>\n",
              "      <td>-4.311241</td>\n",
              "      <td>-4.099888</td>\n",
              "      <td>-3.614973</td>\n",
              "      <td>-3.822298</td>\n",
              "      <td>-3.795567</td>\n",
              "      <td>-3.690817</td>\n",
              "      <td>-3.542485</td>\n",
              "      <td>-3.631665</td>\n",
              "      <td>-3.587112</td>\n",
              "      <td>-3.452215</td>\n",
              "      <td>-4.074752</td>\n",
              "      <td>-4.137454</td>\n",
              "      <td>-4.059662</td>\n",
              "      <td>-3.626646</td>\n",
              "      <td>-2.829471</td>\n",
              "      <td>-3.585866</td>\n",
              "      <td>-4.003401</td>\n",
              "      <td>-3.900724</td>\n",
              "      <td>-3.325329</td>\n",
              "      <td>-3.911093</td>\n",
              "      <td>...</td>\n",
              "      <td>-2.634950</td>\n",
              "      <td>-2.634768</td>\n",
              "      <td>-2.591663</td>\n",
              "      <td>-2.446476</td>\n",
              "      <td>-2.234175</td>\n",
              "      <td>-2.431403</td>\n",
              "      <td>-2.681604</td>\n",
              "      <td>-2.864706</td>\n",
              "      <td>-3.415656</td>\n",
              "      <td>-3.497624</td>\n",
              "      <td>-3.091282</td>\n",
              "      <td>-2.608510</td>\n",
              "      <td>-2.383204</td>\n",
              "      <td>-2.678883</td>\n",
              "      <td>-3.305661</td>\n",
              "      <td>-3.179590</td>\n",
              "      <td>-3.311559</td>\n",
              "      <td>-3.501555</td>\n",
              "      <td>-4.007212</td>\n",
              "      <td>-4.199563</td>\n",
              "      <td>-3.335678</td>\n",
              "      <td>-3.127603</td>\n",
              "      <td>-3.042532</td>\n",
              "      <td>-3.116177</td>\n",
              "      <td>-3.972320</td>\n",
              "      <td>-4.754057</td>\n",
              "      <td>-4.290016</td>\n",
              "      <td>-3.802469</td>\n",
              "      <td>-4.014642</td>\n",
              "      <td>-3.971715</td>\n",
              "      <td>-4.167040</td>\n",
              "      <td>-4.557576</td>\n",
              "      <td>-4.530488</td>\n",
              "      <td>-4.563270</td>\n",
              "      <td>-5.150100</td>\n",
              "      <td>-4.880460</td>\n",
              "      <td>-5.496107</td>\n",
              "      <td>-5.880890</td>\n",
              "      <td>-6.092227</td>\n",
              "      <td>0.000000</td>\n",
              "    </tr>\n",
              "    <tr>\n",
              "      <th>25%</th>\n",
              "      <td>-1.004220</td>\n",
              "      <td>-2.701936</td>\n",
              "      <td>-3.668585</td>\n",
              "      <td>-4.227337</td>\n",
              "      <td>-4.007630</td>\n",
              "      <td>-3.480666</td>\n",
              "      <td>-2.779832</td>\n",
              "      <td>-2.165808</td>\n",
              "      <td>-1.773870</td>\n",
              "      <td>-1.362003</td>\n",
              "      <td>-0.935581</td>\n",
              "      <td>-0.704545</td>\n",
              "      <td>-0.557786</td>\n",
              "      <td>-0.457045</td>\n",
              "      <td>-0.392050</td>\n",
              "      <td>-0.346571</td>\n",
              "      <td>-0.330078</td>\n",
              "      <td>-0.332150</td>\n",
              "      <td>-0.342887</td>\n",
              "      <td>-0.359614</td>\n",
              "      <td>-0.373584</td>\n",
              "      <td>-0.392696</td>\n",
              "      <td>-0.415363</td>\n",
              "      <td>-0.441361</td>\n",
              "      <td>-0.470725</td>\n",
              "      <td>-0.501688</td>\n",
              "      <td>-0.538308</td>\n",
              "      <td>-0.570269</td>\n",
              "      <td>-0.616870</td>\n",
              "      <td>-0.650657</td>\n",
              "      <td>-0.695510</td>\n",
              "      <td>-0.735157</td>\n",
              "      <td>-0.771070</td>\n",
              "      <td>-0.800239</td>\n",
              "      <td>-0.812346</td>\n",
              "      <td>-0.827283</td>\n",
              "      <td>-0.815851</td>\n",
              "      <td>-0.796261</td>\n",
              "      <td>-0.762420</td>\n",
              "      <td>-0.714294</td>\n",
              "      <td>...</td>\n",
              "      <td>0.637826</td>\n",
              "      <td>0.665319</td>\n",
              "      <td>0.688332</td>\n",
              "      <td>0.700151</td>\n",
              "      <td>0.713708</td>\n",
              "      <td>0.725241</td>\n",
              "      <td>0.719552</td>\n",
              "      <td>0.688365</td>\n",
              "      <td>0.628729</td>\n",
              "      <td>0.494990</td>\n",
              "      <td>0.255137</td>\n",
              "      <td>0.016509</td>\n",
              "      <td>-0.128966</td>\n",
              "      <td>-0.190544</td>\n",
              "      <td>-0.222519</td>\n",
              "      <td>-0.254896</td>\n",
              "      <td>-0.270112</td>\n",
              "      <td>-0.280208</td>\n",
              "      <td>-0.282162</td>\n",
              "      <td>-0.276904</td>\n",
              "      <td>-0.275988</td>\n",
              "      <td>-0.283589</td>\n",
              "      <td>-0.294496</td>\n",
              "      <td>-0.297273</td>\n",
              "      <td>-0.306706</td>\n",
              "      <td>-0.315939</td>\n",
              "      <td>-0.319823</td>\n",
              "      <td>-0.335449</td>\n",
              "      <td>-0.403674</td>\n",
              "      <td>-0.654403</td>\n",
              "      <td>-1.087720</td>\n",
              "      <td>-1.588237</td>\n",
              "      <td>-2.146835</td>\n",
              "      <td>-2.730750</td>\n",
              "      <td>-3.031224</td>\n",
              "      <td>-2.868603</td>\n",
              "      <td>-2.154560</td>\n",
              "      <td>-1.658289</td>\n",
              "      <td>-1.596809</td>\n",
              "      <td>0.000000</td>\n",
              "    </tr>\n",
              "    <tr>\n",
              "      <th>50%</th>\n",
              "      <td>-0.297541</td>\n",
              "      <td>-1.661892</td>\n",
              "      <td>-2.586129</td>\n",
              "      <td>-3.388210</td>\n",
              "      <td>-3.469899</td>\n",
              "      <td>-2.947061</td>\n",
              "      <td>-2.285427</td>\n",
              "      <td>-1.750084</td>\n",
              "      <td>-1.422457</td>\n",
              "      <td>-0.910384</td>\n",
              "      <td>-0.503252</td>\n",
              "      <td>-0.411444</td>\n",
              "      <td>-0.352290</td>\n",
              "      <td>-0.294927</td>\n",
              "      <td>-0.238326</td>\n",
              "      <td>-0.186218</td>\n",
              "      <td>-0.145063</td>\n",
              "      <td>-0.125969</td>\n",
              "      <td>-0.131354</td>\n",
              "      <td>-0.138634</td>\n",
              "      <td>-0.147557</td>\n",
              "      <td>-0.160465</td>\n",
              "      <td>-0.176075</td>\n",
              "      <td>-0.193273</td>\n",
              "      <td>-0.211239</td>\n",
              "      <td>-0.228620</td>\n",
              "      <td>-0.243433</td>\n",
              "      <td>-0.269804</td>\n",
              "      <td>-0.276165</td>\n",
              "      <td>-0.299510</td>\n",
              "      <td>-0.308855</td>\n",
              "      <td>-0.315379</td>\n",
              "      <td>-0.329388</td>\n",
              "      <td>-0.343777</td>\n",
              "      <td>-0.356713</td>\n",
              "      <td>-0.363959</td>\n",
              "      <td>-0.361235</td>\n",
              "      <td>-0.360073</td>\n",
              "      <td>-0.343391</td>\n",
              "      <td>-0.339368</td>\n",
              "      <td>...</td>\n",
              "      <td>0.922374</td>\n",
              "      <td>1.031316</td>\n",
              "      <td>1.150912</td>\n",
              "      <td>1.245925</td>\n",
              "      <td>1.278923</td>\n",
              "      <td>1.189461</td>\n",
              "      <td>1.047351</td>\n",
              "      <td>0.925302</td>\n",
              "      <td>0.820277</td>\n",
              "      <td>0.718438</td>\n",
              "      <td>0.626942</td>\n",
              "      <td>0.507614</td>\n",
              "      <td>0.367077</td>\n",
              "      <td>0.254163</td>\n",
              "      <td>0.110854</td>\n",
              "      <td>0.020120</td>\n",
              "      <td>-0.009357</td>\n",
              "      <td>-0.018137</td>\n",
              "      <td>-0.025629</td>\n",
              "      <td>-0.036462</td>\n",
              "      <td>-0.054501</td>\n",
              "      <td>-0.070819</td>\n",
              "      <td>-0.087635</td>\n",
              "      <td>-0.098353</td>\n",
              "      <td>-0.103667</td>\n",
              "      <td>-0.104560</td>\n",
              "      <td>-0.074941</td>\n",
              "      <td>0.015636</td>\n",
              "      <td>0.188872</td>\n",
              "      <td>0.473642</td>\n",
              "      <td>0.658318</td>\n",
              "      <td>0.717808</td>\n",
              "      <td>0.604747</td>\n",
              "      <td>0.334857</td>\n",
              "      <td>-0.030767</td>\n",
              "      <td>-0.195151</td>\n",
              "      <td>-0.194423</td>\n",
              "      <td>-0.160262</td>\n",
              "      <td>-0.568443</td>\n",
              "      <td>1.000000</td>\n",
              "    </tr>\n",
              "    <tr>\n",
              "      <th>75%</th>\n",
              "      <td>0.499909</td>\n",
              "      <td>-0.677998</td>\n",
              "      <td>-1.514187</td>\n",
              "      <td>-2.235690</td>\n",
              "      <td>-2.531153</td>\n",
              "      <td>-2.398797</td>\n",
              "      <td>-1.823480</td>\n",
              "      <td>-1.484107</td>\n",
              "      <td>-1.063592</td>\n",
              "      <td>-0.476477</td>\n",
              "      <td>-0.245819</td>\n",
              "      <td>-0.203848</td>\n",
              "      <td>-0.173120</td>\n",
              "      <td>-0.114919</td>\n",
              "      <td>-0.022894</td>\n",
              "      <td>0.079038</td>\n",
              "      <td>0.182443</td>\n",
              "      <td>0.254267</td>\n",
              "      <td>0.294417</td>\n",
              "      <td>0.307555</td>\n",
              "      <td>0.312618</td>\n",
              "      <td>0.309664</td>\n",
              "      <td>0.310086</td>\n",
              "      <td>0.310823</td>\n",
              "      <td>0.307178</td>\n",
              "      <td>0.309737</td>\n",
              "      <td>0.308784</td>\n",
              "      <td>0.303688</td>\n",
              "      <td>0.294949</td>\n",
              "      <td>0.291378</td>\n",
              "      <td>0.285887</td>\n",
              "      <td>0.277312</td>\n",
              "      <td>0.268007</td>\n",
              "      <td>0.267631</td>\n",
              "      <td>0.256714</td>\n",
              "      <td>0.238607</td>\n",
              "      <td>0.233646</td>\n",
              "      <td>0.222738</td>\n",
              "      <td>0.215702</td>\n",
              "      <td>0.204561</td>\n",
              "      <td>...</td>\n",
              "      <td>1.521797</td>\n",
              "      <td>1.701123</td>\n",
              "      <td>1.766165</td>\n",
              "      <td>1.752475</td>\n",
              "      <td>1.686368</td>\n",
              "      <td>1.586768</td>\n",
              "      <td>1.424859</td>\n",
              "      <td>1.241014</td>\n",
              "      <td>1.051941</td>\n",
              "      <td>0.929639</td>\n",
              "      <td>0.861648</td>\n",
              "      <td>0.806979</td>\n",
              "      <td>0.773664</td>\n",
              "      <td>0.713234</td>\n",
              "      <td>0.627088</td>\n",
              "      <td>0.572303</td>\n",
              "      <td>0.550393</td>\n",
              "      <td>0.520385</td>\n",
              "      <td>0.486853</td>\n",
              "      <td>0.438100</td>\n",
              "      <td>0.385007</td>\n",
              "      <td>0.317094</td>\n",
              "      <td>0.250984</td>\n",
              "      <td>0.200913</td>\n",
              "      <td>0.180142</td>\n",
              "      <td>0.176978</td>\n",
              "      <td>0.215109</td>\n",
              "      <td>0.345592</td>\n",
              "      <td>0.715228</td>\n",
              "      <td>1.061866</td>\n",
              "      <td>1.169392</td>\n",
              "      <td>1.238651</td>\n",
              "      <td>1.264379</td>\n",
              "      <td>1.234408</td>\n",
              "      <td>1.033957</td>\n",
              "      <td>0.945027</td>\n",
              "      <td>0.951621</td>\n",
              "      <td>1.002628</td>\n",
              "      <td>0.271635</td>\n",
              "      <td>1.000000</td>\n",
              "    </tr>\n",
              "    <tr>\n",
              "      <th>max</th>\n",
              "      <td>4.966414</td>\n",
              "      <td>3.479689</td>\n",
              "      <td>2.660597</td>\n",
              "      <td>1.899798</td>\n",
              "      <td>2.147015</td>\n",
              "      <td>1.614375</td>\n",
              "      <td>1.868728</td>\n",
              "      <td>1.804251</td>\n",
              "      <td>1.683730</td>\n",
              "      <td>1.898627</td>\n",
              "      <td>2.033007</td>\n",
              "      <td>2.159861</td>\n",
              "      <td>2.390867</td>\n",
              "      <td>2.433236</td>\n",
              "      <td>2.160356</td>\n",
              "      <td>2.125758</td>\n",
              "      <td>2.566762</td>\n",
              "      <td>2.099727</td>\n",
              "      <td>2.117594</td>\n",
              "      <td>2.076279</td>\n",
              "      <td>2.053132</td>\n",
              "      <td>2.091794</td>\n",
              "      <td>2.003258</td>\n",
              "      <td>1.950623</td>\n",
              "      <td>1.958402</td>\n",
              "      <td>1.966838</td>\n",
              "      <td>1.941571</td>\n",
              "      <td>1.964678</td>\n",
              "      <td>1.866897</td>\n",
              "      <td>1.870258</td>\n",
              "      <td>1.862162</td>\n",
              "      <td>2.063265</td>\n",
              "      <td>1.941110</td>\n",
              "      <td>1.931091</td>\n",
              "      <td>1.890201</td>\n",
              "      <td>1.834472</td>\n",
              "      <td>1.721037</td>\n",
              "      <td>1.619301</td>\n",
              "      <td>1.583824</td>\n",
              "      <td>1.613533</td>\n",
              "      <td>...</td>\n",
              "      <td>2.836767</td>\n",
              "      <td>2.820616</td>\n",
              "      <td>2.940154</td>\n",
              "      <td>2.685726</td>\n",
              "      <td>2.959324</td>\n",
              "      <td>2.895572</td>\n",
              "      <td>2.604823</td>\n",
              "      <td>2.478775</td>\n",
              "      <td>2.513328</td>\n",
              "      <td>2.599892</td>\n",
              "      <td>2.937152</td>\n",
              "      <td>2.950522</td>\n",
              "      <td>2.830852</td>\n",
              "      <td>2.861781</td>\n",
              "      <td>2.828775</td>\n",
              "      <td>2.702857</td>\n",
              "      <td>2.538437</td>\n",
              "      <td>2.680203</td>\n",
              "      <td>2.764017</td>\n",
              "      <td>2.839710</td>\n",
              "      <td>2.714548</td>\n",
              "      <td>2.869542</td>\n",
              "      <td>3.052377</td>\n",
              "      <td>3.141808</td>\n",
              "      <td>3.215135</td>\n",
              "      <td>3.198790</td>\n",
              "      <td>3.086137</td>\n",
              "      <td>3.157157</td>\n",
              "      <td>3.037078</td>\n",
              "      <td>2.960969</td>\n",
              "      <td>3.007606</td>\n",
              "      <td>2.854680</td>\n",
              "      <td>2.912394</td>\n",
              "      <td>2.937685</td>\n",
              "      <td>3.351437</td>\n",
              "      <td>3.432518</td>\n",
              "      <td>3.579448</td>\n",
              "      <td>4.425976</td>\n",
              "      <td>7.402103</td>\n",
              "      <td>1.000000</td>\n",
              "    </tr>\n",
              "  </tbody>\n",
              "</table>\n",
              "<p>8 rows × 141 columns</p>\n",
              "</div>"
            ],
            "text/plain": [
              "               0            1    ...          139          140\n",
              "count  4998.000000  4998.000000  ...  4998.000000  4998.000000\n",
              "mean     -0.262502    -1.649828  ...    -0.706574     0.584034\n",
              "std       1.152450     1.445542  ...     1.414414     0.492937\n",
              "min      -6.729499    -7.090374  ...    -6.092227     0.000000\n",
              "25%      -1.004220    -2.701936  ...    -1.596809     0.000000\n",
              "50%      -0.297541    -1.661892  ...    -0.568443     1.000000\n",
              "75%       0.499909    -0.677998  ...     0.271635     1.000000\n",
              "max       4.966414     3.479689  ...     7.402103     1.000000\n",
              "\n",
              "[8 rows x 141 columns]"
            ]
          },
          "metadata": {
            "tags": []
          },
          "execution_count": 19
        }
      ]
    },
    {
      "cell_type": "code",
      "metadata": {
        "id": "UmuCPVYKsKKx"
      },
      "source": [
        "# The last element contains the labels\n",
        "labels = raw_data[:, -1]\n",
        "\n",
        "# The other data points are the electrocadriogram data\n",
        "data = raw_data[:, 0:-1]\n",
        "\n",
        "train_data, test_data, train_labels, test_labels = train_test_split(\n",
        "    data, labels, test_size=0.2, random_state=21\n",
        ")"
      ],
      "execution_count": 3,
      "outputs": []
    },
    {
      "cell_type": "markdown",
      "metadata": {
        "id": "byK2vP7hsMbz"
      },
      "source": [
        "Normalize the data to `[0,1]`.\n"
      ]
    },
    {
      "cell_type": "code",
      "metadata": {
        "id": "tgMZVWRKsPx6"
      },
      "source": [
        "min_val = tf.reduce_min(train_data)\n",
        "max_val = tf.reduce_max(train_data)\n",
        "\n",
        "train_data = (train_data - min_val) / (max_val - min_val)\n",
        "test_data = (test_data - min_val) / (max_val - min_val)\n",
        "\n",
        "train_data = tf.cast(train_data, tf.float32)\n",
        "test_data = tf.cast(test_data, tf.float32)"
      ],
      "execution_count": 4,
      "outputs": []
    },
    {
      "cell_type": "markdown",
      "metadata": {
        "id": "BdSYr2IPsTiz"
      },
      "source": [
        "You will train the autoencoder using only the normal rhythms, which are labeled in this dataset as `1`. Separate the normal rhythms from the abnormal rhythms."
      ]
    },
    {
      "cell_type": "code",
      "metadata": {
        "id": "VvK4NRe8sVhE"
      },
      "source": [
        "train_labels = train_labels.astype(bool)\n",
        "test_labels = test_labels.astype(bool)\n",
        "\n",
        "normal_train_data = train_data[train_labels]\n",
        "normal_test_data = test_data[test_labels]\n",
        "\n",
        "anomalous_train_data = train_data[~train_labels]\n",
        "anomalous_test_data = test_data[~test_labels]"
      ],
      "execution_count": 5,
      "outputs": []
    },
    {
      "cell_type": "markdown",
      "metadata": {
        "id": "wVcTBDo-CqFS"
      },
      "source": [
        "Plot a normal ECG. "
      ]
    },
    {
      "cell_type": "code",
      "metadata": {
        "id": "ZTlMIrpmseYe",
        "colab": {
          "base_uri": "https://localhost:8080/",
          "height": 281
        },
        "outputId": "7e1ed0af-fcf8-4f48-bc91-2460d98b09bf"
      },
      "source": [
        "plt.grid()\n",
        "plt.plot(np.arange(140), normal_train_data[0])\n",
        "plt.title(\"A Normal ECG\")\n",
        "plt.show()"
      ],
      "execution_count": 6,
      "outputs": [
        {
          "output_type": "display_data",
          "data": {
            "image/png": "[encoded data removed]",
            "text/plain": [
              "<Figure size 432x288 with 1 Axes>"
            ]
          },
          "metadata": {
            "tags": [],
            "needs_background": "light"
          }
        }
      ]
    },
    {
      "cell_type": "markdown",
      "metadata": {
        "id": "QpI9by2ZA0NN"
      },
      "source": [
        "Plot an anomalous ECG."
      ]
    },
    {
      "cell_type": "code",
      "metadata": {
        "id": "zrpXREF2siBr",
        "colab": {
          "base_uri": "https://localhost:8080/",
          "height": 281
        },
        "outputId": "5f462fa0-c738-490b-dfaf-bf54f6d69eba"
      },
      "source": [
        "plt.grid()\n",
        "plt.plot(np.arange(140), anomalous_train_data[0])\n",
        "plt.title(\"An Anomalous ECG\")\n",
        "plt.show()"
      ],
      "execution_count": 7,
      "outputs": [
        {
          "output_type": "display_data",
          "data": {
            "image/png": "[encoded data removed]",
            "text/plain": [
              "<Figure size 432x288 with 1 Axes>"
            ]
          },
          "metadata": {
            "tags": [],
            "needs_background": "light"
          }
        }
      ]
    },
    {
      "cell_type": "markdown",
      "metadata": {
        "id": "0DS6QKZJslZz"
      },
      "source": [
        "### Build the model"
      ]
    },
    {
      "cell_type": "code",
      "metadata": {
        "id": "bf6owZQDsp9y"
      },
      "source": [
        "class AnomalyDetector(Model):\n",
        "  def __init__(self):\n",
        "    super(AnomalyDetector, self).__init__()\n",
        "    self.encoder = tf.keras.Sequential([\n",
        "      layers.Dense(32, activation=\"relu\"),\n",
        "      layers.Dense(16, activation=\"relu\"),\n",
        "      layers.Dense(8, activation=\"relu\")])\n",
        "    \n",
        "    self.decoder = tf.keras.Sequential([\n",
        "      layers.Dense(16, activation=\"relu\"),\n",
        "      layers.Dense(32, activation=\"relu\"),\n",
        "      layers.Dense(140, activation=\"sigmoid\")])\n",
        "    \n",
        "  def call(self, x):\n",
        "    encoded = self.encoder(x)\n",
        "    decoded = self.decoder(encoded)\n",
        "    return decoded\n",
        "\n",
        "autoencoder = AnomalyDetector()"
      ],
      "execution_count": 59,
      "outputs": []
    },
    {
      "cell_type": "code",
      "metadata": {
        "id": "gwRpBBbg463S"
      },
      "source": [
        "autoencoder.compile(optimizer='adam', loss='mae')"
      ],
      "execution_count": 60,
      "outputs": []
    },
    {
      "cell_type": "markdown",
      "metadata": {
        "id": "zuTy60STBEy4"
      },
      "source": [
        "Notice that the autoencoder is trained using only the normal ECGs, but is evaluated using the full test set."
      ]
    },
    {
      "cell_type": "code",
      "metadata": {
        "id": "V6NFSs-jsty2",
        "colab": {
          "base_uri": "https://localhost:8080/"
        },
        "outputId": "b3dff0c7-4eab-4420-dfc1-827473f5093c"
      },
      "source": [
        "history = autoencoder.fit(normal_train_data, normal_train_data, \n",
        "          epochs=20, \n",
        "          batch_size=512,\n",
        "          validation_data=(test_data, test_data),\n",
        "          shuffle=True)"
      ],
      "execution_count": 61,
      "outputs": [
        {
          "output_type": "stream",
          "text": [
            "Epoch 1/20\n",
            "3/3 [==============================] - 1s 69ms/step - loss: 0.0583 - val_loss: 0.0533\n",
            "Epoch 2/20\n",
            "3/3 [==============================] - 0s 17ms/step - loss: 0.0568 - val_loss: 0.0522\n",
            "Epoch 3/20\n",
            "3/3 [==============================] - 0s 16ms/step - loss: 0.0551 - val_loss: 0.0510\n",
            "Epoch 4/20\n",
            "3/3 [==============================] - 0s 17ms/step - loss: 0.0531 - val_loss: 0.0496\n",
            "Epoch 5/20\n",
            "3/3 [==============================] - 0s 15ms/step - loss: 0.0508 - val_loss: 0.0484\n",
            "Epoch 6/20\n",
            "3/3 [==============================] - 0s 17ms/step - loss: 0.0483 - val_loss: 0.0474\n",
            "Epoch 7/20\n",
            "3/3 [==============================] - 0s 16ms/step - loss: 0.0459 - val_loss: 0.0459\n",
            "Epoch 8/20\n",
            "3/3 [==============================] - 0s 14ms/step - loss: 0.0436 - val_loss: 0.0446\n",
            "Epoch 9/20\n",
            "3/3 [==============================] - 0s 15ms/step - loss: 0.0414 - val_loss: 0.0436\n",
            "Epoch 10/20\n",
            "3/3 [==============================] - 0s 14ms/step - loss: 0.0394 - val_loss: 0.0428\n",
            "Epoch 11/20\n",
            "3/3 [==============================] - 0s 15ms/step - loss: 0.0375 - val_loss: 0.0419\n",
            "Epoch 12/20\n",
            "3/3 [==============================] - 0s 14ms/step - loss: 0.0357 - val_loss: 0.0411\n",
            "Epoch 13/20\n",
            "3/3 [==============================] - 0s 18ms/step - loss: 0.0340 - val_loss: 0.0403\n",
            "Epoch 14/20\n",
            "3/3 [==============================] - 0s 16ms/step - loss: 0.0324 - val_loss: 0.0397\n",
            "Epoch 15/20\n",
            "3/3 [==============================] - 0s 16ms/step - loss: 0.0309 - val_loss: 0.0390\n",
            "Epoch 16/20\n",
            "3/3 [==============================] - 0s 17ms/step - loss: 0.0298 - val_loss: 0.0384\n",
            "Epoch 17/20\n",
            "3/3 [==============================] - 0s 17ms/step - loss: 0.0287 - val_loss: 0.0378\n",
            "Epoch 18/20\n",
            "3/3 [==============================] - 0s 16ms/step - loss: 0.0278 - val_loss: 0.0373\n",
            "Epoch 19/20\n",
            "3/3 [==============================] - 0s 16ms/step - loss: 0.0269 - val_loss: 0.0368\n",
            "Epoch 20/20\n",
            "3/3 [==============================] - 0s 19ms/step - loss: 0.0262 - val_loss: 0.0362\n"
          ],
          "name": "stdout"
        }
      ]
    },
    {
      "cell_type": "code",
      "metadata": {
        "id": "OEexphFwwTQS",
        "colab": {
          "base_uri": "https://localhost:8080/",
          "height": 282
        },
        "outputId": "28d91711-4a3f-4961-fdf5-8263b3ab446b"
      },
      "source": [
        "plt.plot(history.history[\"loss\"], label=\"Training Loss\")\n",
        "plt.plot(history.history[\"val_loss\"], label=\"Validation Loss\")\n",
        "plt.legend()"
      ],
      "execution_count": 62,
      "outputs": [
        {
          "output_type": "execute_result",
          "data": {
            "text/plain": [
              "<matplotlib.legend.Legend at 0x7ffabb888990>"
            ]
          },
          "metadata": {
            "tags": []
          },
          "execution_count": 62
        },
        {
          "output_type": "display_data",
          "data": {
            "image/png": "[encoded data removed]",
            "text/plain": [
              "<Figure size 432x288 with 1 Axes>"
            ]
          },
          "metadata": {
            "tags": [],
            "needs_background": "light"
          }
        }
      ]
    },
    {
      "cell_type": "markdown",
      "metadata": {
        "id": "ceI5lKv1BT-A"
      },
      "source": [
        "You will soon classify an ECG as anomalous if the reconstruction error is greater than one standard deviation from the normal training examples. First, let's plot a normal ECG from the training set, the reconstruction after it's encoded and decoded by the autoencoder, and the reconstruction error."
      ]
    },
    {
      "cell_type": "code",
      "metadata": {
        "id": "hmsk4DuktxJ2",
        "colab": {
          "base_uri": "https://localhost:8080/",
          "height": 265
        },
        "outputId": "90489bd4-07c4-43e3-b581-e120957e3af8"
      },
      "source": [
        "encoded_imgs = autoencoder.encoder(normal_test_data).numpy()\n",
        "decoded_imgs = autoencoder.decoder(encoded_imgs).numpy()\n",
        "\n",
        "plt.plot(normal_test_data[0],'b')\n",
        "plt.plot(decoded_imgs[0],'r')\n",
        "plt.fill_between(np.arange(140), decoded_imgs[0], normal_test_data[0], color='lightcoral' )\n",
        "plt.legend(labels=[\"Input\", \"Reconstruction\", \"Error\"])\n",
        "plt.show()"
      ],
      "execution_count": 63,
      "outputs": [
        {
          "output_type": "display_data",
          "data": {
            "image/png": "[encoded data removed]",
            "text/plain": [
              "<Figure size 432x288 with 1 Axes>"
            ]
          },
          "metadata": {
            "tags": [],
            "needs_background": "light"
          }
        }
      ]
    },
    {
      "cell_type": "markdown",
      "metadata": {
        "id": "ocA_q9ufB_aF"
      },
      "source": [
        "Create a similar plot, this time for an anomalous test example."
      ]
    },
    {
      "cell_type": "code",
      "metadata": {
        "id": "vNFTuPhLwTBn",
        "colab": {
          "base_uri": "https://localhost:8080/",
          "height": 266
        },
        "outputId": "3cc4cf91-66c4-4cba-96a9-b382a7c9ae7f"
      },
      "source": [
        "encoded_imgs = autoencoder.encoder(anomalous_test_data).numpy()\n",
        "decoded_imgs = autoencoder.decoder(encoded_imgs).numpy()\n",
        "\n",
        "plt.plot(anomalous_test_data[0],'b')\n",
        "plt.plot(decoded_imgs[0],'r')\n",
        "plt.fill_between(np.arange(140), decoded_imgs[0], anomalous_test_data[0], color='lightcoral' )\n",
        "plt.legend(labels=[\"Input\", \"Reconstruction\", \"Error\"])\n",
        "plt.show()"
      ],
      "execution_count": 64,
      "outputs": [
        {
          "output_type": "display_data",
          "data": {
            "image/png": "[encoded data removed]",
            "text/plain": [
              "<Figure size 432x288 with 1 Axes>"
            ]
          },
          "metadata": {
            "tags": [],
            "needs_background": "light"
          }
        }
      ]
    },
    {
      "cell_type": "markdown",
      "metadata": {
        "id": "ocimg3MBswdS"
      },
      "source": [
        "### Detect anomalies"
      ]
    },
    {
      "cell_type": "markdown",
      "metadata": {
        "id": "Xnh8wmkDsypN"
      },
      "source": [
        "Detect anomalies by calculating whether the reconstruction loss is greater than a fixed threshold. In this tutorial, you will calculate the mean average error for normal examples from the training set, then classify future examples as anomalous if the reconstruction error is higher than one standard deviation from the training set.\n"
      ]
    },
    {
      "cell_type": "markdown",
      "metadata": {
        "id": "TeuT8uTA5Y_w"
      },
      "source": [
        "Plot the reconstruction error on normal ECGs from the training set"
      ]
    },
    {
      "cell_type": "code",
      "metadata": {
        "id": "gwLuxrb-s0ss",
        "colab": {
          "base_uri": "https://localhost:8080/",
          "height": 279
        },
        "outputId": "1acc11f2-0b6c-483f-e29f-80c4a6322100"
      },
      "source": [
        "reconstructions = autoencoder.predict(normal_train_data)\n",
        "train_loss = tf.keras.losses.mae(reconstructions, normal_train_data)\n",
        "\n",
        "plt.hist(train_loss, bins=50)\n",
        "plt.xlabel(\"Train loss\")\n",
        "plt.ylabel(\"No of examples\")\n",
        "plt.show()"
      ],
      "execution_count": 65,
      "outputs": [
        {
          "output_type": "display_data",
          "data": {
            "image/png": "[encoded data removed]",
            "text/plain": [
              "<Figure size 432x288 with 1 Axes>"
            ]
          },
          "metadata": {
            "tags": [],
            "needs_background": "light"
          }
        }
      ]
    },
    {
      "cell_type": "markdown",
      "metadata": {
        "id": "mh-3ChEF5hog"
      },
      "source": [
        "Choose a threshold value that is one standard deviations above the mean."
      ]
    },
    {
      "cell_type": "code",
      "metadata": {
        "id": "82hkl0Chs3P_",
        "colab": {
          "base_uri": "https://localhost:8080/"
        },
        "outputId": "2a653c2d-21d3-49ba-fb1a-011befb0a8e7"
      },
      "source": [
        "threshold = np.mean(train_loss) + np.std(train_loss)\n",
        "print(\"Threshold: \", threshold)"
      ],
      "execution_count": 66,
      "outputs": [
        {
          "output_type": "stream",
          "text": [
            "Threshold:  0.0366093\n"
          ],
          "name": "stdout"
        }
      ]
    },
    {
      "cell_type": "markdown",
      "metadata": {
        "id": "uEGlA1Be50Nj"
      },
      "source": [
        "Note: There are other strategies you could use to select a threshold value above which test examples should be classified as anomalous, the correct approach will depend on your dataset. You can learn more with the links at the end of this tutorial. "
      ]
    },
    {
      "cell_type": "markdown",
      "metadata": {
        "id": "zpLSDAeb51D_"
      },
      "source": [
        "If you examine the reconstruction error for the anomalous examples in the test set, you'll notice most have greater reconstruction error than the threshold. By varing the threshold, you can adjust the [precision](https://developers.google.com/machine-learning/glossary#precision) and [recall](https://developers.google.com/machine-learning/glossary#recall) of your classifier. "
      ]
    },
    {
      "cell_type": "code",
      "metadata": {
        "id": "sKVwjQK955Wy",
        "colab": {
          "base_uri": "https://localhost:8080/",
          "height": 279
        },
        "outputId": "ebc9f718-c606-429b-bd6d-5bfad022f1e7"
      },
      "source": [
        "reconstructions = autoencoder.predict(anomalous_test_data)\n",
        "test_loss = tf.keras.losses.mae(reconstructions, anomalous_test_data)\n",
        "\n",
        "plt.hist(test_loss, bins=50)\n",
        "plt.xlabel(\"Test loss\")\n",
        "plt.ylabel(\"No of examples\")\n",
        "plt.show()"
      ],
      "execution_count": 67,
      "outputs": [
        {
          "output_type": "display_data",
          "data": {
            "image/png": "[encoded data removed]",
            "text/plain": [
              "<Figure size 432x288 with 1 Axes>"
            ]
          },
          "metadata": {
            "tags": [],
            "needs_background": "light"
          }
        }
      ]
    },
    {
      "cell_type": "markdown",
      "metadata": {
        "id": "PFVk_XGE6AX2"
      },
      "source": [
        "Classify an ECG as an anomaly if the reconstruction error is greater than the threshold."
      ]
    },
    {
      "cell_type": "code",
      "metadata": {
        "id": "mkgJZfhh6CHr"
      },
      "source": [
        "def predict(model, data, threshold):\n",
        "  reconstructions = model(data)\n",
        "  loss = tf.keras.losses.mae(reconstructions, data)\n",
        "  return tf.math.less(loss, threshold)\n",
        "\n",
        "def print_stats(predictions, labels):\n",
        "  print(\"Accuracy = {}\".format(accuracy_score(labels, preds)))\n",
        "  print(\"Precision = {}\".format(precision_score(labels, preds)))\n",
        "  print(\"Recall = {}\".format(recall_score(labels, preds)))"
      ],
      "execution_count": 68,
      "outputs": []
    },
    {
      "cell_type": "code",
      "metadata": {
        "id": "sOcfXfXq6FBd",
        "colab": {
          "base_uri": "https://localhost:8080/"
        },
        "outputId": "9c0d49a1-c232-4ead-d171-cfd8bb985d44"
      },
      "source": [
        "preds = predict(autoencoder, test_data, threshold)\n",
        "print_stats(preds, test_labels)\n",
        "\n",
        "## epochs=20, batch_size=512\n",
        "# Accuracy = 0.945\n",
        "# Precision = 0.9922027290448343\n",
        "# Recall = 0.9089285714285714\n",
        "\n",
        "#           # epochs=20, \n",
        "#           # batch_size=512*2,\n",
        "# Accuracy = 0.944\n",
        "# Precision = 0.9941176470588236\n",
        "# Recall = 0.9053571428571429\n",
        "\n",
        "\n",
        "# # epochs=30, \n",
        "# # batch_size=512,\n",
        "# Accuracy = 0.939\n",
        "# Precision = 0.994059405940594\n",
        "# Recall = 0.8964285714285715"
      ],
      "execution_count": 69,
      "outputs": [
        {
          "output_type": "stream",
          "text": [
            "Accuracy = 0.944\n",
            "Precision = 0.9941176470588236\n",
            "Recall = 0.9053571428571429\n"
          ],
          "name": "stdout"
        }
      ]
    },
    {
      "cell_type": "code",
      "metadata": {
        "colab": {
          "base_uri": "https://localhost:8080/"
        },
        "id": "JJu8-ra47K-F",
        "outputId": "a922433d-db27-4b83-c4e9-7d0cb2e94ebe"
      },
      "source": [
        "2/(1/(0.9941176470588236)+1/(0.9053571428571429))"
      ],
      "execution_count": 97,
      "outputs": [
        {
          "output_type": "execute_result",
          "data": {
            "text/plain": [
              "0.9476635514018691"
            ]
          },
          "metadata": {
            "tags": []
          },
          "execution_count": 97
        }
      ]
    },
    {
      "cell_type": "markdown",
      "metadata": {
        "id": "tRzDjeHy7Lum"
      },
      "source": [
        "Batch size impacts learning significantly. What happens when you put a batch through your network is that you average the gradients. The concept is that if your batch size is big enough, this will provide a stable enough estimate of what the gradient of the full dataset would be. By taking samples from your dataset, you estimate the gradient while reducing computational cost significantly. The lower you go, the less accurate your esttimate will be, however in some cases these noisy gradients can actually help escape local minima. When it is too low, your network weights can just jump around if your data is noisy and it might be unable to learn or it converges very slowly, thus negatively impacting total computation time.\r\n",
        "\r\n",
        "Another advantage of batching is for GPU computation, GPUs are very good at parallelizing the calculations that happen in neural networks if part of the computation is the same (for example, repeated matrix multiplication over the same weight matrix of your network). This means that a batch size of 16 will take less than twice the amount of a batch size of 8.\r\n",
        "\r\n",
        "In the case that you do need bigger batch sizes but it will not fit on your GPU, you can feed a small batch, save the gradient estimates and feed one or more batches, and then do a weight update. This way you get a more stable gradient because you increased your virtual batch size."
      ]
    },
    {
      "cell_type": "markdown",
      "metadata": {
        "id": "HrJRef8Ln945"
      },
      "source": [
        "## Next steps\n",
        "\n",
        "To learn more about anomaly detection with autoencoders, check out this excellent [interactive example](https://anomagram.fastforwardlabs.com/#/) built with TensorFlow.js by Victor Dibia. For a real-world use case, you can learn how [Airbus Detects Anomalies in ISS Telemetry Data](https://blog.tensorflow.org/2020/04/how-airbus-detects-anomalies-iss-telemetry-data-tfx.html) using TensorFlow. To learn more about the basics, consider reading this [blog post](https://blog.keras.io/building-autoencoders-in-keras.html) by François Chollet. For more details, check out chapter 14 from [Deep Learning](https://www.deeplearningbook.org/) by Ian Goodfellow, Yoshua Bengio, and Aaron Courville.\n"
      ]
    },
    {
      "cell_type": "code",
      "metadata": {
        "colab": {
          "base_uri": "https://localhost:8080/"
        },
        "id": "EXviXhr27pYl",
        "outputId": "63ab4a6c-2a2d-4f3e-82b6-0588cba93f92"
      },
      "source": [
        "dataframe.shape"
      ],
      "execution_count": 71,
      "outputs": [
        {
          "output_type": "execute_result",
          "data": {
            "text/plain": [
              "(4998, 141)"
            ]
          },
          "metadata": {
            "tags": []
          },
          "execution_count": 71
        }
      ]
    },
    {
      "cell_type": "markdown",
      "metadata": {
        "id": "wxUUFu5eABXW"
      },
      "source": [
        "# **Compare** LogisticRegression\r\n",
        "\r\n",
        "similar Accuracy"
      ]
    },
    {
      "cell_type": "code",
      "metadata": {
        "id": "mj7Ol3a88QSQ"
      },
      "source": [
        "from sklearn.linear_model import LogisticRegression\r\n",
        "import numpy as np\r\n",
        "import pandas as pd\r\n",
        "from sklearn.metrics import average_precision_score, roc_auc_score\r\n",
        "from sklearn.metrics import roc_curve, auc, accuracy_score  # log_loss\r\n",
        "from sklearn.model_selection import KFold, train_test_split, GridSearchCV\r\n",
        "from sklearn.preprocessing import StandardScaler"
      ],
      "execution_count": 75,
      "outputs": []
    },
    {
      "cell_type": "code",
      "metadata": {
        "colab": {
          "base_uri": "https://localhost:8080/"
        },
        "id": "r_nV57IC7pnX",
        "outputId": "42cc9407-f0bd-4688-c528-fdb1fe046084"
      },
      "source": [
        "def gs(X, y, m, param, scoring, cv, n_jobs):\r\n",
        "    GridSearch = GridSearchCV(m, param, scoring=scoring, cv=cv, n_jobs=n_jobs)\r\n",
        "    GridSearch.fit(X=X, y=y)\r\n",
        "    model = GridSearch.best_estimator_\r\n",
        "    print('best_score_:', GridSearch.best_score_, GridSearch.best_params_)\r\n",
        "    return model\r\n",
        "\r\n",
        "def classify_LR(y, X, seed=2020, scoring='f1', cv=5, n_jobs=4):\r\n",
        "    cols = X.columns\r\n",
        "    param = {'C': [10**-1, 10**0, 10]}\r\n",
        "    m = LogisticRegression(class_weight='balanced',\r\n",
        "                           solver='liblinear', tol=0.001, random_state=seed)\r\n",
        "    model = gs(X, y, m, param, scoring=scoring, cv=cv, n_jobs=n_jobs)\r\n",
        "    coef = pd.DataFrame(list(zip(cols, np.round(\r\n",
        "        model.coef_[0], 2))), columns=['Variable', 'coef_'])\r\n",
        "    coef['imp'] = coef['coef_'].abs()\r\n",
        "    return model, coef.sort_values('imp', ascending=False)\r\n",
        "\r\n",
        "\r\n",
        "# The last element contains the labels\r\n",
        "y = raw_data[:, -1]\r\n",
        "# The other data points are the electrocadriogram data\r\n",
        "X = raw_data[:, 0:-1]\r\n",
        "Xtrain, Xtest, ytrain, ytest = train_test_split(\r\n",
        "    X, y, test_size=0.2, random_state=21\r\n",
        ")\r\n",
        "\r\n",
        "\r\n",
        "min_max_scaler = StandardScaler()  # MinMaxScaler()\r\n",
        "Xtrain_ = min_max_scaler.fit_transform(Xtrain)\r\n",
        "Xtest = min_max_scaler.transform(Xtest)\r\n",
        "Xtrain = pd.DataFrame(Xtrain_)\r\n",
        "m, imp = classify_LR(ytrain, Xtrain)\r\n",
        "ytest_pred = m.predict(Xtest)\r\n",
        "\r\n",
        "# 5 folds cv\r\n",
        "# roc_auc best_score_: 0.9971233243611535 {'C': 0.1}\r\n",
        "# f1 best_score_: 0.9899175097774314 {'C': 1}  \r\n",
        "\r\n",
        "\r\n",
        "# test score\r\n",
        "print_stats(ytest_pred, ytest)\r\n",
        "# # 5 folds train cv f1 best_score_: 0.9902540924105724 {'C': 0.1}\r\n",
        "# Accuracy = 0.944\r\n",
        "# Precision = 0.9941176470588236\r\n",
        "# Recall = 0.9053571428571429"
      ],
      "execution_count": 103,
      "outputs": [
        {
          "output_type": "stream",
          "text": [
            "best_score_: 0.9902540924105724 {'C': 0.1}\n",
            "Accuracy = 0.944\n",
            "Precision = 0.9941176470588236\n",
            "Recall = 0.9053571428571429\n"
          ],
          "name": "stdout"
        }
      ]
    },
    {
      "cell_type": "code",
      "metadata": {
        "colab": {
          "base_uri": "https://localhost:8080/",
          "height": 305
        },
        "id": "w9WvINFs9b3p",
        "outputId": "51b91a80-c52f-48af-85a6-a15a728c8adb"
      },
      "source": [
        "imp.sort_index().plot(kind='bar', x='Variable', y='coef_')"
      ],
      "execution_count": 101,
      "outputs": [
        {
          "output_type": "execute_result",
          "data": {
            "text/plain": [
              "<matplotlib.axes._subplots.AxesSubplot at 0x7ffabb8b9a10>"
            ]
          },
          "metadata": {
            "tags": []
          },
          "execution_count": 101
        },
        {
          "output_type": "display_data",
          "data": {
            "image/png": "[encoded data removed]",
            "text/plain": [
              "<Figure size 432x288 with 1 Axes>"
            ]
          },
          "metadata": {
            "tags": [],
            "needs_background": "light"
          }
        }
      ]
    },
    {
      "cell_type": "code",
      "metadata": {
        "colab": {
          "base_uri": "https://localhost:8080/",
          "height": 305
        },
        "id": "uzE-Z6OI8LF8",
        "outputId": "6ad00355-6a57-4939-a750-9e2bf713c5cc"
      },
      "source": [
        "imp.plot(kind='bar', x='Variable', y='coef_')"
      ],
      "execution_count": 100,
      "outputs": [
        {
          "output_type": "execute_result",
          "data": {
            "text/plain": [
              "<matplotlib.axes._subplots.AxesSubplot at 0x7ffab8ede7d0>"
            ]
          },
          "metadata": {
            "tags": []
          },
          "execution_count": 100
        },
        {
          "output_type": "display_data",
          "data": {
            "image/png": "[encoded data removed]",
            "text/plain": [
              "<Figure size 432x288 with 1 Axes>"
            ]
          },
          "metadata": {
            "tags": [],
            "needs_background": "light"
          }
        }
      ]
    }
  ]
}